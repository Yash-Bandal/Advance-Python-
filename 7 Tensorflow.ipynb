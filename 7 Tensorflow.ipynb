{
  "cells": [
    {
      "cell_type": "markdown",
      "metadata": {
        "id": "ApVtxd7WPL0P"
      },
      "source": [
        "#Introduction to tensorflow library\n",
        "-TensorFlow is an open-source machine learning library developed by Google.\n",
        "\n",
        "-TensorFlow is used to build and train deep learning models as it facilitates the creation of computational graphs and efficient execution on various hardware platforms.\n",
        "\n",
        "-The article provides an comprehensive overview of tensorflow"
      ]
    },
    {
      "cell_type": "markdown",
      "metadata": {
        "id": "Izzo3SDKPw-s"
      },
      "source": [
        "#Importing the required libraries"
      ]
    },
    {
      "cell_type": "code",
      "execution_count": 1,
      "metadata": {
        "id": "R66urDf1P1Ho"
      },
      "outputs": [],
      "source": [
        "import tensorflow as tf\n",
        "import numpy as np"
      ]
    },
    {
      "cell_type": "markdown",
      "source": [
        "#"
      ],
      "metadata": {
        "id": "fMO8RLe1eP_i"
      }
    },
    {
      "cell_type": "markdown",
      "metadata": {
        "id": "YmfxK1vQP6tg"
      },
      "source": [
        "#(1)creating a constant tensor () =>\n",
        "-The tf.constant() function is used to create a TensorFlow tensor with fixed values.\n",
        "\n",
        "-It stores data like numbers or arrays in a way that TensorFlow can process for machine learning tasks.\n",
        "\n",
        "-You can also specify the data type, such as integers or floats."
      ]
    },
    {
      "cell_type": "code",
      "execution_count": null,
      "metadata": {
        "colab": {
          "base_uri": "https://localhost:8080/"
        },
        "id": "tg7XRnKvP__q",
        "outputId": "bfd9790e-d38d-429f-e459-ad9714062ff2"
      },
      "outputs": [
        {
          "name": "stdout",
          "output_type": "stream",
          "text": [
            "tf.Tensor([1 2 3], shape=(3,), dtype=int32)\n"
          ]
        }
      ],
      "source": [
        "#tf.constant([1, 2, 3]) => This creates a TensorFlow tensor (a kind of data structure) containing the values [1, 2, 3].\n",
        "#its immutable\n",
        "tensor1 = tf.constant([1, 2, 3])\n",
        "print(tensor1)"
      ]
    },
    {
      "cell_type": "markdown",
      "source": [
        " # (1.1)tf.Variable() =>"
      ],
      "metadata": {
        "id": "0_UFGlWLhJr3"
      }
    },
    {
      "cell_type": "code",
      "source": [
        "#tf.variable\n",
        "#its mutable\n",
        "variable_tensor = tf.Variable([1, 2, 3])\n",
        "print(variable_tensor)\n",
        "\n",
        "\n",
        "weight = tf.Variable(0.0)\n",
        "\n",
        "# Assign a new value\n",
        "weight.assign(2.0)\n",
        "# Increment the variable by 1\n",
        "weight.assign_add(1.0)\n",
        "print(weight)\n"
      ],
      "metadata": {
        "colab": {
          "base_uri": "https://localhost:8080/"
        },
        "id": "TZ6cjIUNhG52",
        "outputId": "160bec2e-7eb5-4ff3-a00d-a7f5d8ae7d98"
      },
      "execution_count": 3,
      "outputs": [
        {
          "output_type": "stream",
          "name": "stdout",
          "text": [
            "<tf.Variable 'Variable:0' shape=(3,) dtype=int32, numpy=array([1, 2, 3], dtype=int32)>\n",
            "<tf.Variable 'Variable:0' shape=() dtype=float32, numpy=3.0>\n"
          ]
        }
      ]
    },
    {
      "cell_type": "markdown",
      "metadata": {
        "id": "bYYxqzToQ80m"
      },
      "source": [
        "#(2)tf.random() =>\n",
        "-tf.random.uniform() generates a tensor filled with random numbers from a uniform distribution, where all values between a specified range (e.g., minval and maxval) have an equal chance of being chosen.\n",
        "\n",
        "- It's useful for initializing variables or creating random data in machine learning models."
      ]
    },
    {
      "cell_type": "code",
      "execution_count": null,
      "metadata": {
        "colab": {
          "base_uri": "https://localhost:8080/"
        },
        "id": "TnqdfPwoRFBB",
        "outputId": "c4805fb7-06c6-4443-8301-9b1f89713e50"
      },
      "outputs": [
        {
          "name": "stdout",
          "output_type": "stream",
          "text": [
            "tf.Tensor(\n",
            "[[0.11997771 0.03074241 0.41245222]\n",
            " [0.3929956  0.09057045 0.14413905]\n",
            " [0.371287   0.9743335  0.09112883]], shape=(3, 3), dtype=float32)\n"
          ]
        }
      ],
      "source": [
        "#tf.random.uniform() => This is a TensorFlow function that generates a tensor with random values drawn from a uniform distribution.\n",
        "                        #In a uniform distribution, all values in a given range are equally likely.\n",
        "#minval=0 => The smallest possible value that can appear in the tensor is 0.\n",
        "#maxval=1 => The values generated will be between 0 (inclusive) and 1 (exclusive), meaning they can be as large as 0.9999 but never exactly 1.\n",
        "\n",
        "random_tensor = tf.random.uniform([3, 3], minval=0, maxval=1)\n",
        "print(random_tensor)"
      ]
    },
    {
      "cell_type": "markdown",
      "metadata": {
        "id": "qQXETjXETgLm"
      },
      "source": [
        "#(3)tf.reshape() =>\n",
        "-This TensorFlow function reshapes a given tensor without changing its data.\n",
        "- It changes the shape (or structure) of the tensor but keeps the same number of elements."
      ]
    },
    {
      "cell_type": "code",
      "execution_count": 53,
      "metadata": {
        "colab": {
          "base_uri": "https://localhost:8080/",
          "height": 383
        },
        "id": "GIMUgAiMTnPE",
        "outputId": "519dac64-29c5-4214-ea95-ab531e379bfc"
      },
      "outputs": [
        {
          "output_type": "error",
          "ename": "InvalidArgumentError",
          "evalue": "{{function_node __wrapped__Reshape_device_/job:localhost/replica:0/task:0/device:CPU:0}} Input to reshape is a tensor with 4 values, but the requested shape has 3 [Op:Reshape]",
          "traceback": [
            "\u001b[0;31m---------------------------------------------------------------------------\u001b[0m",
            "\u001b[0;31mInvalidArgumentError\u001b[0m                      Traceback (most recent call last)",
            "\u001b[0;32m<ipython-input-53-c3598715a596>\u001b[0m in \u001b[0;36m<cell line: 4>\u001b[0;34m()\u001b[0m\n\u001b[1;32m      2\u001b[0m \u001b[0;31m#[3, 1]: This specifies the new shape of the tensor.\u001b[0m\u001b[0;34m\u001b[0m\u001b[0;34m\u001b[0m\u001b[0m\n\u001b[1;32m      3\u001b[0m \u001b[0;34m\u001b[0m\u001b[0m\n\u001b[0;32m----> 4\u001b[0;31m \u001b[0mreshaped_tensor\u001b[0m \u001b[0;34m=\u001b[0m \u001b[0mtf\u001b[0m\u001b[0;34m.\u001b[0m\u001b[0mreshape\u001b[0m\u001b[0;34m(\u001b[0m\u001b[0mtensor1\u001b[0m\u001b[0;34m,\u001b[0m \u001b[0;34m[\u001b[0m\u001b[0;36m3\u001b[0m\u001b[0;34m,\u001b[0m \u001b[0;36m1\u001b[0m\u001b[0;34m]\u001b[0m\u001b[0;34m)\u001b[0m\u001b[0;34m\u001b[0m\u001b[0;34m\u001b[0m\u001b[0m\n\u001b[0m\u001b[1;32m      5\u001b[0m \u001b[0mprint\u001b[0m\u001b[0;34m(\u001b[0m\u001b[0mreshaped_tensor\u001b[0m\u001b[0;34m)\u001b[0m\u001b[0;34m\u001b[0m\u001b[0;34m\u001b[0m\u001b[0m\n",
            "\u001b[0;32m/usr/local/lib/python3.10/dist-packages/tensorflow/python/ops/weak_tensor_ops.py\u001b[0m in \u001b[0;36mwrapper\u001b[0;34m(*args, **kwargs)\u001b[0m\n\u001b[1;32m     86\u001b[0m   \u001b[0;32mdef\u001b[0m \u001b[0mwrapper\u001b[0m\u001b[0;34m(\u001b[0m\u001b[0;34m*\u001b[0m\u001b[0margs\u001b[0m\u001b[0;34m,\u001b[0m \u001b[0;34m**\u001b[0m\u001b[0mkwargs\u001b[0m\u001b[0;34m)\u001b[0m\u001b[0;34m:\u001b[0m\u001b[0;34m\u001b[0m\u001b[0;34m\u001b[0m\u001b[0m\n\u001b[1;32m     87\u001b[0m     \u001b[0;32mif\u001b[0m \u001b[0;32mnot\u001b[0m \u001b[0mops\u001b[0m\u001b[0;34m.\u001b[0m\u001b[0mis_auto_dtype_conversion_enabled\u001b[0m\u001b[0;34m(\u001b[0m\u001b[0;34m)\u001b[0m\u001b[0;34m:\u001b[0m\u001b[0;34m\u001b[0m\u001b[0;34m\u001b[0m\u001b[0m\n\u001b[0;32m---> 88\u001b[0;31m       \u001b[0;32mreturn\u001b[0m \u001b[0mop\u001b[0m\u001b[0;34m(\u001b[0m\u001b[0;34m*\u001b[0m\u001b[0margs\u001b[0m\u001b[0;34m,\u001b[0m \u001b[0;34m**\u001b[0m\u001b[0mkwargs\u001b[0m\u001b[0;34m)\u001b[0m\u001b[0;34m\u001b[0m\u001b[0;34m\u001b[0m\u001b[0m\n\u001b[0m\u001b[1;32m     89\u001b[0m     \u001b[0mbound_arguments\u001b[0m \u001b[0;34m=\u001b[0m \u001b[0msignature\u001b[0m\u001b[0;34m.\u001b[0m\u001b[0mbind\u001b[0m\u001b[0;34m(\u001b[0m\u001b[0;34m*\u001b[0m\u001b[0margs\u001b[0m\u001b[0;34m,\u001b[0m \u001b[0;34m**\u001b[0m\u001b[0mkwargs\u001b[0m\u001b[0;34m)\u001b[0m\u001b[0;34m\u001b[0m\u001b[0;34m\u001b[0m\u001b[0m\n\u001b[1;32m     90\u001b[0m     \u001b[0mbound_arguments\u001b[0m\u001b[0;34m.\u001b[0m\u001b[0mapply_defaults\u001b[0m\u001b[0;34m(\u001b[0m\u001b[0;34m)\u001b[0m\u001b[0;34m\u001b[0m\u001b[0;34m\u001b[0m\u001b[0m\n",
            "\u001b[0;32m/usr/local/lib/python3.10/dist-packages/tensorflow/python/util/traceback_utils.py\u001b[0m in \u001b[0;36merror_handler\u001b[0;34m(*args, **kwargs)\u001b[0m\n\u001b[1;32m    151\u001b[0m     \u001b[0;32mexcept\u001b[0m \u001b[0mException\u001b[0m \u001b[0;32mas\u001b[0m \u001b[0me\u001b[0m\u001b[0;34m:\u001b[0m\u001b[0;34m\u001b[0m\u001b[0;34m\u001b[0m\u001b[0m\n\u001b[1;32m    152\u001b[0m       \u001b[0mfiltered_tb\u001b[0m \u001b[0;34m=\u001b[0m \u001b[0m_process_traceback_frames\u001b[0m\u001b[0;34m(\u001b[0m\u001b[0me\u001b[0m\u001b[0;34m.\u001b[0m\u001b[0m__traceback__\u001b[0m\u001b[0;34m)\u001b[0m\u001b[0;34m\u001b[0m\u001b[0;34m\u001b[0m\u001b[0m\n\u001b[0;32m--> 153\u001b[0;31m       \u001b[0;32mraise\u001b[0m \u001b[0me\u001b[0m\u001b[0;34m.\u001b[0m\u001b[0mwith_traceback\u001b[0m\u001b[0;34m(\u001b[0m\u001b[0mfiltered_tb\u001b[0m\u001b[0;34m)\u001b[0m \u001b[0;32mfrom\u001b[0m \u001b[0;32mNone\u001b[0m\u001b[0;34m\u001b[0m\u001b[0;34m\u001b[0m\u001b[0m\n\u001b[0m\u001b[1;32m    154\u001b[0m     \u001b[0;32mfinally\u001b[0m\u001b[0;34m:\u001b[0m\u001b[0;34m\u001b[0m\u001b[0;34m\u001b[0m\u001b[0m\n\u001b[1;32m    155\u001b[0m       \u001b[0;32mdel\u001b[0m \u001b[0mfiltered_tb\u001b[0m\u001b[0;34m\u001b[0m\u001b[0;34m\u001b[0m\u001b[0m\n",
            "\u001b[0;32m/usr/local/lib/python3.10/dist-packages/tensorflow/python/eager/execute.py\u001b[0m in \u001b[0;36mquick_execute\u001b[0;34m(op_name, num_outputs, inputs, attrs, ctx, name)\u001b[0m\n\u001b[1;32m     51\u001b[0m   \u001b[0;32mtry\u001b[0m\u001b[0;34m:\u001b[0m\u001b[0;34m\u001b[0m\u001b[0;34m\u001b[0m\u001b[0m\n\u001b[1;32m     52\u001b[0m     \u001b[0mctx\u001b[0m\u001b[0;34m.\u001b[0m\u001b[0mensure_initialized\u001b[0m\u001b[0;34m(\u001b[0m\u001b[0;34m)\u001b[0m\u001b[0;34m\u001b[0m\u001b[0;34m\u001b[0m\u001b[0m\n\u001b[0;32m---> 53\u001b[0;31m     tensors = pywrap_tfe.TFE_Py_Execute(ctx._handle, device_name, op_name,\n\u001b[0m\u001b[1;32m     54\u001b[0m                                         inputs, attrs, num_outputs)\n\u001b[1;32m     55\u001b[0m   \u001b[0;32mexcept\u001b[0m \u001b[0mcore\u001b[0m\u001b[0;34m.\u001b[0m\u001b[0m_NotOkStatusException\u001b[0m \u001b[0;32mas\u001b[0m \u001b[0me\u001b[0m\u001b[0;34m:\u001b[0m\u001b[0;34m\u001b[0m\u001b[0;34m\u001b[0m\u001b[0m\n",
            "\u001b[0;31mInvalidArgumentError\u001b[0m: {{function_node __wrapped__Reshape_device_/job:localhost/replica:0/task:0/device:CPU:0}} Input to reshape is a tensor with 4 values, but the requested shape has 3 [Op:Reshape]"
          ]
        }
      ],
      "source": [
        "#tensor1: This is the tensor you want to reshape.\n",
        "#[3, 1]: This specifies the new shape of the tensor.\n",
        "\n",
        "reshaped_tensor = tf.reshape(tensor1, [3, 1])\n",
        "print(reshaped_tensor)"
      ]
    },
    {
      "cell_type": "markdown",
      "source": [],
      "metadata": {
        "id": "mi_AG0D7gWkX"
      }
    },
    {
      "cell_type": "code",
      "source": [
        "\n"
      ],
      "metadata": {
        "colab": {
          "base_uri": "https://localhost:8080/"
        },
        "id": "5e0ATx1Aggfm",
        "outputId": "ca935b7b-bb01-43ea-b718-a453f61e27b8"
      },
      "execution_count": 2,
      "outputs": [
        {
          "output_type": "stream",
          "name": "stdout",
          "text": [
            "<tf.Variable 'Variable:0' shape=(3,) dtype=int32, numpy=array([1, 2, 3], dtype=int32)>\n"
          ]
        }
      ]
    },
    {
      "cell_type": "markdown",
      "metadata": {
        "id": "DCqsAoOjUab8"
      },
      "source": [
        "#(4)tf.matmul () =>\n",
        "-This TensorFlow function performs matrix multiplication between two tensors."
      ]
    },
    {
      "cell_type": "code",
      "execution_count": 5,
      "metadata": {
        "colab": {
          "base_uri": "https://localhost:8080/"
        },
        "id": "vtsvXCeAUhSI",
        "outputId": "89936d92-7787-460d-c9f6-ead9e19fcd24"
      },
      "outputs": [
        {
          "output_type": "stream",
          "name": "stdout",
          "text": [
            "tf.Tensor(\n",
            "[[19 22]\n",
            " [43 50]], shape=(2, 2), dtype=int32)\n"
          ]
        }
      ],
      "source": [
        "\n",
        "tensor_a = tf.constant([[1, 2], [3, 4]])\n",
        "tensor_b = tf.constant([[5, 6], [7, 8]])\n",
        "matmul_result = tf.matmul(tensor_a, tensor_b)\n",
        "print(matmul_result)"
      ]
    },
    {
      "cell_type": "markdown",
      "metadata": {
        "id": "4gQ7EjI0U9Sf"
      },
      "source": [
        "#(5)tf.transpose () =>\n",
        "-tf.transpose() swaps the axes (dimensions) of a tensor, effectively flipping it along its axes.\n",
        "- It's commonly used to change the shape of a matrix or higher-dimensional tensor, like converting rows into columns or vice versa"
      ]
    },
    {
      "cell_type": "code",
      "execution_count": 6,
      "metadata": {
        "colab": {
          "base_uri": "https://localhost:8080/"
        },
        "id": "X9As5Pf7VCgy",
        "outputId": "7fb25d90-c450-4a18-dc02-6a4cfdca669d"
      },
      "outputs": [
        {
          "output_type": "stream",
          "name": "stdout",
          "text": [
            "tf.Tensor(\n",
            "[[1 2]\n",
            " [3 4]], shape=(2, 2), dtype=int32)\n",
            "\n",
            "\n",
            "tf.Tensor(\n",
            "[[1 3]\n",
            " [2 4]], shape=(2, 2), dtype=int32)\n"
          ]
        }
      ],
      "source": [
        "print(tensor_a)\n",
        "print(\"\\n\")\n",
        "transposed_tensor = tf.transpose(tensor_a)\n",
        "print(transposed_tensor)"
      ]
    },
    {
      "cell_type": "markdown",
      "metadata": {
        "id": "qPuLIYORVZOU"
      },
      "source": [
        "#(6)reduce_sum () =>\n",
        "-tf.reduce_sum() calculates the sum of elements across a tensor's dimensions.\n",
        "- You can sum over all elements or specify a particular axis (dimension) to reduce, making it useful for tasks like summing rows, columns, or the entire tensor."
      ]
    },
    {
      "cell_type": "code",
      "execution_count": 8,
      "metadata": {
        "colab": {
          "base_uri": "https://localhost:8080/"
        },
        "id": "SGITsnfiVfFZ",
        "outputId": "5d36e819-d937-4d57-c163-7b5454694356"
      },
      "outputs": [
        {
          "output_type": "stream",
          "name": "stdout",
          "text": [
            "tf.Tensor(\n",
            "[[1 2]\n",
            " [3 4]], shape=(2, 2), dtype=int32)\n",
            "\n",
            "\n",
            "tf.Tensor([4 6], shape=(2,), dtype=int32)\n"
          ]
        }
      ],
      "source": [
        "print(tensor_a)\n",
        "print(\"\\n\")\n",
        "sum_tensor = tf.reduce_sum(tensor_a,axis=0)\n",
        "print(sum_tensor)"
      ]
    },
    {
      "cell_type": "markdown",
      "metadata": {
        "id": "0du4WFQJV18Q"
      },
      "source": [
        "#(7)reduce_mean() =>\n",
        "-tf.reduce_mean() computes the average (mean) of elements across a tensor's dimensions.\n",
        "\n",
        "- You can calculate the mean of all elements or specify an axis to reduce, which is helpful for averaging values across specific dimensions, like rows or columns, in a tensor"
      ]
    },
    {
      "cell_type": "code",
      "execution_count": 9,
      "metadata": {
        "colab": {
          "base_uri": "https://localhost:8080/"
        },
        "id": "JiI4AeLpV6EE",
        "outputId": "8ce73820-6493-4d30-95d7-a55baeed7d67"
      },
      "outputs": [
        {
          "output_type": "stream",
          "name": "stdout",
          "text": [
            "tf.Tensor(\n",
            "[[1 2]\n",
            " [3 4]], shape=(2, 2), dtype=int32)\n",
            "\n",
            "\n",
            "tf.Tensor([2 3], shape=(2,), dtype=int32)\n"
          ]
        }
      ],
      "source": [
        "print(tensor_a)\n",
        "print(\"\\n\")\n",
        "mean_tensor = tf.reduce_mean(tensor_a,axis=0)\n",
        "print(mean_tensor)"
      ]
    },
    {
      "cell_type": "markdown",
      "metadata": {
        "id": "YKPIPS0lWgpO"
      },
      "source": [
        "#(8)tf.reduce_max() =>\n",
        "-computes the maximum value of elements in a tensor across specified dimensions.\n",
        "- You can use it to find the maximum of all elements or along a particular axis, such as the highest value in a row or column of a tensor"
      ]
    },
    {
      "cell_type": "code",
      "execution_count": null,
      "metadata": {
        "colab": {
          "base_uri": "https://localhost:8080/"
        },
        "id": "qEXwIKyEWkQT",
        "outputId": "c2ed4b47-7e99-430b-8846-2e13b2c4845f"
      },
      "outputs": [
        {
          "name": "stdout",
          "output_type": "stream",
          "text": [
            "tf.Tensor(\n",
            "[[5 6]\n",
            " [7 8]], shape=(2, 2), dtype=int32)\n",
            "\n",
            "\n",
            "tf.Tensor(8, shape=(), dtype=int32)\n"
          ]
        }
      ],
      "source": [
        "print(tensor_b)\n",
        "print(\"\\n\")\n",
        "max_tensor = tf.reduce_max(tensor_b)\n",
        "print(max_tensor)"
      ]
    },
    {
      "cell_type": "markdown",
      "metadata": {
        "id": "etZbs3iUXekg"
      },
      "source": [
        "#(9)tf.add() =>\n",
        "-performs element-wise addition of two tensors. It adds corresponding elements from the two tensors, and the tensors must have the same shape (or be broadcastable).\n",
        "- This function is useful for adding matrices, vectors, or scalars in TensorFlow operations."
      ]
    },
    {
      "cell_type": "code",
      "execution_count": null,
      "metadata": {
        "colab": {
          "base_uri": "https://localhost:8080/"
        },
        "id": "7TY8swJOXjrB",
        "outputId": "6edab221-fe5c-4661-e69c-c72681e9a302"
      },
      "outputs": [
        {
          "name": "stdout",
          "output_type": "stream",
          "text": [
            "tf.Tensor(\n",
            "[[1 2]\n",
            " [3 4]], shape=(2, 2), dtype=int32)\n",
            "\n",
            "\n",
            "tf.Tensor(\n",
            "[[5 6]\n",
            " [7 8]], shape=(2, 2), dtype=int32)\n",
            "\n",
            "\n",
            "tf.Tensor(\n",
            "[[ 6  8]\n",
            " [10 12]], shape=(2, 2), dtype=int32)\n"
          ]
        }
      ],
      "source": [
        "#reduce sum play with single array...where as add play with 2+\n",
        "\n",
        "print(tensor_a)\n",
        "print(\"\\n\")\n",
        "print(tensor_b)\n",
        "print(\"\\n\")\n",
        "added_tensors = tf.add(tensor_a, tensor_b)\n",
        "print(added_tensors)"
      ]
    },
    {
      "cell_type": "markdown",
      "metadata": {
        "id": "ezUPPRb6YHDT"
      },
      "source": [
        "#(10)tf.subtract() =>\n",
        "-performs element-wise subtraction of two tensors in TensorFlow. It subtracts corresponding elements of the second tensor from the first tensor.\n",
        "- Both tensors must have the same shape (or be broadcastable). This function is used for subtracting matrices, vectors, or scalars"
      ]
    },
    {
      "cell_type": "code",
      "execution_count": null,
      "metadata": {
        "colab": {
          "base_uri": "https://localhost:8080/"
        },
        "id": "fYAir4T3YMLO",
        "outputId": "b79fe1e0-2789-482e-c69f-c3322b40045c"
      },
      "outputs": [
        {
          "name": "stdout",
          "output_type": "stream",
          "text": [
            "tf.Tensor(\n",
            "[[1 2]\n",
            " [3 4]], shape=(2, 2), dtype=int32)\n",
            "\n",
            "\n",
            "tf.Tensor(\n",
            "[[5 6]\n",
            " [7 8]], shape=(2, 2), dtype=int32)\n",
            "\n",
            "\n",
            "tf.Tensor(\n",
            "[[-4 -4]\n",
            " [-4 -4]], shape=(2, 2), dtype=int32)\n"
          ]
        }
      ],
      "source": [
        "print(tensor_a)\n",
        "print(\"\\n\")\n",
        "print(tensor_b)\n",
        "print(\"\\n\")\n",
        "subtracted_tensors = tf.subtract(tensor_a, tensor_b)\n",
        "print(subtracted_tensors)"
      ]
    },
    {
      "cell_type": "markdown",
      "metadata": {
        "id": "NC1UKd01ZKl5"
      },
      "source": [
        "#(11)tf.multiply() =>\n",
        "-performs element-wise multiplication of two tensors. It multiplies corresponding elements from both tensors, and they must have the same shape (or be broadcastable).\n",
        "- This function is commonly used for multiplying matrices, vectors, or scalars element by element in TensorFlow"
      ]
    },
    {
      "cell_type": "code",
      "execution_count": null,
      "metadata": {
        "colab": {
          "base_uri": "https://localhost:8080/"
        },
        "id": "b2ILEqsMZOvf",
        "outputId": "fb17a8dc-0f61-4772-e252-99db01844d08"
      },
      "outputs": [
        {
          "name": "stdout",
          "output_type": "stream",
          "text": [
            "tf.Tensor(\n",
            "[[1 2]\n",
            " [3 4]], shape=(2, 2), dtype=int32)\n",
            "\n",
            "\n",
            "tf.Tensor(\n",
            "[[5 6]\n",
            " [7 8]], shape=(2, 2), dtype=int32)\n",
            "\n",
            "\n",
            "tf.Tensor(\n",
            "[[ 5 12]\n",
            " [21 32]], shape=(2, 2), dtype=int32)\n"
          ]
        }
      ],
      "source": [
        "print(tensor_a)\n",
        "print(\"\\n\")\n",
        "print(tensor_b)\n",
        "print(\"\\n\")\n",
        "multiplied_tensors = tf.multiply(tensor_a, tensor_b)\n",
        "print(multiplied_tensors)\n"
      ]
    },
    {
      "cell_type": "markdown",
      "metadata": {
        "id": "ST-oOnrXZon2"
      },
      "source": [
        "#(12)tf.divide() ->\n",
        "-performs element-wise division of two tensors in TensorFlow. It divides corresponding elements of the first tensor by the second tensor, and both tensors must have the same shape (or be broadcastable).\n",
        "- This function is used for dividing matrices, vectors, or scalars element by element."
      ]
    },
    {
      "cell_type": "code",
      "execution_count": null,
      "metadata": {
        "colab": {
          "base_uri": "https://localhost:8080/"
        },
        "id": "fLJ5sc3zZrzl",
        "outputId": "ce9ca31d-2c11-423e-8e79-09931369fb74"
      },
      "outputs": [
        {
          "name": "stdout",
          "output_type": "stream",
          "text": [
            "tf.Tensor(\n",
            "[[1 2]\n",
            " [3 4]], shape=(2, 2), dtype=int32)\n",
            "\n",
            "\n",
            "tf.Tensor(\n",
            "[[5 6]\n",
            " [7 8]], shape=(2, 2), dtype=int32)\n",
            "\n",
            "\n",
            "tf.Tensor(\n",
            "[[0.2        0.33333333]\n",
            " [0.42857143 0.5       ]], shape=(2, 2), dtype=float64)\n"
          ]
        }
      ],
      "source": [
        "print(tensor_a)\n",
        "print(\"\\n\")\n",
        "print(tensor_b)\n",
        "print(\"\\n\")\n",
        "divided_tensors = tf.divide(tensor_a, tensor_b)\n",
        "print(divided_tensors)\n"
      ]
    },
    {
      "cell_type": "markdown",
      "metadata": {
        "id": "Xl2f5GTxaFIP"
      },
      "source": [
        "#(13)slice () =>\n",
        "-performing the slicing operation on tensor"
      ]
    },
    {
      "cell_type": "code",
      "execution_count": 38,
      "metadata": {
        "colab": {
          "base_uri": "https://localhost:8080/"
        },
        "id": "z0QpU3TSaHsl",
        "outputId": "df0355f6-6e6e-459f-9d7f-dfeb14661b72"
      },
      "outputs": [
        {
          "output_type": "stream",
          "name": "stdout",
          "text": [
            "Original Tensor (tensor_a):\n",
            " tf.Tensor(\n",
            "[[1 2 3]\n",
            " [4 5 6]\n",
            " [7 8 9]], shape=(3, 3), dtype=int32)\n",
            "\n",
            "\n",
            "Try:\n",
            " tf.Tensor([1 4 7], shape=(3,), dtype=int32)\n",
            "\n",
            "\n",
            "First Row :\n",
            " tf.Tensor([[1 2 3]], shape=(1, 3), dtype=int32)\n",
            "\n",
            "\n",
            "Second Row :\n",
            " tf.Tensor([[4 5 6]], shape=(1, 3), dtype=int32)\n",
            "\n",
            "\n",
            "Third Row :\n",
            " tf.Tensor([[7 8 9]], shape=(1, 3), dtype=int32)\n",
            "\n",
            "\n",
            "First Column :\n",
            " tf.Tensor([1 4 7], shape=(3,), dtype=int32)\n",
            "\n",
            "\n",
            "Second Column :\n",
            " tf.Tensor([2 5 8], shape=(3,), dtype=int32)\n",
            "\n",
            "\n",
            "Third Column :\n",
            " tf.Tensor([3 6 9], shape=(3,), dtype=int32)\n",
            "\n",
            "\n",
            "---------------\n",
            "tf.Tensor(\n",
            "[[1 2 3]\n",
            " [4 5 6]\n",
            " [7 8 9]], shape=(3, 3), dtype=int32)\n",
            "tf.Tensor(\n",
            "[[1 2]\n",
            " [4 5]], shape=(2, 2), dtype=int32)\n"
          ]
        }
      ],
      "source": [
        "import tensorflow as tf\n",
        "\n",
        "# Creating a sample tensor for demonstration\n",
        "tensor_a = tf.constant([[1, 2, 3], [4, 5, 6], [7, 8, 9]])\n",
        "print(\"Original Tensor (tensor_a):\\n\", tensor_a)\n",
        "print(\"\\n\")\n",
        "#try\n",
        "trys = tensor_a[0:3,0]\n",
        "print(\"Try:\\n\", trys)\n",
        "print(\"\\n\")\n",
        "\n",
        "\n",
        "\n",
        "# Slicing the first row\n",
        "firstRow = tensor_a[0:1]\n",
        "print(\"First Row :\\n\", firstRow)\n",
        "print(\"\\n\")\n",
        "secondRow = tensor_a[1:2]\n",
        "print(\"Second Row :\\n\", secondRow)\n",
        "print(\"\\n\")\n",
        "thirdRow = tensor_a[2:3]\n",
        "print(\"Third Row :\\n\", thirdRow)\n",
        "print(\"\\n\")\n",
        "\n",
        "\n",
        "# Slicing the first column as a 2D tensor\n",
        "firstCol = tensor_a[0:3,0]\n",
        "print(\"First Column :\\n\", firstCol)\n",
        "print(\"\\n\")\n",
        "secondCol = tensor_a[:,1] #or [0:3,1]\n",
        "print(\"Second Column :\\n\", secondCol)\n",
        "print(\"\\n\")\n",
        "thirdCol = tensor_a[:,2]\n",
        "print(\"Third Column :\\n\", thirdCol)\n",
        "print(\"\\n\")\n",
        "\n",
        "\n",
        "print(\"---------------\")\n",
        "# TensorFlow tensor\n",
        "tensor = tf.constant([[1, 2, 3], [4, 5, 6], [7, 8, 9]])\n",
        "\n",
        "# Slicing: Get the first two rows and first two columns\n",
        "print(tensor)\n",
        "slice_tf = tensor[:2, :2]\n",
        "print(slice_tf)  # Output: [[1, 2], [4, 5]]"
      ]
    },
    {
      "cell_type": "markdown",
      "metadata": {
        "id": "ORxplXOnaoBP"
      },
      "source": [
        "#(14)tf.concat() =>\n",
        "-combines two or more tensors along a specified axis. It takes a list of tensors and joins them into a single tensor, which is useful for merging data in machine learning tasks.\n",
        "- The tensors must have compatible shapes except for the dimension being concatenated."
      ]
    },
    {
      "cell_type": "code",
      "execution_count": null,
      "metadata": {
        "colab": {
          "base_uri": "https://localhost:8080/"
        },
        "id": "tyC4CKR6azAP",
        "outputId": "ba765493-7e56-4533-d5c6-fe4a3082a004"
      },
      "outputs": [
        {
          "name": "stdout",
          "output_type": "stream",
          "text": [
            "tf.Tensor(\n",
            "[[1 2]\n",
            " [3 4]], shape=(2, 2), dtype=int32)\n",
            "\n",
            "\n",
            "tf.Tensor(\n",
            "[[5 6]\n",
            " [7 8]], shape=(2, 2), dtype=int32)\n",
            "\n",
            "\n",
            "tf.Tensor(\n",
            "[[1 2 5 6]\n",
            " [3 4 7 8]], shape=(2, 4), dtype=int32)\n"
          ]
        }
      ],
      "source": [
        "print(tensor_a)\n",
        "print(\"\\n\")\n",
        "print(tensor_b)\n",
        "print(\"\\n\")\n",
        "concat_tensor = tf.concat([tensor_a, tensor_b], axis=1)\n",
        "print(concat_tensor)"
      ]
    },
    {
      "cell_type": "markdown",
      "metadata": {
        "id": "lDPhKdYObg0C"
      },
      "source": [
        "#(15)tf.stack () =>\n",
        "-TensorFlow function that combines multiple tensors (arrays) into a single tensor along a specified dimension.\n",
        "- It helps create higher-dimensional data structures by stacking 1D or 2D tensors together, like adding layers in a stack."
      ]
    },
    {
      "cell_type": "code",
      "execution_count": 42,
      "metadata": {
        "colab": {
          "base_uri": "https://localhost:8080/"
        },
        "id": "-hXA9Te-bz4A",
        "outputId": "17fb158b-c5ad-4715-a964-038d93cc0f73"
      },
      "outputs": [
        {
          "output_type": "stream",
          "name": "stdout",
          "text": [
            "tf.Tensor(\n",
            "[[1 2]\n",
            " [3 4]], shape=(2, 2), dtype=int32)\n",
            "\n",
            "\n",
            "tf.Tensor(\n",
            "[[5 6]\n",
            " [7 8]], shape=(2, 2), dtype=int32)\n",
            "\n",
            "\n",
            "tf.Tensor(\n",
            "[[[1 2]\n",
            "  [3 4]]\n",
            "\n",
            " [[5 6]\n",
            "  [7 8]]], shape=(2, 2, 2), dtype=int32)\n",
            "Vertical Stack (vstack_tensor):\n",
            " tf.Tensor(\n",
            "[[1 2]\n",
            " [3 4]\n",
            " [5 6]\n",
            " [7 8]], shape=(4, 2), dtype=int32)\n",
            "Hori Stack (hstack_tensor):\n",
            " tf.Tensor(\n",
            "[[1 2 5 6]\n",
            " [3 4 7 8]], shape=(2, 4), dtype=int32)\n"
          ]
        }
      ],
      "source": [
        "tensor_a = tf.constant([[1, 2], [3, 4]])\n",
        "tensor_b = tf.constant([[5, 6], [7, 8]])\n",
        "\n",
        "print(tensor_a)\n",
        "print(\"\\n\")\n",
        "print(tensor_b)\n",
        "print(\"\\n\")\n",
        "\n",
        "stacked_tensor = tf.stack([tensor_a, tensor_b])\n",
        "print(stacked_tensor)\n",
        "\n",
        "vstack_tensor = tf.concat([tensor_a, tensor_b], axis=0)\n",
        "print(\"Vertical Stack (vstack_tensor):\\n\", vstack_tensor)\n",
        "\n",
        "hstack_tensor = tf.concat([tensor_a, tensor_b], axis=1)\n",
        "print(\"Hori Stack (hstack_tensor):\\n\", hstack_tensor)"
      ]
    },
    {
      "cell_type": "markdown",
      "metadata": {
        "id": "aDMx7n74dDCJ"
      },
      "source": [
        "#(16)tf.split(tensor , count , axis) =>\n",
        " -Tensorflow function that divides a tensor into multiple smaller tensors along a specified dimension. This is useful for breaking down larger datasets into manageable parts for processing or analysis"
      ]
    },
    {
      "cell_type": "code",
      "execution_count": 46,
      "metadata": {
        "colab": {
          "base_uri": "https://localhost:8080/"
        },
        "id": "u7-B1_6qdFPR",
        "outputId": "24097d98-c61c-47d8-e8a2-30b7d9fbe0b0"
      },
      "outputs": [
        {
          "output_type": "stream",
          "name": "stdout",
          "text": [
            "tf.Tensor(\n",
            "[[1 2]\n",
            " [3 4]], shape=(2, 2), dtype=int32)\n",
            "\n",
            "\n",
            "[<tf.Tensor: shape=(1, 2), dtype=int32, numpy=array([[1, 2]], dtype=int32)>, <tf.Tensor: shape=(1, 2), dtype=int32, numpy=array([[3, 4]], dtype=int32)>]\n",
            "[<tf.Tensor: shape=(2, 1), dtype=int32, numpy=\n",
            "array([[1],\n",
            "       [3]], dtype=int32)>, <tf.Tensor: shape=(2, 1), dtype=int32, numpy=\n",
            "array([[2],\n",
            "       [4]], dtype=int32)>]\n"
          ]
        }
      ],
      "source": [
        "print(tensor_a)\n",
        "print(\"\\n\")\n",
        "splitted_tensors = tf.split(tensor_a, 2, axis=0)\n",
        "print(splitted_tensors)\n",
        "splitted_tensors = tf.split(tensor_a, 2, axis=1)\n",
        "print(splitted_tensors)"
      ]
    },
    {
      "cell_type": "markdown",
      "metadata": {
        "id": "KgDHfAE2dl-U"
      },
      "source": [
        "#(17)tf.expand_dims() =>\n",
        "-TensorFlow function that adds an extra dimension to a tensor at a specified position.\n",
        "- This is helpful for reshaping data, especially when you need to match the dimensions for operations like broadcasting or feeding into models"
      ]
    },
    {
      "cell_type": "code",
      "execution_count": 51,
      "metadata": {
        "colab": {
          "base_uri": "https://localhost:8080/"
        },
        "id": "OGgaVNT7dq2I",
        "outputId": "4818d4c6-ef58-4ca1-b4d4-d596bbd1db92"
      },
      "outputs": [
        {
          "output_type": "stream",
          "name": "stdout",
          "text": [
            "tf.Tensor([1 2 3 4], shape=(4,), dtype=int32)\n",
            "\n",
            "\n",
            "tf.Tensor([[1 2 3 4]], shape=(1, 4), dtype=int32)\n",
            "tf.Tensor(\n",
            "[[1]\n",
            " [2]\n",
            " [3]\n",
            " [4]], shape=(4, 1), dtype=int32)\n"
          ]
        }
      ],
      "source": [
        "tensor1=tf.constant([1,2,3,4])\n",
        "print(tensor1)\n",
        "print(\"\\n\")\n",
        "expanded_tensor = tf.expand_dims(tensor1, axis=0)\n",
        "print(expanded_tensor)\n",
        "expanded_tensor = tf.expand_dims(tensor1, axis=1)\n",
        "print(expanded_tensor)"
      ]
    },
    {
      "cell_type": "markdown",
      "metadata": {
        "id": "JbE12JSbeSCI"
      },
      "source": [
        "#(18)tf.squeeze() =>\n",
        "-TensorFlow function that removes dimensions of size 1 from a tensor.\n",
        " - This is useful for simplifying the shape of a tensor, especially when you want to eliminate unnecessary dimensions after operations like tf.expand_dims()"
      ]
    },
    {
      "cell_type": "code",
      "execution_count": 56,
      "metadata": {
        "colab": {
          "base_uri": "https://localhost:8080/"
        },
        "id": "dJfCboXjeU3X",
        "outputId": "5bce0acb-06b1-488f-88ac-203e49868b1e"
      },
      "outputs": [
        {
          "output_type": "stream",
          "name": "stdout",
          "text": [
            "tf.Tensor(\n",
            "[[1]\n",
            " [2]\n",
            " [3]\n",
            " [4]], shape=(4, 1), dtype=int32)\n",
            "\n",
            "\n",
            "tf.Tensor([1 2 3 4], shape=(4,), dtype=int32)\n"
          ]
        }
      ],
      "source": [
        "print(expanded_tensor)\n",
        "print(\"\\n\")\n",
        "squeezed_tensor = tf.squeeze(expanded_tensor)\n",
        "print(squeezed_tensor)"
      ]
    },
    {
      "cell_type": "markdown",
      "metadata": {
        "id": "_JNFC76lfH5Y"
      },
      "source": [
        "#(19) tf.tile(tensor , [countRepeat]) =>\n",
        "-TensorFlow function that creates a new tensor by repeating an input tensor a specified number of times along each dimension.\n",
        "- This is useful for expanding a tensor's shape or for creating larger datasets by replicating existing data in a structured way"
      ]
    },
    {
      "cell_type": "code",
      "execution_count": 57,
      "metadata": {
        "colab": {
          "base_uri": "https://localhost:8080/"
        },
        "id": "lJ550A7ZfJke",
        "outputId": "2e93118a-1536-4055-aa15-5ca474b94f77"
      },
      "outputs": [
        {
          "output_type": "stream",
          "name": "stdout",
          "text": [
            "tf.Tensor([1 2 3 4], shape=(4,), dtype=int32)\n",
            "\n",
            "\n",
            "tf.Tensor([1 2 3 4 1 2 3 4 1 2 3 4], shape=(12,), dtype=int32)\n"
          ]
        }
      ],
      "source": [
        "print(tensor1)\n",
        "print(\"\\n\")\n",
        "tiled_tensor = tf.tile(tensor1, [3])\n",
        "print(tiled_tensor)"
      ]
    },
    {
      "cell_type": "markdown",
      "metadata": {
        "id": "B6B2Cjm9fm11"
      },
      "source": [
        "#(20)tf.one_hot( indices of label , depth ) =>\n",
        "-TensorFlow function that converts integer labels into a one-hot encoded format. In one-hot encoding, each label is represented as a vector where the index corresponding to the label is set to 1, and all other indices are set to 0.\n",
        "- making it useful for categorical data in machine learning models.\n",
        "- This encoding is commonly used in machine learning to convert categorical data into a numerical form that can be used in algorithms."
      ]
    },
    {
      "cell_type": "code",
      "execution_count": 62,
      "metadata": {
        "colab": {
          "base_uri": "https://localhost:8080/"
        },
        "id": "PiqwnUQFfqTn",
        "outputId": "d3a80fd8-44af-4d28-8402-4eea7455548d"
      },
      "outputs": [
        {
          "output_type": "stream",
          "name": "stdout",
          "text": [
            "One-hot Encoded Tensor:\n",
            " tf.Tensor(\n",
            "[[1. 0. 0. 0. 0.]\n",
            " [0. 1. 0. 0. 0.]\n",
            " [0. 0. 1. 0. 0.]], shape=(3, 5), dtype=float32)\n"
          ]
        }
      ],
      "source": [
        "indices = [0, 1, 2]  #[apple banana mango]\n",
        "one_hot_tensor = tf.one_hot(indices, depth=5)\n",
        "\n",
        "print(\"One-hot Encoded Tensor:\\n\", one_hot_tensor)"
      ]
    },
    {
      "cell_type": "markdown",
      "metadata": {
        "id": "__dLTmiygdtE"
      },
      "source": [
        "#(21)tf.eye([cnt ]) =>\n",
        "-tf.eye() creates an identity matrix, which is a square matrix with ones on the diagonal and zeros elsewhere.\n",
        "- It is often used in linear algebra for operations involving transformations and solving equations"
      ]
    },
    {
      "cell_type": "code",
      "execution_count": null,
      "metadata": {
        "colab": {
          "base_uri": "https://localhost:8080/"
        },
        "id": "avD_06vCgfiZ",
        "outputId": "28beacce-5f0c-414f-923c-d63f03f7fafb"
      },
      "outputs": [
        {
          "name": "stdout",
          "output_type": "stream",
          "text": [
            "tf.Tensor(\n",
            "[[1. 0. 0. 0. 0.]\n",
            " [0. 1. 0. 0. 0.]\n",
            " [0. 0. 1. 0. 0.]\n",
            " [0. 0. 0. 1. 0.]\n",
            " [0. 0. 0. 0. 1.]], shape=(5, 5), dtype=float32)\n"
          ]
        }
      ],
      "source": [
        "identity_matrix = tf.eye(5)\n",
        "print(identity_matrix)"
      ]
    },
    {
      "cell_type": "markdown",
      "metadata": {
        "id": "6ienvFGphicK"
      },
      "source": [
        "#(22)tf.zeros(dim1 x dim2) =>\n",
        "-tensor (an n-dimensional array) filled with zeros.\n",
        "- It is useful for initializing weights in machine learning models or for creating placeholders in computations"
      ]
    },
    {
      "cell_type": "code",
      "execution_count": null,
      "metadata": {
        "colab": {
          "base_uri": "https://localhost:8080/"
        },
        "id": "IGb-d0T5hhZd",
        "outputId": "8e446bd3-2f11-4041-d925-b347f553121e"
      },
      "outputs": [
        {
          "name": "stdout",
          "output_type": "stream",
          "text": [
            "tf.Tensor(\n",
            "[[0. 0. 0.]\n",
            " [0. 0. 0.]], shape=(2, 3), dtype=float32)\n"
          ]
        }
      ],
      "source": [
        "zeros_matrix = tf.zeros([2, 3])\n",
        "print(zeros_matrix)"
      ]
    },
    {
      "cell_type": "markdown",
      "metadata": {
        "id": "ALkBV_CJh2sQ"
      },
      "source": [
        "#(23) tf.ones () =>\n",
        "-tensor filled with ones. It is commonly used to initialize weights or to create masks in computations where a value of one is needed for specific operations.\n"
      ]
    },
    {
      "cell_type": "code",
      "execution_count": null,
      "metadata": {
        "colab": {
          "base_uri": "https://localhost:8080/"
        },
        "id": "r8WxPkxUh6Og",
        "outputId": "0c50da9e-1575-4740-ec43-62b3b370171e"
      },
      "outputs": [
        {
          "name": "stdout",
          "output_type": "stream",
          "text": [
            "tf.Tensor(\n",
            "[[1. 1.]\n",
            " [1. 1.]\n",
            " [1. 1.]], shape=(3, 2), dtype=float32)\n"
          ]
        }
      ],
      "source": [
        "ones_matrix = tf.ones([3, 2])\n",
        "print(ones_matrix)"
      ]
    },
    {
      "cell_type": "markdown",
      "metadata": {
        "id": "-4tufhjuiNTZ"
      },
      "source": [
        "#(24)tf.fill() =>\n",
        "-creates a tensor of a specified shape, filled with a specified value. It is useful for initializing tensors with custom values for various applications in computations and machine learning."
      ]
    },
    {
      "cell_type": "code",
      "execution_count": null,
      "metadata": {
        "colab": {
          "base_uri": "https://localhost:8080/"
        },
        "id": "StUL36dpiQ2S",
        "outputId": "e9597c1c-d746-4ea7-9e58-8d8fc4c17e8c"
      },
      "outputs": [
        {
          "name": "stdout",
          "output_type": "stream",
          "text": [
            "tf.Tensor(\n",
            "[[5 5 5]\n",
            " [5 5 5]], shape=(2, 3), dtype=int32)\n"
          ]
        }
      ],
      "source": [
        "filled_tensor = tf.fill([2, 3], value=5)\n",
        "print(filled_tensor)"
      ]
    },
    {
      "cell_type": "markdown",
      "metadata": {
        "id": "pJlmvY6figse"
      },
      "source": [
        "#(25)tf.cast () => typecasting like astype\n",
        "-tensor from one data type to another. This is useful when you need to ensure that the tensor's type is compatible with certain operations, such as converting integers to floats for mathematical calculations."
      ]
    },
    {
      "cell_type": "code",
      "execution_count": 63,
      "metadata": {
        "colab": {
          "base_uri": "https://localhost:8080/"
        },
        "id": "81Z3PxdWiknM",
        "outputId": "1f716595-aa9e-4ad7-9bb9-0fbd3579292c"
      },
      "outputs": [
        {
          "output_type": "stream",
          "name": "stdout",
          "text": [
            "tf.Tensor([1. 2. 3. 4.], shape=(4,), dtype=float32)\n"
          ]
        }
      ],
      "source": [
        "casted_tensor = tf.cast(tensor1, dtype=tf.float32) #no silly tf.float not only float\n",
        "print(casted_tensor )"
      ]
    },
    {
      "cell_type": "markdown",
      "metadata": {
        "id": "Rn1MYllgjUrw"
      },
      "source": [
        "#(26) tf.nn.relu() => No negative RectifiedLinear Unit\n",
        "-Changes all negative numbers to zero and keeps positive numbers unchanged.\n",
        "- It’s commonly used in neural networks to introduce non-linearity, helping the model learn complex patterns"
      ]
    },
    {
      "cell_type": "code",
      "execution_count": 65,
      "metadata": {
        "colab": {
          "base_uri": "https://localhost:8080/"
        },
        "id": "MeDV-n6ii-1T",
        "outputId": "577b9f38-e011-49ec-ae2f-751ad506593a"
      },
      "outputs": [
        {
          "output_type": "stream",
          "name": "stdout",
          "text": [
            "tf.Tensor([-1 -2  3], shape=(3,), dtype=int32)\n",
            "\n",
            "\n",
            "tf.Tensor([0 0 3], shape=(3,), dtype=int32)\n"
          ]
        }
      ],
      "source": [
        "neg_tensor= tf.constant([-1, -2, 3])\n",
        "print(neg_tensor)\n",
        "print(\"\\n\")\n",
        "relu_tensor = tf.nn.relu(neg_tensor)\n",
        "print(relu_tensor)\n",
        "\n"
      ]
    },
    {
      "cell_type": "markdown",
      "metadata": {
        "id": "a14W-Dyojx13"
      },
      "source": [
        "#(27)tf.square() =>\n",
        " -Squares each value in the tensor (multiplies each by itself).\n",
        " - This is often used to emphasize larger numbers or in mathematical computations like finding distance."
      ]
    },
    {
      "cell_type": "code",
      "execution_count": null,
      "metadata": {
        "colab": {
          "base_uri": "https://localhost:8080/"
        },
        "id": "gc5sIZw5j0K6",
        "outputId": "7d7a6a50-cef3-4d3c-d7db-8392d5c60d67"
      },
      "outputs": [
        {
          "name": "stdout",
          "output_type": "stream",
          "text": [
            "tf.Tensor(\n",
            "[[1 2]\n",
            " [3 4]], shape=(2, 2), dtype=int32)\n",
            "\n",
            "\n",
            "tf.Tensor(\n",
            "[[ 1  4]\n",
            " [ 9 16]], shape=(2, 2), dtype=int32)\n"
          ]
        }
      ],
      "source": [
        "print(tensor_a)\n",
        "print(\"\\n\")\n",
        "square_tensor = tf.square(tensor_a)\n",
        "print(square_tensor)"
      ]
    },
    {
      "cell_type": "markdown",
      "metadata": {
        "id": "VCXL_sQzkIci"
      },
      "source": [
        "#(28)tf.sqrt() =>\n",
        " -Finds the square root of each element in the tensor.\n",
        " - It's used to reverse a squaring operation or in geometry when working with distances."
      ]
    },
    {
      "cell_type": "code",
      "execution_count": 66,
      "metadata": {
        "colab": {
          "base_uri": "https://localhost:8080/"
        },
        "id": "pNmdd9ngkOYb",
        "outputId": "443eaac0-f47f-4677-c529-03450dccecda"
      },
      "outputs": [
        {
          "output_type": "stream",
          "name": "stdout",
          "text": [
            "tf.Tensor(\n",
            "[[5 6]\n",
            " [7 8]], shape=(2, 2), dtype=int32)\n",
            "\n",
            "\n",
            "tf.Tensor(\n",
            "[[2.236068  2.4494898]\n",
            " [2.6457512 2.828427 ]], shape=(2, 2), dtype=float32)\n"
          ]
        }
      ],
      "source": [
        "print(tensor_b)\n",
        "print(\"\\n\")\n",
        "sqrt_tensor = tf.sqrt(tf.cast(tensor_b, dtype=tf.float32))\n",
        "print(sqrt_tensor)"
      ]
    },
    {
      "cell_type": "markdown",
      "metadata": {
        "id": "rrPiS64gk6uK"
      },
      "source": [
        "#(29)tf.tensordot() =>\n",
        "-Performs a dot product on two tensors, combining them along specified axes.\n",
        "- This is used in linear algebra to compute products like between vectors or matrices."
      ]
    },
    {
      "cell_type": "code",
      "execution_count": 68,
      "metadata": {
        "colab": {
          "base_uri": "https://localhost:8080/"
        },
        "id": "F6XYHIXFko2p",
        "outputId": "c82e6c9b-8bb0-4699-ef14-108965a0be4f"
      },
      "outputs": [
        {
          "output_type": "stream",
          "name": "stdout",
          "text": [
            "tf.Tensor(\n",
            "[[1 2]\n",
            " [3 4]], shape=(2, 2), dtype=int32)\n",
            "\n",
            "\n",
            "tf.Tensor(\n",
            "[[5 6]\n",
            " [7 8]], shape=(2, 2), dtype=int32)\n",
            "\n",
            "\n",
            "tf.Tensor(\n",
            "[[19 22]\n",
            " [43 50]], shape=(2, 2), dtype=int32)\n"
          ]
        }
      ],
      "source": [
        "print(tensor_a)\n",
        "print(\"\\n\")\n",
        "print(tensor_b)\n",
        "print(\"\\n\")\n",
        "dot_product = tf.tensordot(tensor_a, tensor_b, axes=1)\n",
        "print(dot_product)"
      ]
    },
    {
      "cell_type": "markdown",
      "metadata": {
        "id": "ldevZ0W6lilX"
      },
      "source": [
        "#(30)tf.linalg.matmul() =>\n",
        " -Multiplies two matrices together.\n",
        " - It’s used in many computations, especially in neural networks, where matrix operations are crucial for data transformatio"
      ]
    },
    {
      "cell_type": "code",
      "execution_count": null,
      "metadata": {
        "colab": {
          "base_uri": "https://localhost:8080/"
        },
        "id": "9WTmRcJokrxG",
        "outputId": "fd8db3d8-ef04-41ed-f689-2fb3122ad10d"
      },
      "outputs": [
        {
          "name": "stdout",
          "output_type": "stream",
          "text": [
            "tf.Tensor(\n",
            "[[1 2]\n",
            " [3 4]], shape=(2, 2), dtype=int32)\n",
            "\n",
            "\n",
            "tf.Tensor(\n",
            "[[5 6]\n",
            " [7 8]], shape=(2, 2), dtype=int32)\n",
            "\n",
            "\n",
            "tf.Tensor(\n",
            "[[[19 22]\n",
            "  [43 50]]], shape=(1, 2, 2), dtype=int32)\n"
          ]
        }
      ],
      "source": [
        "print(tensor_a)\n",
        "print(\"\\n\")\n",
        "print(tensor_b)\n",
        "print(\"\\n\")\n",
        "batched_matmul = tf.linalg.matmul([tensor_a], [tensor_b]) #(1⋅5+2⋅7)\n",
        "                                                          #(3⋅5+4⋅7)\n",
        "print(batched_matmul)"
      ]
    },
    {
      "cell_type": "markdown",
      "metadata": {
        "id": "x0oiVSr7nYHl"
      },
      "source": [
        "#(31)tf.argmax() =>\n",
        "-Finds the index of the largest value in a tensor along a specified axis.\n",
        "- It’s commonly used to get the predicted class in classification tasks."
      ]
    },
    {
      "cell_type": "code",
      "execution_count": null,
      "metadata": {
        "colab": {
          "base_uri": "https://localhost:8080/"
        },
        "id": "UHb5yuTcmcP2",
        "outputId": "b6e84282-ee75-4fd1-c0c5-c9e13eea05bf"
      },
      "outputs": [
        {
          "name": "stdout",
          "output_type": "stream",
          "text": [
            "tf.Tensor(\n",
            "[[5 6]\n",
            " [7 8]], shape=(2, 2), dtype=int32)\n",
            "\n",
            "\n",
            "tf.Tensor([1 1], shape=(2,), dtype=int64)\n"
          ]
        }
      ],
      "source": [
        "print(tensor_b)\n",
        "print(\"\\n\")\n",
        "argmax_tensor = tf.argmax(tensor_b, axis=1)\n",
        "print(argmax_tensor)"
      ]
    },
    {
      "cell_type": "markdown",
      "metadata": {
        "id": "R2TogrP2oFpr"
      },
      "source": [
        "#(32)tf.argmin() =>\n",
        "-Finds the index of the smallest value in a tensor along a specified axis.\n",
        "- It helps locate the minimum value's position within the data."
      ]
    },
    {
      "cell_type": "code",
      "execution_count": null,
      "metadata": {
        "colab": {
          "base_uri": "https://localhost:8080/"
        },
        "id": "ASXURgYbmd40",
        "outputId": "9ca8c9ee-b826-45c0-9d68-0cb77b004920"
      },
      "outputs": [
        {
          "name": "stdout",
          "output_type": "stream",
          "text": [
            "tf.Tensor(\n",
            "[[1 2]\n",
            " [3 4]], shape=(2, 2), dtype=int32)\n",
            "\n",
            "\n",
            "tf.Tensor([0 0], shape=(2,), dtype=int64)\n"
          ]
        }
      ],
      "source": [
        "print(tensor_a)\n",
        "print(\"\\n\")\n",
        "argmin_tensor = tf.argmin(tensor_a, axis=0)\n",
        "print(argmin_tensor)"
      ]
    },
    {
      "cell_type": "markdown",
      "metadata": {
        "id": "tzJkruT-ofKM"
      },
      "source": [
        "#(33)tf.abs() =>\n",
        "-Returns the absolute value of each element in a tensor, removing any negative signs.\n",
        "- It’s useful when you want to work with the magnitude of numbers, regardless of their sign."
      ]
    },
    {
      "cell_type": "code",
      "execution_count": null,
      "metadata": {
        "colab": {
          "base_uri": "https://localhost:8080/"
        },
        "id": "S9z5cQXdmf_a",
        "outputId": "94277f73-fcfa-4d1d-da61-68df430420c2"
      },
      "outputs": [
        {
          "name": "stdout",
          "output_type": "stream",
          "text": [
            "tf.Tensor([1 2 3], shape=(3,), dtype=int32)\n"
          ]
        }
      ],
      "source": [
        "absolute_tensor = tf.abs(tf.constant([-1, -2, 3]))\n",
        "print(absolute_tensor)"
      ]
    },
    {
      "cell_type": "markdown",
      "metadata": {
        "id": "qDSH2To-orCy"
      },
      "source": [
        "#(34)tf.keras.losses.cosine_similarity()=>\n",
        " -Measures the cosine similarity between two vectors, where 1 means they are perfectly aligned and -1 means they are in opposite directions.\n",
        " - It’s used to compare how similar two things are in direction, ignoring magnitude."
      ]
    },
    {
      "cell_type": "code",
      "execution_count": 69,
      "metadata": {
        "colab": {
          "base_uri": "https://localhost:8080/"
        },
        "id": "QTmEJ2JLmknT",
        "outputId": "7b5a27d1-1722-4e23-b7c8-0fda68331385"
      },
      "outputs": [
        {
          "output_type": "stream",
          "name": "stdout",
          "text": [
            "tf.Tensor(\n",
            "[[1 2]\n",
            " [3 4]], shape=(2, 2), dtype=int32)\n",
            "\n",
            "\n",
            "tf.Tensor(\n",
            "[[5 6]\n",
            " [7 8]], shape=(2, 2), dtype=int32)\n",
            "\n",
            "\n",
            "tf.Tensor([-0.97341716 -0.99716413], shape=(2,), dtype=float32)\n"
          ]
        }
      ],
      "source": [
        "print(tensor_a)\n",
        "print(\"\\n\")\n",
        "print(tensor_b)\n",
        "print(\"\\n\")\n",
        "cosine_similarity = tf.keras.losses.cosine_similarity(tensor_a, tensor_b)\n",
        "print(cosine_similarity)"
      ]
    },
    {
      "cell_type": "markdown",
      "metadata": {
        "id": "ZP1NTZvupeSb"
      },
      "source": [
        "#Data set"
      ]
    },
    {
      "cell_type": "code",
      "execution_count": null,
      "metadata": {
        "id": "P1PdKfeEm0D6"
      },
      "outputs": [],
      "source": [
        "y_true = tf.constant([1.0, 2.0, 3.0])\n",
        "y_pred = tf.constant([1.5, 2.5, 3.5])"
      ]
    },
    {
      "cell_type": "markdown",
      "metadata": {
        "id": "pw6GD4HIpJc2"
      },
      "source": [
        "#(35)tf.keras.losses.hinge() =>\n",
        " -A loss function used for classification tasks, especially in Support Vector Machines (SVMs).\n",
        " - It calculates the hinge loss, which penalizes incorrect classifications and encourages a margin between different classes"
      ]
    },
    {
      "cell_type": "code",
      "execution_count": null,
      "metadata": {
        "colab": {
          "base_uri": "https://localhost:8080/"
        },
        "id": "mrpLDO9mm2vW",
        "outputId": "06c6667d-7748-4ce9-f8c1-6d828cf8e388"
      },
      "outputs": [
        {
          "name": "stdout",
          "output_type": "stream",
          "text": [
            "tf.Tensor([1. 2. 3.], shape=(3,), dtype=float32)\n",
            "\n",
            "\n",
            "tf.Tensor([1.5 2.5 3.5], shape=(3,), dtype=float32)\n",
            "\n",
            "\n",
            "tf.Tensor(0.0, shape=(), dtype=float32)\n"
          ]
        }
      ],
      "source": [
        "print(y_true)\n",
        "print(\"\\n\")\n",
        "print(y_pred)\n",
        "print(\"\\n\")\n",
        "hinge_loss = tf.keras.losses.hinge(y_true, y_pred)\n",
        "print(hinge_loss)\n"
      ]
    },
    {
      "cell_type": "code",
      "source": [
        "import tensorflow as tf\n",
        "\n",
        "# Step 1: Create a Graph\n",
        "# Define a simple computation graph with two constants and an addition operation\n",
        "\n",
        "# Create constants (placeholders for data)\n",
        "a = tf.constant(5, name=\"a\")\n",
        "b = tf.constant(3, name=\"b\")\n",
        "\n",
        "# Create an operation (add a and b)\n",
        "c = a + b  # This operation is added to the graph\n",
        "\n",
        "# Step 2: Create a Session to run the Graph\n",
        "# The session will execute the operations in the graph\n",
        "\n",
        "with tf.Session() as session:\n",
        "    # Run the graph (execute the addition operation)\n",
        "    result = session.run(c)\n",
        "\n",
        "    # Print the result of the addition\n",
        "    print(result)\n"
      ],
      "metadata": {
        "id": "dgN-hQciQHQn",
        "outputId": "92b2e38f-d61d-4236-bbe5-2fff99e86aab",
        "colab": {
          "base_uri": "https://localhost:8080/",
          "height": 216
        }
      },
      "execution_count": 70,
      "outputs": [
        {
          "output_type": "error",
          "ename": "AttributeError",
          "evalue": "module 'tensorflow' has no attribute 'Session'",
          "traceback": [
            "\u001b[0;31m---------------------------------------------------------------------------\u001b[0m",
            "\u001b[0;31mAttributeError\u001b[0m                            Traceback (most recent call last)",
            "\u001b[0;32m<ipython-input-70-aa0faab548ce>\u001b[0m in \u001b[0;36m<cell line: 16>\u001b[0;34m()\u001b[0m\n\u001b[1;32m     14\u001b[0m \u001b[0;31m# The session will execute the operations in the graph\u001b[0m\u001b[0;34m\u001b[0m\u001b[0;34m\u001b[0m\u001b[0m\n\u001b[1;32m     15\u001b[0m \u001b[0;34m\u001b[0m\u001b[0m\n\u001b[0;32m---> 16\u001b[0;31m \u001b[0;32mwith\u001b[0m \u001b[0mtf\u001b[0m\u001b[0;34m.\u001b[0m\u001b[0mSession\u001b[0m\u001b[0;34m(\u001b[0m\u001b[0;34m)\u001b[0m \u001b[0;32mas\u001b[0m \u001b[0msession\u001b[0m\u001b[0;34m:\u001b[0m\u001b[0;34m\u001b[0m\u001b[0;34m\u001b[0m\u001b[0m\n\u001b[0m\u001b[1;32m     17\u001b[0m     \u001b[0;31m# Run the graph (execute the addition operation)\u001b[0m\u001b[0;34m\u001b[0m\u001b[0;34m\u001b[0m\u001b[0m\n\u001b[1;32m     18\u001b[0m     \u001b[0mresult\u001b[0m \u001b[0;34m=\u001b[0m \u001b[0msession\u001b[0m\u001b[0;34m.\u001b[0m\u001b[0mrun\u001b[0m\u001b[0;34m(\u001b[0m\u001b[0mc\u001b[0m\u001b[0;34m)\u001b[0m\u001b[0;34m\u001b[0m\u001b[0;34m\u001b[0m\u001b[0m\n",
            "\u001b[0;31mAttributeError\u001b[0m: module 'tensorflow' has no attribute 'Session'"
          ]
        }
      ]
    },
    {
      "cell_type": "code",
      "source": [
        "import tensorflow as tf\n",
        "\n",
        "# Step 1: Define the computation graph\n",
        "a = tf.constant(5, name=\"a\")\n",
        "b = tf.constant(3, name=\"b\")\n",
        "c = a + b  # Operation is executed eagerly\n",
        "\n",
        "# Step 2: No need for a session, print the result directly\n",
        "print(c.numpy())  # Access the value using .numpy()"
      ],
      "metadata": {
        "id": "RD8X0HoDQKNk",
        "outputId": "c32007f2-9e64-4fb3-866c-68fb3a9e0263",
        "colab": {
          "base_uri": "https://localhost:8080/"
        }
      },
      "execution_count": 71,
      "outputs": [
        {
          "output_type": "stream",
          "name": "stdout",
          "text": [
            "8\n"
          ]
        }
      ]
    },
    {
      "cell_type": "code",
      "source": [
        "# prompt: tf.pow()\n",
        "# tf.maximum()\n",
        "# tf.rank\n",
        "# tf.minimum()\n",
        "\n",
        "import tensorflow as tf\n",
        "\n",
        "# tf.pow() example\n",
        "x = tf.constant([1, 2, 3], dtype=tf.float32)\n",
        "y = tf.pow(x, 2)  # Element-wise power\n",
        "print(\"tf.pow:\", y)\n",
        "\n",
        "\n",
        "# tf.rank example dimensions returned\n",
        "tensor = tf.constant([[[1, 2], [3, 4]], [[5, 6], [7, 8]]])\n",
        "rank = tf.rank(tensor)\n",
        "print(\"tf.rank:\", rank)\n",
        "\n",
        "\n",
        "# tf.maximum() example\n",
        "a = tf.constant([1, 3, 2])\n",
        "b = tf.constant([2, 1, 4])\n",
        "max_tensor = tf.maximum(a, b) # Element-wise maximum\n",
        "print(\"tf.maximum:\", max_tensor)\n",
        "\n",
        "\n",
        "# tf.minimum() example\n",
        "min_tensor = tf.minimum(a, b) # Element-wise minimum\n",
        "print(\"tf.minimum:\", min_tensor)"
      ],
      "metadata": {
        "id": "dX53c3cOQWw2",
        "outputId": "ed45b92d-daf6-4288-d307-e2c74bb1b1fb",
        "colab": {
          "base_uri": "https://localhost:8080/"
        }
      },
      "execution_count": 73,
      "outputs": [
        {
          "output_type": "stream",
          "name": "stdout",
          "text": [
            "tf.pow: tf.Tensor([1. 4. 9.], shape=(3,), dtype=float32)\n",
            "tf.rank: tf.Tensor(3, shape=(), dtype=int32)\n",
            "tf.maximum: tf.Tensor([2 3 4], shape=(3,), dtype=int32)\n",
            "tf.minimum: tf.Tensor([1 1 2], shape=(3,), dtype=int32)\n"
          ]
        }
      ]
    },
    {
      "cell_type": "code",
      "source": [],
      "metadata": {
        "id": "xNcTGIayTJIz"
      },
      "execution_count": null,
      "outputs": []
    }
  ],
  "metadata": {
    "colab": {
      "provenance": []
    },
    "kernelspec": {
      "display_name": "Python 3",
      "name": "python3"
    },
    "language_info": {
      "name": "python"
    }
  },
  "nbformat": 4,
  "nbformat_minor": 0
}