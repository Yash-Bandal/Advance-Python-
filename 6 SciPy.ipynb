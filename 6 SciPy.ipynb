{
  "nbformat": 4,
  "nbformat_minor": 0,
  "metadata": {
    "colab": {
      "provenance": []
    },
    "kernelspec": {
      "name": "python3",
      "display_name": "Python 3"
    },
    "language_info": {
      "name": "python"
    }
  },
  "cells": [
    {
      "cell_type": "markdown",
      "source": [
        "#Introduction to SciPy\n",
        "- SciPy is a scientific computation library that uses NumPy underneath.\n",
        "\n",
        "- SciPy stands for Scientific Python.\n",
        "\n",
        "- It provides more utility functions for optimization, stats and signal processing.\n",
        "\n",
        "- Like NumPy, SciPy is open source so we can use it freely.\n",
        "\n",
        "- SciPy was created by NumPy's creator Travis Olliphant."
      ],
      "metadata": {
        "id": "jDqYfBVOtMy1"
      }
    },
    {
      "cell_type": "markdown",
      "source": [
        "#import Scipy"
      ],
      "metadata": {
        "id": "kks6BlU-tWVe"
      }
    },
    {
      "cell_type": "code",
      "source": [
        "from scipy import constants"
      ],
      "metadata": {
        "id": "oe7xUK-Wtgqm"
      },
      "execution_count": null,
      "outputs": []
    },
    {
      "cell_type": "markdown",
      "source": [
        "#checking for SciPy version"
      ],
      "metadata": {
        "id": "x-lG_weItl7Q"
      }
    },
    {
      "cell_type": "code",
      "source": [
        "import scipy\n",
        "print(scipy.__version__)"
      ],
      "metadata": {
        "colab": {
          "base_uri": "https://localhost:8080/"
        },
        "id": "EzTthCX_ttHT",
        "outputId": "be95dd19-e3d3-48c9-ffa9-2236fe1c09ee"
      },
      "execution_count": null,
      "outputs": [
        {
          "output_type": "stream",
          "name": "stdout",
          "text": [
            "1.13.1\n"
          ]
        }
      ]
    },
    {
      "cell_type": "markdown",
      "source": [
        "#constant Unit\n",
        "-A list of all units under the constants module can be seen using the dir() function."
      ],
      "metadata": {
        "id": "iL3vBgTOt3Cz"
      }
    },
    {
      "cell_type": "code",
      "source": [
        "from scipy import constants\n",
        "print(dir(constants))"
      ],
      "metadata": {
        "colab": {
          "base_uri": "https://localhost:8080/"
        },
        "id": "aedPHg0zuDUe",
        "outputId": "8151c273-ee9f-43a6-b7a1-b1551739da8c"
      },
      "execution_count": null,
      "outputs": [
        {
          "output_type": "stream",
          "name": "stdout",
          "text": [
            "['Avogadro', 'Boltzmann', 'Btu', 'Btu_IT', 'Btu_th', 'ConstantWarning', 'G', 'Julian_year', 'N_A', 'Planck', 'R', 'Rydberg', 'Stefan_Boltzmann', 'Wien', '__all__', '__builtins__', '__cached__', '__doc__', '__file__', '__loader__', '__name__', '__package__', '__path__', '__spec__', '_codata', '_constants', '_obsolete_constants', 'acre', 'alpha', 'angstrom', 'arcmin', 'arcminute', 'arcsec', 'arcsecond', 'astronomical_unit', 'atm', 'atmosphere', 'atomic_mass', 'atto', 'au', 'bar', 'barrel', 'bbl', 'blob', 'c', 'calorie', 'calorie_IT', 'calorie_th', 'carat', 'centi', 'codata', 'constants', 'convert_temperature', 'day', 'deci', 'degree', 'degree_Fahrenheit', 'deka', 'dyn', 'dyne', 'e', 'eV', 'electron_mass', 'electron_volt', 'elementary_charge', 'epsilon_0', 'erg', 'exa', 'exbi', 'femto', 'fermi', 'find', 'fine_structure', 'fluid_ounce', 'fluid_ounce_US', 'fluid_ounce_imp', 'foot', 'g', 'gallon', 'gallon_US', 'gallon_imp', 'gas_constant', 'gibi', 'giga', 'golden', 'golden_ratio', 'grain', 'gram', 'gravitational_constant', 'h', 'hbar', 'hectare', 'hecto', 'horsepower', 'hour', 'hp', 'inch', 'k', 'kgf', 'kibi', 'kilo', 'kilogram_force', 'kmh', 'knot', 'lambda2nu', 'lb', 'lbf', 'light_year', 'liter', 'litre', 'long_ton', 'm_e', 'm_n', 'm_p', 'm_u', 'mach', 'mebi', 'mega', 'metric_ton', 'micro', 'micron', 'mil', 'mile', 'milli', 'minute', 'mmHg', 'mph', 'mu_0', 'nano', 'nautical_mile', 'neutron_mass', 'nu2lambda', 'ounce', 'oz', 'parsec', 'pebi', 'peta', 'physical_constants', 'pi', 'pico', 'point', 'pound', 'pound_force', 'precision', 'proton_mass', 'psi', 'pt', 'quecto', 'quetta', 'ronna', 'ronto', 'short_ton', 'sigma', 'slinch', 'slug', 'speed_of_light', 'speed_of_sound', 'stone', 'survey_foot', 'survey_mile', 'tebi', 'tera', 'test', 'ton_TNT', 'torr', 'troy_ounce', 'troy_pound', 'u', 'unit', 'value', 'week', 'yard', 'year', 'yobi', 'yocto', 'yotta', 'zebi', 'zepto', 'zero_Celsius', 'zetta']\n"
          ]
        }
      ]
    },
    {
      "cell_type": "markdown",
      "source": [
        "#categories of Units"
      ],
      "metadata": {
        "id": "qirf4CKruH5k"
      }
    },
    {
      "cell_type": "markdown",
      "source": [
        "   - Metric\n",
        "   - Binary\n",
        "   - Mass\n",
        "   - Angle\n",
        "   - Time\n",
        "   - Length\n",
        "   - Pressure\n",
        "   - Volume\n",
        "   - Speed\n",
        "   - Temperature\n",
        "   - Energy\n",
        "   - Power\n",
        "   - Force"
      ],
      "metadata": {
        "id": "Kxeh_y3ZuMVo"
      }
    },
    {
      "cell_type": "markdown",
      "source": [
        "##Metric (SI) Prefixes"
      ],
      "metadata": {
        "id": "c_D1OtcWui2c"
      }
    },
    {
      "cell_type": "code",
      "source": [
        "print(constants.yotta)\n",
        "print(constants.zetta)\n",
        "print(constants.exa)\n",
        "print(constants.peta)\n",
        "print(constants.tera)\n",
        "print(constants.giga)\n",
        "print(constants.mega)\n",
        "print(constants.kilo)\n",
        "print(constants.hecto)\n",
        "print(constants.deka)\n",
        "print(constants.deci)\n",
        "print(constants.centi)\n",
        "print(constants.milli)\n",
        "print(constants.micro)\n",
        "print(constants.nano)\n",
        "print(constants.pico)\n",
        "print(constants.femto)\n",
        "print(constants.atto)\n",
        "print(constants.zepto)"
      ],
      "metadata": {
        "colab": {
          "base_uri": "https://localhost:8080/"
        },
        "id": "a9hZnFulukz7",
        "outputId": "d9639cd9-df44-4a83-c279-fa78996a9089"
      },
      "execution_count": null,
      "outputs": [
        {
          "output_type": "stream",
          "name": "stdout",
          "text": [
            "1e+24\n",
            "1e+21\n",
            "1e+18\n",
            "1000000000000000.0\n",
            "1000000000000.0\n",
            "1000000000.0\n",
            "1000000.0\n",
            "1000.0\n",
            "100.0\n",
            "10.0\n",
            "0.1\n",
            "0.01\n",
            "0.001\n",
            "1e-06\n",
            "1e-09\n",
            "1e-12\n",
            "1e-15\n",
            "1e-18\n",
            "1e-21\n"
          ]
        }
      ]
    },
    {
      "cell_type": "markdown",
      "source": [
        "#Binary Prefixes"
      ],
      "metadata": {
        "id": "PzDXAxpMuu-S"
      }
    },
    {
      "cell_type": "code",
      "source": [
        "print(constants.kibi)\n",
        "print(constants.mebi)\n",
        "print(constants.gibi)\n",
        "print(constants.tebi)\n",
        "print(constants.pebi)\n",
        "print(constants.exbi)\n",
        "print(constants.zebi)\n",
        "print(constants.yobi)"
      ],
      "metadata": {
        "colab": {
          "base_uri": "https://localhost:8080/"
        },
        "id": "j8SDf4mfu3ch",
        "outputId": "e5baca4b-cb8b-4555-9df9-8d705118228e"
      },
      "execution_count": null,
      "outputs": [
        {
          "output_type": "stream",
          "name": "stdout",
          "text": [
            "1024\n",
            "1048576\n",
            "1073741824\n",
            "1099511627776\n",
            "1125899906842624\n",
            "1152921504606846976\n",
            "1180591620717411303424\n",
            "1208925819614629174706176\n"
          ]
        }
      ]
    },
    {
      "cell_type": "markdown",
      "source": [
        "#Mass"
      ],
      "metadata": {
        "id": "jDiYpWmiu-LO"
      }
    },
    {
      "cell_type": "code",
      "source": [
        "print(constants.gram)\n",
        "print(constants.metric_ton)\n",
        "print(constants.grain)\n",
        "print(constants.lb)\n",
        "print(constants.pound)\n",
        "print(constants.oz)\n",
        "print(constants.ounce)\n",
        "print(constants.stone)\n",
        "print(constants.long_ton)\n",
        "print(constants.short_ton)\n",
        "print(constants.troy_ounce)\n",
        "print(constants.troy_pound)\n",
        "print(constants.carat)\n",
        "print(constants.atomic_mass)\n",
        "print(constants.m_u)\n",
        "print(constants.u)"
      ],
      "metadata": {
        "colab": {
          "base_uri": "https://localhost:8080/"
        },
        "id": "j6znonUqvAie",
        "outputId": "d793667b-45a1-4a93-d190-89f7933471d5"
      },
      "execution_count": null,
      "outputs": [
        {
          "output_type": "stream",
          "name": "stdout",
          "text": [
            "0.001\n",
            "1000.0\n",
            "6.479891e-05\n",
            "0.45359236999999997\n",
            "0.45359236999999997\n",
            "0.028349523124999998\n",
            "0.028349523124999998\n",
            "6.3502931799999995\n",
            "1016.0469088\n",
            "907.1847399999999\n",
            "0.031103476799999998\n",
            "0.37324172159999996\n",
            "0.0002\n",
            "1.6605390666e-27\n",
            "1.6605390666e-27\n",
            "1.6605390666e-27\n"
          ]
        }
      ]
    },
    {
      "cell_type": "markdown",
      "source": [
        "#Angle"
      ],
      "metadata": {
        "id": "mqTY9qMFvHTm"
      }
    },
    {
      "cell_type": "code",
      "source": [
        "Return the specified unit in pascals (e.g. psi return)\n",
        "print(constants.arcminute)\n",
        "print(constants.arcsec)\n",
        "print(constants.arcsecond)"
      ],
      "metadata": {
        "colab": {
          "base_uri": "https://localhost:8080/",
          "height": 106
        },
        "id": "_eAgRiq0vJJl",
        "outputId": "1704b707-9b18-4ec8-a7d1-5c98cc79a719"
      },
      "execution_count": null,
      "outputs": [
        {
          "output_type": "error",
          "ename": "SyntaxError",
          "evalue": "invalid syntax (<ipython-input-10-dae489579b59>, line 1)",
          "traceback": [
            "\u001b[0;36m  File \u001b[0;32m\"<ipython-input-10-dae489579b59>\"\u001b[0;36m, line \u001b[0;32m1\u001b[0m\n\u001b[0;31m    Return the specified unit in pascals (e.g. psi return)\u001b[0m\n\u001b[0m           ^\u001b[0m\n\u001b[0;31mSyntaxError\u001b[0m\u001b[0;31m:\u001b[0m invalid syntax\n"
          ]
        }
      ]
    },
    {
      "cell_type": "markdown",
      "source": [
        "#Time"
      ],
      "metadata": {
        "id": "SDtiBmIwvXh8"
      }
    },
    {
      "cell_type": "code",
      "source": [
        "print(constants.minute)\n",
        "print(constants.hour)\n",
        "print(constants.day)\n",
        "print(constants.week)\n",
        "print(constants.year)\n",
        "print(constants.Julian_year)"
      ],
      "metadata": {
        "colab": {
          "base_uri": "https://localhost:8080/"
        },
        "id": "VDx7GEPdvZBC",
        "outputId": "877a3f01-618f-4fd2-e6f6-dcc8001353be"
      },
      "execution_count": null,
      "outputs": [
        {
          "output_type": "stream",
          "name": "stdout",
          "text": [
            "60.0\n",
            "3600.0\n",
            "86400.0\n",
            "604800.0\n",
            "31536000.0\n",
            "31557600.0\n"
          ]
        }
      ]
    },
    {
      "cell_type": "markdown",
      "source": [
        "#Length"
      ],
      "metadata": {
        "id": "Xou63PehvcKc"
      }
    },
    {
      "cell_type": "code",
      "source": [
        "print(constants.inch)\n",
        "print(constants.foot)\n",
        "print(constants.yard)\n",
        "print(constants.mile)\n",
        "print(constants.mil)\n",
        "print(constants.pt)\n",
        "print(constants.point)\n",
        "print(constants.survey_foot)\n",
        "print(constants.survey_mile)\n",
        "print(constants.nautical_mile)\n",
        "print(constants.fermi)\n",
        "print(constants.angstrom)\n",
        "print(constants.micron)\n",
        "print(constants.au)\n",
        "print(constants.astronomical_unit)\n",
        "print(constants.light_year)\n",
        "print(constants.parsec)"
      ],
      "metadata": {
        "colab": {
          "base_uri": "https://localhost:8080/"
        },
        "id": "2fYPFvsHvgEj",
        "outputId": "ca4e667b-1ae3-42d0-dc75-c1fee6c43307"
      },
      "execution_count": null,
      "outputs": [
        {
          "output_type": "stream",
          "name": "stdout",
          "text": [
            "0.0254\n",
            "0.30479999999999996\n",
            "0.9143999999999999\n",
            "1609.3439999999998\n",
            "2.5399999999999997e-05\n",
            "0.00035277777777777776\n",
            "0.00035277777777777776\n",
            "0.3048006096012192\n",
            "1609.3472186944373\n",
            "1852.0\n",
            "1e-15\n",
            "1e-10\n",
            "1e-06\n",
            "149597870700.0\n",
            "149597870700.0\n",
            "9460730472580800.0\n",
            "3.085677581491367e+16\n"
          ]
        }
      ]
    },
    {
      "cell_type": "markdown",
      "source": [
        "#Pressure"
      ],
      "metadata": {
        "id": "CfYEch26vmxY"
      }
    },
    {
      "cell_type": "code",
      "source": [
        "print(constants.atm)\n",
        "print(constants.atmosphere)\n",
        "print(constants.bar)\n",
        "print(constants.torr)\n",
        "print(constants.mmHg)\n",
        "print(constants.psi)"
      ],
      "metadata": {
        "colab": {
          "base_uri": "https://localhost:8080/"
        },
        "id": "XpyRtyOdvpMU",
        "outputId": "ddb40f7c-dde2-466a-d602-86eb615278bc"
      },
      "execution_count": null,
      "outputs": [
        {
          "output_type": "stream",
          "name": "stdout",
          "text": [
            "101325.0\n",
            "101325.0\n",
            "100000.0\n",
            "133.32236842105263\n",
            "133.32236842105263\n",
            "6894.757293168361\n"
          ]
        }
      ]
    },
    {
      "cell_type": "markdown",
      "source": [
        "#Area"
      ],
      "metadata": {
        "id": "5PRool9VvtA4"
      }
    },
    {
      "cell_type": "code",
      "source": [
        "print(constants.hectare)\n",
        "print(constants.acre)"
      ],
      "metadata": {
        "colab": {
          "base_uri": "https://localhost:8080/"
        },
        "id": "rlqv44SEvvX2",
        "outputId": "71728405-dd67-4338-d98f-60c0e916542b"
      },
      "execution_count": null,
      "outputs": [
        {
          "output_type": "stream",
          "name": "stdout",
          "text": [
            "10000.0\n",
            "4046.8564223999992\n"
          ]
        }
      ]
    },
    {
      "cell_type": "markdown",
      "source": [
        "#Volume"
      ],
      "metadata": {
        "id": "UiPmsWxUv11A"
      }
    },
    {
      "cell_type": "code",
      "source": [
        "print(constants.liter)\n",
        "print(constants.litre)\n",
        "print(constants.gallon)\n",
        "print(constants.gallon_US)\n",
        "print(constants.gallon_imp)\n",
        "print(constants.fluid_ounce)\n",
        "print(constants.fluid_ounce_US)\n",
        "print(constants.fluid_ounce_imp)\n",
        "print(constants.barrel)\n",
        "print(constants.bbl)"
      ],
      "metadata": {
        "colab": {
          "base_uri": "https://localhost:8080/"
        },
        "id": "_V6Rm9jRv3i0",
        "outputId": "a6f1287b-0629-42d9-a5aa-a2f768b7539d"
      },
      "execution_count": null,
      "outputs": [
        {
          "output_type": "stream",
          "name": "stdout",
          "text": [
            "0.001\n",
            "0.001\n",
            "0.0037854117839999997\n",
            "0.0037854117839999997\n",
            "0.00454609\n",
            "2.9573529562499998e-05\n",
            "2.9573529562499998e-05\n",
            "2.84130625e-05\n",
            "0.15898729492799998\n",
            "0.15898729492799998\n"
          ]
        }
      ]
    },
    {
      "cell_type": "markdown",
      "source": [
        "#Speed"
      ],
      "metadata": {
        "id": "GyUJwCOxv8Bn"
      }
    },
    {
      "cell_type": "code",
      "source": [
        "print(constants.kmh)\n",
        "print(constants.mph)\n",
        "print(constants.mach)\n",
        "print(constants.speed_of_sound)\n",
        "print(constants.knot)"
      ],
      "metadata": {
        "colab": {
          "base_uri": "https://localhost:8080/"
        },
        "id": "mkoLuNB2v9ye",
        "outputId": "a60edaea-c895-4c0f-e473-e760d74dc3c7"
      },
      "execution_count": null,
      "outputs": [
        {
          "output_type": "stream",
          "name": "stdout",
          "text": [
            "0.2777777777777778\n",
            "0.44703999999999994\n",
            "340.5\n",
            "340.5\n",
            "0.5144444444444445\n"
          ]
        }
      ]
    },
    {
      "cell_type": "markdown",
      "source": [
        "#Temperature"
      ],
      "metadata": {
        "id": "dqye9kvnwCTZ"
      }
    },
    {
      "cell_type": "code",
      "source": [
        "print(constants.zero_Celsius)\n",
        "print(constants.degree_Fahrenheit)"
      ],
      "metadata": {
        "colab": {
          "base_uri": "https://localhost:8080/"
        },
        "id": "OsVDzC8UwGEy",
        "outputId": "f72be916-8157-4923-fff4-333299cddd9b"
      },
      "execution_count": null,
      "outputs": [
        {
          "output_type": "stream",
          "name": "stdout",
          "text": [
            "273.15\n",
            "0.5555555555555556\n"
          ]
        }
      ]
    },
    {
      "cell_type": "markdown",
      "source": [
        "#power"
      ],
      "metadata": {
        "id": "6YaReHP_wI-E"
      }
    },
    {
      "cell_type": "code",
      "source": [
        "print(constants.hp)\n",
        "print(constants.horsepower)"
      ],
      "metadata": {
        "colab": {
          "base_uri": "https://localhost:8080/"
        },
        "id": "lQyW7s7ewKV6",
        "outputId": "cb8b1644-4666-471d-9b46-f3432b5ca36f"
      },
      "execution_count": null,
      "outputs": [
        {
          "output_type": "stream",
          "name": "stdout",
          "text": [
            "745.6998715822701\n",
            "745.6998715822701\n"
          ]
        }
      ]
    },
    {
      "cell_type": "markdown",
      "source": [
        "#Force"
      ],
      "metadata": {
        "id": "ZqZfxu1hwN-L"
      }
    },
    {
      "cell_type": "code",
      "source": [
        "print(constants.dyn)\n",
        "print(constants.dyne)\n",
        "print(constants.lbf)\n",
        "print(constants.pound_force)\n",
        "print(constants.kgf)\n",
        "print(constants.kilogram_force)"
      ],
      "metadata": {
        "id": "nhRgMiULwP-W",
        "outputId": "b6e35a53-6461-4a75-fa4d-5f81fd998b52",
        "colab": {
          "base_uri": "https://localhost:8080/"
        }
      },
      "execution_count": null,
      "outputs": [
        {
          "output_type": "stream",
          "name": "stdout",
          "text": [
            "1e-05\n",
            "1e-05\n",
            "4.4482216152605\n",
            "4.4482216152605\n",
            "9.80665\n",
            "9.80665\n"
          ]
        }
      ]
    }
  ]
}