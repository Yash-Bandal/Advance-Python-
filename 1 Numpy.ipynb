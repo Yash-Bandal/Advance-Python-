{
  "nbformat": 4,
  "nbformat_minor": 0,
  "metadata": {
    "colab": {
      "provenance": [],
      "toc_visible": true
    },
    "kernelspec": {
      "name": "python3",
      "display_name": "Python 3"
    },
    "language_info": {
      "name": "python"
    }
  },
  "cells": [
    {
      "cell_type": "markdown",
      "source": [
        "# NumPy Library\n",
        "\n",
        "#NumPy is a Python library used for working with arrays. It also has functions for working in domain of linear algebra, fourier transform, and matrices. NumPy was created in 2005 by Travis Oliphant. It is an open source project and you can use it freely."
      ],
      "metadata": {
        "id": "Eh9amaQ7mf8i"
      }
    },
    {
      "cell_type": "code",
      "source": [
        "import numpy as np"
      ],
      "metadata": {
        "id": "ZWCTnTw8mAFK"
      },
      "execution_count": null,
      "outputs": []
    },
    {
      "cell_type": "code",
      "source": [
        "arr1 = np.arange(10)\n",
        "print(arr1)"
      ],
      "metadata": {
        "colab": {
          "base_uri": "https://localhost:8080/"
        },
        "id": "knyEADexoIoG",
        "outputId": "210cb87f-c16d-4a48-e2d7-061aa8fbc608"
      },
      "execution_count": null,
      "outputs": [
        {
          "output_type": "stream",
          "name": "stdout",
          "text": [
            "[0 1 2 3 4 5 6 7 8 9]\n"
          ]
        }
      ]
    },
    {
      "cell_type": "markdown",
      "source": [
        "#1)ndarray.shape =>\n",
        "This is a tuple of integers indicating the size of the array in each dimension. For a\n",
        "matrix with n rows and m columns, shape will be (n,m). The length of the shape tuple is therefore the number\n",
        "of axes, ndim.\n",
        "- in below output we can see that there are 10 series and one dimension or one row of an array\n"
      ],
      "metadata": {
        "id": "aiuku44to2-1"
      }
    },
    {
      "cell_type": "code",
      "source": [
        "print(arr1.shape)"
      ],
      "metadata": {
        "colab": {
          "base_uri": "https://localhost:8080/"
        },
        "id": "4hH8xr5ApKNn",
        "outputId": "fb881641-b66a-4427-b5e1-1f29da9f8c8b"
      },
      "execution_count": null,
      "outputs": [
        {
          "output_type": "stream",
          "name": "stdout",
          "text": [
            "(10,)\n"
          ]
        }
      ]
    },
    {
      "cell_type": "markdown",
      "source": [],
      "metadata": {
        "id": "Dyw_MmZarjHJ"
      }
    },
    {
      "cell_type": "markdown",
      "source": [
        "# 2) ndarray.ndim =>\n",
        "the number of axes (dimensions) of the array."
      ],
      "metadata": {
        "id": "3TLuOvk5rNxu"
      }
    },
    {
      "cell_type": "code",
      "source": [
        "print(arr1.ndim)"
      ],
      "metadata": {
        "colab": {
          "base_uri": "https://localhost:8080/"
        },
        "id": "fydnoSfdrvTO",
        "outputId": "dcf5f5c1-4443-4e3b-e2c1-867b5232c4aa"
      },
      "execution_count": null,
      "outputs": [
        {
          "output_type": "stream",
          "name": "stdout",
          "text": [
            "1\n"
          ]
        }
      ]
    },
    {
      "cell_type": "markdown",
      "source": [
        "#3)dtype =>\n",
        "it returns the data type of an element of an array."
      ],
      "metadata": {
        "id": "ACRW3gUtsHGU"
      }
    },
    {
      "cell_type": "code",
      "source": [
        "print(arr1.dtype)"
      ],
      "metadata": {
        "colab": {
          "base_uri": "https://localhost:8080/"
        },
        "id": "cDrHOMG0sXIE",
        "outputId": "759c6fb9-9104-451d-fcef-f8c6c0f9d365"
      },
      "execution_count": null,
      "outputs": [
        {
          "output_type": "stream",
          "name": "stdout",
          "text": [
            "int64\n"
          ]
        }
      ]
    },
    {
      "cell_type": "markdown",
      "source": [
        "#4)ndarray.itemsize =>\n",
        "the size in bytes of each element of the array."
      ],
      "metadata": {
        "id": "JfZggvgysmmI"
      }
    },
    {
      "cell_type": "code",
      "source": [
        "print(arr1.itemsize)"
      ],
      "metadata": {
        "colab": {
          "base_uri": "https://localhost:8080/"
        },
        "id": "vsCbCczxszNz",
        "outputId": "1b23014f-3b47-4df6-f143-3253bf379a4f"
      },
      "execution_count": null,
      "outputs": [
        {
          "output_type": "stream",
          "name": "stdout",
          "text": [
            "8\n"
          ]
        }
      ]
    },
    {
      "cell_type": "markdown",
      "source": [
        "#5)ndarray.size =>\n",
        "the total number of elements of the array. This is equal to the product of the elements of shape"
      ],
      "metadata": {
        "id": "pSYKaAv4tFdi"
      }
    },
    {
      "cell_type": "code",
      "source": [
        "print(arr1.size)"
      ],
      "metadata": {
        "colab": {
          "base_uri": "https://localhost:8080/"
        },
        "id": "HVRXuHQ_tQei",
        "outputId": "e3953f9d-bfea-4885-e82e-022dfaae9937"
      },
      "execution_count": null,
      "outputs": [
        {
          "output_type": "stream",
          "name": "stdout",
          "text": [
            "10\n"
          ]
        }
      ]
    },
    {
      "cell_type": "markdown",
      "source": [
        "#6)type =>\n",
        "it returns the data type\n"
      ],
      "metadata": {
        "id": "O2zEhMCotXTf"
      }
    },
    {
      "cell_type": "code",
      "source": [
        "print(type(arr1))"
      ],
      "metadata": {
        "colab": {
          "base_uri": "https://localhost:8080/"
        },
        "id": "d3zQJ2Y8tlRW",
        "outputId": "8a729fb0-5989-4120-c9ef-b9035641c6b5"
      },
      "execution_count": null,
      "outputs": [
        {
          "output_type": "stream",
          "name": "stdout",
          "text": [
            "<class 'numpy.ndarray'>\n"
          ]
        }
      ]
    },
    {
      "cell_type": "markdown",
      "source": [
        "# Array Creation\n",
        "7)Arrange =>\n",
        "To create sequences of numbers, NumPy provides the arange function which is analogous to the Python built-in range,\n",
        "but returns an array."
      ],
      "metadata": {
        "id": "DCMGw_1Bt0Q_"
      }
    },
    {
      "cell_type": "code",
      "source": [
        "constant_num = np.arange(10,30,5)\n",
        "print(constant_num)\n",
        "float_num = np.arange(0,2,0.3)\n",
        "print(float_num)"
      ],
      "metadata": {
        "colab": {
          "base_uri": "https://localhost:8080/"
        },
        "id": "h4N51QH0usj2",
        "outputId": "04a6f4e0-621a-429e-fc66-a8f41d2f9593"
      },
      "execution_count": null,
      "outputs": [
        {
          "output_type": "stream",
          "name": "stdout",
          "text": [
            "[10 15 20 25]\n",
            "[0.  0.3 0.6 0.9 1.2 1.5 1.8]\n"
          ]
        }
      ]
    },
    {
      "cell_type": "markdown",
      "source": [
        "#8)linespace =>\n",
        "used to generate the numbers within the given range with equal gap."
      ],
      "metadata": {
        "id": "NDRomNd0vU3I"
      }
    },
    {
      "cell_type": "code",
      "source": [
        "from numpy import pi\n",
        "print(np.linspace(0,2,9)) # 9 numbers from 0 to 2 with equal gap"
      ],
      "metadata": {
        "colab": {
          "base_uri": "https://localhost:8080/"
        },
        "id": "XZYahr5Jv3Y3",
        "outputId": "70eeb880-73f1-4d7f-a454-06e552430d36"
      },
      "execution_count": null,
      "outputs": [
        {
          "output_type": "stream",
          "name": "stdout",
          "text": [
            "[0.   0.25 0.5  0.75 1.   1.25 1.5  1.75 2.  ]\n"
          ]
        }
      ]
    },
    {
      "cell_type": "markdown",
      "source": [
        "# 9)reshape =>\n",
        "used to reshape the array as given below"
      ],
      "metadata": {
        "id": "EZUdRlO_woRJ"
      }
    },
    {
      "cell_type": "code",
      "source": [
        "a = np.arange(12).reshape(4,3)\n",
        "print(a)\n",
        "print(\"\\n\")\n",
        "print(a.reshape(3,4))"
      ],
      "metadata": {
        "colab": {
          "base_uri": "https://localhost:8080/"
        },
        "id": "vxIkj1LnxVz5",
        "outputId": "37827cb3-69d2-4265-d679-8fc3005c69b9"
      },
      "execution_count": null,
      "outputs": [
        {
          "output_type": "stream",
          "name": "stdout",
          "text": [
            "[[ 0  1  2]\n",
            " [ 3  4  5]\n",
            " [ 6  7  8]\n",
            " [ 9 10 11]]\n",
            "\n",
            "\n",
            "[[ 0  1  2  3]\n",
            " [ 4  5  6  7]\n",
            " [ 8  9 10 11]]\n"
          ]
        }
      ]
    },
    {
      "cell_type": "markdown",
      "source": [
        "#10)random =>\n",
        " Declaring the array with random integers\n"
      ],
      "metadata": {
        "id": "rJrsVEnjx4Fk"
      }
    },
    {
      "cell_type": "code",
      "source": [
        "arr2 = np.random.randint(1,100,(5,5))\n",
        "print(arr2)"
      ],
      "metadata": {
        "colab": {
          "base_uri": "https://localhost:8080/"
        },
        "id": "BkXgAPBXy53w",
        "outputId": "92f28bdb-4a87-4779-cd23-24865f15f494"
      },
      "execution_count": null,
      "outputs": [
        {
          "output_type": "stream",
          "name": "stdout",
          "text": [
            "[[64 88 76 30 60]\n",
            " [ 8 21 41 19 18]\n",
            " [89 44 76 85 57]\n",
            " [25 31 69  9 45]\n",
            " [84 37 91 16 37]]\n"
          ]
        }
      ]
    },
    {
      "cell_type": "markdown",
      "source": [
        "#11)Min =>\n",
        "it returns the Minmum(smallest) element of an array"
      ],
      "metadata": {
        "id": "o0KEtWszzPPg"
      }
    },
    {
      "cell_type": "code",
      "source": [
        "print(arr2.min())\n",
        "print(arr2.min(axis = 0)) #min of each column\n",
        "print(arr2.min(axis = 1)) #min of each row"
      ],
      "metadata": {
        "colab": {
          "base_uri": "https://localhost:8080/"
        },
        "id": "vFt29KCB0VqR",
        "outputId": "9a6ed848-7f72-40d8-9ec9-fc7a523264e4"
      },
      "execution_count": null,
      "outputs": [
        {
          "output_type": "stream",
          "name": "stdout",
          "text": [
            "8\n",
            "[ 8 21 41  9 18]\n",
            "[30  8 44  9 16]\n"
          ]
        }
      ]
    },
    {
      "cell_type": "markdown",
      "source": [
        "#12)Max =>\n",
        "it returns the Maximum(largest) element from an array"
      ],
      "metadata": {
        "id": "yYRaT80o0cKf"
      }
    },
    {
      "cell_type": "code",
      "source": [
        "print(arr2.max())\n",
        "print(arr2.max(axis = 0)) #max of each column\n",
        "print(arr2.max(axis = 1)) #max of each row"
      ],
      "metadata": {
        "colab": {
          "base_uri": "https://localhost:8080/"
        },
        "id": "P4bG3nKF0o4Q",
        "outputId": "c469368c-6fcb-45ff-e1bb-721136254f98"
      },
      "execution_count": null,
      "outputs": [
        {
          "output_type": "stream",
          "name": "stdout",
          "text": [
            "91\n",
            "[89 88 91 85 60]\n",
            "[88 41 89 69 91]\n"
          ]
        }
      ]
    },
    {
      "cell_type": "markdown",
      "source": [
        "#13)sum\n"
      ],
      "metadata": {
        "id": "2awOGJhH08SQ"
      }
    },
    {
      "cell_type": "code",
      "source": [
        "print(arr2.sum(axis = 0)) #sum of each column\n",
        "print(arr2.sum()) # sum of all the elements of an array\n",
        "print(arr2.sum(axis = 1)) #sum of each row"
      ],
      "metadata": {
        "colab": {
          "base_uri": "https://localhost:8080/"
        },
        "id": "n9SsPCE21Hm4",
        "outputId": "aa730de4-f55b-4e40-e593-b642e4dac51c"
      },
      "execution_count": null,
      "outputs": [
        {
          "output_type": "stream",
          "name": "stdout",
          "text": [
            "[270 221 353 159 217]\n",
            "1220\n",
            "[318 107 351 179 265]\n"
          ]
        }
      ]
    },
    {
      "cell_type": "markdown",
      "source": [
        "#14)cumsum =>\n",
        "it returns the cumulative sum"
      ],
      "metadata": {
        "id": "JtSIUVSQ1vrx"
      }
    },
    {
      "cell_type": "code",
      "source": [
        "print(arr2.cumsum(axis=0)) #cumsum of each column\n",
        "print(arr2.cumsum()) #cumsum of all the elements of an array\n",
        "print(arr2.cumsum(axis=1)) #cumsum of each row"
      ],
      "metadata": {
        "colab": {
          "base_uri": "https://localhost:8080/"
        },
        "id": "3Mfz_hhF23DD",
        "outputId": "e95c6a67-b5de-4935-ce4c-5b482555104e"
      },
      "execution_count": null,
      "outputs": [
        {
          "output_type": "stream",
          "name": "stdout",
          "text": [
            "[[ 64  88  76  30  60]\n",
            " [ 72 109 117  49  78]\n",
            " [161 153 193 134 135]\n",
            " [186 184 262 143 180]\n",
            " [270 221 353 159 217]]\n",
            "[  64  152  228  258  318  326  347  388  407  425  514  558  634  719\n",
            "  776  801  832  901  910  955 1039 1076 1167 1183 1220]\n",
            "[[ 64 152 228 258 318]\n",
            " [  8  29  70  89 107]\n",
            " [ 89 133 209 294 351]\n",
            " [ 25  56 125 134 179]\n",
            " [ 84 121 212 228 265]]\n"
          ]
        }
      ]
    },
    {
      "cell_type": "markdown",
      "source": [
        "#15)sqrt =>\n",
        "it returns the square-root of each element of an array"
      ],
      "metadata": {
        "id": "i44Xr1X_3qqt"
      }
    },
    {
      "cell_type": "code",
      "source": [
        "print(np.sqrt(arr2))"
      ],
      "metadata": {
        "colab": {
          "base_uri": "https://localhost:8080/"
        },
        "id": "J-yboy0w4Orn",
        "outputId": "fccfa60c-f640-43a5-966d-ef1bba0f0b6a"
      },
      "execution_count": null,
      "outputs": [
        {
          "output_type": "stream",
          "name": "stdout",
          "text": [
            "[[8.         9.38083152 8.71779789 5.47722558 7.74596669]\n",
            " [2.82842712 4.58257569 6.40312424 4.35889894 4.24264069]\n",
            " [9.43398113 6.63324958 8.71779789 9.21954446 7.54983444]\n",
            " [5.         5.56776436 8.30662386 3.         6.70820393]\n",
            " [9.16515139 6.08276253 9.53939201 4.         6.08276253]]\n"
          ]
        }
      ]
    },
    {
      "cell_type": "markdown",
      "source": [
        "#16)Add =>\n",
        "it gives addition of each element of an array with similar element of another array"
      ],
      "metadata": {
        "id": "vbYVyySs47Of"
      }
    },
    {
      "cell_type": "code",
      "source": [
        "A = [10,20,30,40,50]\n",
        "B = [1,2,3,4,5]\n",
        "print(\"A => \",A)\n",
        "print(\"\\n\")\n",
        "print(\"B => \",B)\n",
        "print(\"\\n\")\n",
        "print(\"Addition of A and B => \",np.add(A,B))"
      ],
      "metadata": {
        "colab": {
          "base_uri": "https://localhost:8080/"
        },
        "id": "wMAd3tE36qVV",
        "outputId": "1787f248-8071-4771-f163-ae80a622c734"
      },
      "execution_count": null,
      "outputs": [
        {
          "output_type": "stream",
          "name": "stdout",
          "text": [
            "A =>  [10, 20, 30, 40, 50]\n",
            "\n",
            "\n",
            "B =>  [1, 2, 3, 4, 5]\n",
            "\n",
            "\n",
            "Addition of A and B =>  [11 22 33 44 55]\n"
          ]
        }
      ]
    },
    {
      "cell_type": "markdown",
      "source": [],
      "metadata": {
        "id": "OlY4f3pt7XSj"
      }
    },
    {
      "cell_type": "markdown",
      "source": [
        "#17)subtract =>\n",
        "it gives substraction of each element of an array with similar element of an another array"
      ],
      "metadata": {
        "id": "Us5cUyIqL60r"
      }
    },
    {
      "cell_type": "code",
      "source": [
        "print(\"substraction of A and B => \",np.subtract(A,B))"
      ],
      "metadata": {
        "colab": {
          "base_uri": "https://localhost:8080/"
        },
        "id": "96ylUBdEMjMD",
        "outputId": "539ad6bf-b1ff-45fc-b952-c6a75dbbdfb3"
      },
      "execution_count": null,
      "outputs": [
        {
          "output_type": "stream",
          "name": "stdout",
          "text": [
            "substraction of A and B =>  [ 9 18 27 36 45]\n"
          ]
        }
      ]
    },
    {
      "cell_type": "markdown",
      "source": [
        "#18)multiply =>\n",
        "it gives substraction of each element of an array with similar element of an another array"
      ],
      "metadata": {
        "id": "V3rOtQ2VMve6"
      }
    },
    {
      "cell_type": "code",
      "source": [
        "print(\"multiplication of A and B => \",np.multiply(A,B))"
      ],
      "metadata": {
        "colab": {
          "base_uri": "https://localhost:8080/"
        },
        "id": "GT7-6xFiNGwu",
        "outputId": "a17ca825-ad1b-4963-94ef-6b4fd61c272c"
      },
      "execution_count": null,
      "outputs": [
        {
          "output_type": "stream",
          "name": "stdout",
          "text": [
            "multiplication of A and B =>  [ 10  40  90 160 250]\n"
          ]
        }
      ]
    },
    {
      "cell_type": "markdown",
      "source": [
        "#19)divide =>\n",
        "it gives substraction of each element of an array with similar element of an another array"
      ],
      "metadata": {
        "id": "f3wXFMPJNY-X"
      }
    },
    {
      "cell_type": "code",
      "source": [
        "print(\"division of A and B => \",np.divide(A,B))"
      ],
      "metadata": {
        "colab": {
          "base_uri": "https://localhost:8080/"
        },
        "id": "Ef0CIDFSNolW",
        "outputId": "f2b067c4-fcd2-4333-c01e-2f7fb8e8c5d7"
      },
      "execution_count": null,
      "outputs": [
        {
          "output_type": "stream",
          "name": "stdout",
          "text": [
            "division of A and B =>  [10. 10. 10. 10. 10.]\n"
          ]
        }
      ]
    },
    {
      "cell_type": "markdown",
      "source": [
        "#20)mod\n",
        "it gives mod of each element of an array with its correspondance array"
      ],
      "metadata": {
        "id": "36DZ07LqOCJE"
      }
    },
    {
      "cell_type": "code",
      "source": [
        "print(\"mod of A and B => \",np.mod(A,B))"
      ],
      "metadata": {
        "colab": {
          "base_uri": "https://localhost:8080/"
        },
        "id": "IO8AkCOzOQaF",
        "outputId": "fd96b08e-b455-40ee-9b7e-40ccdcf6bbbc"
      },
      "execution_count": null,
      "outputs": [
        {
          "output_type": "stream",
          "name": "stdout",
          "text": [
            "mod of A and B =>  [0 0 0 0 0]\n"
          ]
        }
      ]
    },
    {
      "cell_type": "markdown",
      "source": [
        "#21)remainder =>\n",
        "Performing remainder on two matrices"
      ],
      "metadata": {
        "id": "DScOQ2rrOrDV"
      }
    },
    {
      "cell_type": "code",
      "source": [
        "print(\"remainder of A and B => \",np.remainder(A,B))"
      ],
      "metadata": {
        "colab": {
          "base_uri": "https://localhost:8080/"
        },
        "id": "cwP7mRQeO4Nd",
        "outputId": "26da817c-c9bf-42b5-9c29-27c7b5d1472d"
      },
      "execution_count": null,
      "outputs": [
        {
          "output_type": "stream",
          "name": "stdout",
          "text": [
            "remainder of A and B =>  [0 0 0 0 0]\n"
          ]
        }
      ]
    },
    {
      "cell_type": "markdown",
      "source": [
        "#22)power =>\n",
        "Performing power of two matrices"
      ],
      "metadata": {
        "id": "EbbR-F9oPDLX"
      }
    },
    {
      "cell_type": "code",
      "source": [
        "print(\"power of A and B => \",np.power(A,B))"
      ],
      "metadata": {
        "colab": {
          "base_uri": "https://localhost:8080/"
        },
        "id": "p4F6ib7gPLEZ",
        "outputId": "8a630d88-7161-435b-b418-afb30d4f06ef"
      },
      "execution_count": null,
      "outputs": [
        {
          "output_type": "stream",
          "name": "stdout",
          "text": [
            "power of A and B =>  [       10       400     27000   2560000 312500000]\n"
          ]
        }
      ]
    },
    {
      "cell_type": "markdown",
      "source": [
        "#23)mean\n",
        "Getting mean of all numbers in A"
      ],
      "metadata": {
        "id": "AFCugv_EPY7g"
      }
    },
    {
      "cell_type": "code",
      "source": [
        "print(\"mean of A => \",np.mean(A))"
      ],
      "metadata": {
        "colab": {
          "base_uri": "https://localhost:8080/"
        },
        "id": "1J7XyjLpPtlJ",
        "outputId": "913f5d42-d0e6-471a-abf2-616674741892"
      },
      "execution_count": null,
      "outputs": [
        {
          "output_type": "stream",
          "name": "stdout",
          "text": [
            "mean of A =>  30.0\n"
          ]
        }
      ]
    },
    {
      "cell_type": "markdown",
      "source": [
        "#24)var =>\n",
        "Getting variance of all number in 'A'"
      ],
      "metadata": {
        "id": "6yVsdL5TQAZl"
      }
    },
    {
      "cell_type": "code",
      "source": [
        "print(\"variance of A => \",np.var(A))"
      ],
      "metadata": {
        "colab": {
          "base_uri": "https://localhost:8080/"
        },
        "id": "_eQIOez0QP1A",
        "outputId": "a3507cba-c27b-4c18-9eca-7fc474300c43"
      },
      "execution_count": null,
      "outputs": [
        {
          "output_type": "stream",
          "name": "stdout",
          "text": [
            "variance of A =>  200.0\n"
          ]
        }
      ]
    },
    {
      "cell_type": "markdown",
      "source": [
        "#25)average =>\n",
        "it gives us Average of all elements"
      ],
      "metadata": {
        "id": "FBiyHFBQRfZp"
      }
    },
    {
      "cell_type": "code",
      "source": [
        "print(\"Average of A => \",np.average(A))"
      ],
      "metadata": {
        "colab": {
          "base_uri": "https://localhost:8080/"
        },
        "id": "WyLMRq1WRu8K",
        "outputId": "b17836f5-28c2-4502-a67c-f9530439d434"
      },
      "execution_count": null,
      "outputs": [
        {
          "output_type": "stream",
          "name": "stdout",
          "text": [
            "Average of A =>  30.0\n"
          ]
        }
      ]
    },
    {
      "cell_type": "markdown",
      "source": [
        "#26)transpose =>\n",
        "it gives transpose of Array"
      ],
      "metadata": {
        "id": "eD1hQJR_SQrE"
      }
    },
    {
      "cell_type": "code",
      "source": [
        "arr3 = np.random.randint(1,100,(5,5))\n",
        "print(arr3)\n",
        "print(\"\\n\")\n",
        "print(\"transpose of arr3 \")\n",
        "print(np.transpose(arr3))"
      ],
      "metadata": {
        "colab": {
          "base_uri": "https://localhost:8080/"
        },
        "id": "ruKPaI-bShrr",
        "outputId": "4002c560-339d-49fe-c856-a4a327044005"
      },
      "execution_count": null,
      "outputs": [
        {
          "output_type": "stream",
          "name": "stdout",
          "text": [
            "[[13 30 57 75 61]\n",
            " [74 38 55  7 93]\n",
            " [86 18 12 91 93]\n",
            " [69 75 19 29 48]\n",
            " [ 5 59 85 15 44]]\n",
            "\n",
            "\n",
            "transpose of arr3 \n",
            "[[13 74 86 69  5]\n",
            " [30 38 18 75 59]\n",
            " [57 55 12 19 85]\n",
            " [75  7 91 29 15]\n",
            " [61 93 93 48 44]]\n"
          ]
        }
      ]
    },
    {
      "cell_type": "markdown",
      "source": [
        "#27)all =>\n",
        "it returns the specific rows or columns or entire Array"
      ],
      "metadata": {
        "id": "gyxDCeJGTgN2"
      }
    },
    {
      "cell_type": "code",
      "source": [
        "print(np.all(arr3 , axis = 0))\n",
        "print(\"\\n\")\n",
        "print(np.all(arr3 , axis = 1))\n",
        "print(\"\\n\")\n",
        "print(np.all(arr3 , axis = 0 ,keepdims=True ))\n",
        "print(\"\\n\")\n",
        "print(np.all(arr3 , axis = 1 , keepdims=True))\n",
        "print(\"\\n\")"
      ],
      "metadata": {
        "colab": {
          "base_uri": "https://localhost:8080/"
        },
        "id": "84y785QJUkk0",
        "outputId": "822c6621-bd6d-46b4-b199-86ecc0648a64"
      },
      "execution_count": null,
      "outputs": [
        {
          "output_type": "stream",
          "name": "stdout",
          "text": [
            "[ True  True  True  True  True]\n",
            "\n",
            "\n",
            "[ True  True  True  True  True]\n",
            "\n",
            "\n",
            "[[ True  True  True  True  True]]\n",
            "\n",
            "\n",
            "[[ True]\n",
            " [ True]\n",
            " [ True]\n",
            " [ True]\n",
            " [ True]]\n",
            "\n",
            "\n"
          ]
        }
      ]
    },
    {
      "cell_type": "markdown",
      "source": [
        "#28)argmax =>\n",
        "The argmax function returns the indices of the maximum values along an axis."
      ],
      "metadata": {
        "id": "2tzN_2YcVlL6"
      }
    },
    {
      "cell_type": "code",
      "source": [
        "print(np.argmax(A))\n",
        "print(\"\\n\")\n",
        "\n",
        "print(np.argmax(arr3))\n",
        "print(\"\\n\")\n",
        "print(np.argmax(arr3,axis=0))\n",
        "print(\"\\n\")\n",
        "print(np.argmax(arr3,axis=1))\n",
        "print(\"\\n\")"
      ],
      "metadata": {
        "colab": {
          "base_uri": "https://localhost:8080/"
        },
        "id": "BfJ7NVVlXIs_",
        "outputId": "fe919a7b-2bcf-4f21-ad17-90ca3b76be84"
      },
      "execution_count": null,
      "outputs": [
        {
          "output_type": "stream",
          "name": "stdout",
          "text": [
            "4\n",
            "\n",
            "\n",
            "9\n",
            "\n",
            "\n",
            "[2 3 4 2 1]\n",
            "\n",
            "\n",
            "[3 4 4 1 2]\n",
            "\n",
            "\n"
          ]
        }
      ]
    },
    {
      "cell_type": "markdown",
      "source": [
        "#30)argmin =>\n",
        "The argmin function returns the indices of the minimum values along an axis."
      ],
      "metadata": {
        "id": "NtcRjrytWcmH"
      }
    },
    {
      "cell_type": "code",
      "source": [
        "print(np.argmin(A))\n",
        "print(\"\\n\")\n",
        "\n",
        "print(np.argmin(arr3))\n",
        "print(\"\\n\")\n",
        "print(np.argmin(arr3,axis=0))\n",
        "print(\"\\n\")\n",
        "print(np.argmin(arr3,axis=1))\n",
        "print(\"\\n\")"
      ],
      "metadata": {
        "colab": {
          "base_uri": "https://localhost:8080/"
        },
        "id": "CzVILqFIYW85",
        "outputId": "6660aae8-0578-4e62-9a66-0cab7719f769"
      },
      "execution_count": null,
      "outputs": [
        {
          "output_type": "stream",
          "name": "stdout",
          "text": [
            "0\n",
            "\n",
            "\n",
            "20\n",
            "\n",
            "\n",
            "[4 2 2 1 4]\n",
            "\n",
            "\n",
            "[0 3 2 2 0]\n",
            "\n",
            "\n"
          ]
        }
      ]
    },
    {
      "cell_type": "markdown",
      "source": [
        "#31)argsort =>\n",
        "The argsort function returns the indices that would sort an array."
      ],
      "metadata": {
        "id": "mSYY-WxsW4D2"
      }
    },
    {
      "cell_type": "code",
      "source": [
        "print(np.argsort(A))\n",
        "print(\"\\n\")\n",
        "\n",
        "print(np.argsort(arr3))\n",
        "print(\"\\n\")\n",
        "print(np.argsort(arr3,axis=0))\n",
        "print(\"\\n\")\n",
        "print(np.argsort(arr3,axis=1))\n",
        "print(\"\\n\")"
      ],
      "metadata": {
        "colab": {
          "base_uri": "https://localhost:8080/"
        },
        "id": "ctnJ0j1iYhb8",
        "outputId": "e306b32f-6cd3-4581-d974-c2e051909b8d"
      },
      "execution_count": null,
      "outputs": [
        {
          "output_type": "stream",
          "name": "stdout",
          "text": [
            "[0 1 2 3 4]\n",
            "\n",
            "\n",
            "[[0 1 2 4 3]\n",
            " [3 1 2 0 4]\n",
            " [2 1 0 3 4]\n",
            " [2 3 4 0 1]\n",
            " [0 3 4 1 2]]\n",
            "\n",
            "\n",
            "[[4 2 2 1 4]\n",
            " [0 0 3 4 3]\n",
            " [3 1 1 3 0]\n",
            " [1 4 0 0 1]\n",
            " [2 3 4 2 2]]\n",
            "\n",
            "\n",
            "[[0 1 2 4 3]\n",
            " [3 1 2 0 4]\n",
            " [2 1 0 3 4]\n",
            " [2 3 4 0 1]\n",
            " [0 3 4 1 2]]\n",
            "\n",
            "\n"
          ]
        }
      ]
    },
    {
      "cell_type": "markdown",
      "source": [
        "#32)bincount =>\n",
        "bincount is a function in the numpy library that counts the number of occurrences of each value in an array of non-negative integers."
      ],
      "metadata": {
        "id": "M-ZC-lBAZiNx"
      }
    },
    {
      "cell_type": "code",
      "source": [
        "arr_count = np.array([0, 1, 1, 2, 2, 2, 3 , 4 ,5 , 6 , 6])\n",
        "count = np.bincount(arr_count)\n",
        "print(count)"
      ],
      "metadata": {
        "colab": {
          "base_uri": "https://localhost:8080/"
        },
        "id": "oOqQny5talqS",
        "outputId": "5b4ce173-9a53-4294-8f8c-c9af9b2ff3a5"
      },
      "execution_count": null,
      "outputs": [
        {
          "output_type": "stream",
          "name": "stdout",
          "text": [
            "[1 2 3 1 1 1 2]\n"
          ]
        }
      ]
    },
    {
      "cell_type": "markdown",
      "source": [
        "#33)clip =>\n",
        "clip is a function in the numpy library that limits the values in an array."
      ],
      "metadata": {
        "id": "M3fcWiNSZ8da"
      }
    },
    {
      "cell_type": "code",
      "source": [
        "clipped_arr = np.clip(arr_count, 2, 4)\n",
        "print(clipped_arr)"
      ],
      "metadata": {
        "colab": {
          "base_uri": "https://localhost:8080/"
        },
        "id": "_OELT58zbO1c",
        "outputId": "3b9b161f-7ea9-433f-d683-2dc695d771c6"
      },
      "execution_count": null,
      "outputs": [
        {
          "output_type": "stream",
          "name": "stdout",
          "text": [
            "[2 2 2 2 2 2 3 4 4 4 4]\n"
          ]
        }
      ]
    },
    {
      "cell_type": "markdown",
      "source": [
        "#34)conj =>\n",
        "conj is a function in the numpy library that returns the complex conjugate of each element in the array."
      ],
      "metadata": {
        "id": "6Xqo7cJOaP0l"
      }
    },
    {
      "cell_type": "code",
      "source": [
        "arr_conj = np.array([1+2j, 3-4j, 5+6j])\n",
        "conjugate_arr = np.conj(arr_conj)\n",
        "print(conjugate_arr)"
      ],
      "metadata": {
        "colab": {
          "base_uri": "https://localhost:8080/"
        },
        "id": "peId25R9bpWt",
        "outputId": "84d0fe8c-415c-43fa-e824-b48b667f043e"
      },
      "execution_count": null,
      "outputs": [
        {
          "output_type": "stream",
          "name": "stdout",
          "text": [
            "[1.-2.j 3.+4.j 5.-6.j]\n"
          ]
        }
      ]
    },
    {
      "cell_type": "markdown",
      "source": [
        "#35)corrcoef =>\n",
        "corrcoef is a function in the numpy library that returns the Pearson product-moment correlation coefficients."
      ],
      "metadata": {
        "id": "yEJXQOlpcQz8"
      }
    },
    {
      "cell_type": "code",
      "source": [
        "x = np.array([1, 2, 3])\n",
        "y = np.array([4, 5, 6])\n",
        "correlation_matrix = np.corrcoef(x, y)\n",
        "print(correlation_matrix)"
      ],
      "metadata": {
        "colab": {
          "base_uri": "https://localhost:8080/"
        },
        "id": "TGPRipMnc-SD",
        "outputId": "d4188599-f6ba-4980-e981-7872303adacb"
      },
      "execution_count": null,
      "outputs": [
        {
          "output_type": "stream",
          "name": "stdout",
          "text": [
            "[[1. 1.]\n",
            " [1. 1.]]\n"
          ]
        }
      ]
    },
    {
      "cell_type": "markdown",
      "source": [
        "#36)cov =>\n",
        "cov is a function in the numpy library that estimates the covariance matrix of given data."
      ],
      "metadata": {
        "id": "6Zu_wf-zcZZU"
      }
    },
    {
      "cell_type": "code",
      "source": [
        "covariance_matrix = np.cov(x, y)\n",
        "print(covariance_matrix)"
      ],
      "metadata": {
        "colab": {
          "base_uri": "https://localhost:8080/"
        },
        "id": "VTEAlFapc-5M",
        "outputId": "03ff072b-cc0b-490c-a1b6-dca7c08222bc"
      },
      "execution_count": null,
      "outputs": [
        {
          "output_type": "stream",
          "name": "stdout",
          "text": [
            "[[1. 1.]\n",
            " [1. 1.]]\n"
          ]
        }
      ]
    },
    {
      "cell_type": "markdown",
      "source": [
        "#37)cross =>\n",
        "cross is a function in the numpy library that returns the cross product of two vectors"
      ],
      "metadata": {
        "id": "WPiUzNAhciwh"
      }
    },
    {
      "cell_type": "code",
      "source": [
        "cross_product = np.cross(x, y)\n",
        "print(cross_product)"
      ],
      "metadata": {
        "colab": {
          "base_uri": "https://localhost:8080/"
        },
        "id": "HL93fC9GdAKV",
        "outputId": "2dc4b2c5-b0b8-445e-ddc6-c3d30cfb5853"
      },
      "execution_count": null,
      "outputs": [
        {
          "output_type": "stream",
          "name": "stdout",
          "text": [
            "[-3  6 -3]\n"
          ]
        }
      ]
    },
    {
      "cell_type": "markdown",
      "source": [
        "#38)cumprod =>\n",
        "cumprod is a function in the numpy library that returns the cumulative product of elements along a given axis."
      ],
      "metadata": {
        "id": "JT5DKd-9cyaw"
      }
    },
    {
      "cell_type": "code",
      "source": [
        "arr_cp= np.array([1, 2, 3, 4])\n",
        "cumulative_product = np.cumprod(arr_cp)\n",
        "print(cumulative_product)"
      ],
      "metadata": {
        "colab": {
          "base_uri": "https://localhost:8080/"
        },
        "id": "u7oJiWY0dBME",
        "outputId": "3805b745-cca9-4fca-89f9-ab0c9ef8e634"
      },
      "execution_count": null,
      "outputs": [
        {
          "output_type": "stream",
          "name": "stdout",
          "text": [
            "[ 1  2  6 24]\n"
          ]
        }
      ]
    },
    {
      "cell_type": "markdown",
      "source": [
        "#39)diff =>\n",
        "diff is a function in the numpy library that calculates the n-th discrete difference along the given axis."
      ],
      "metadata": {
        "id": "ad0d8FHefcc0"
      }
    },
    {
      "cell_type": "code",
      "source": [
        "arr = np.array([1, 2, 4, 7, 0])\n",
        "difference = np.diff(arr)\n",
        "print(difference)"
      ],
      "metadata": {
        "colab": {
          "base_uri": "https://localhost:8080/"
        },
        "id": "s1Y5ZSMOgbSl",
        "outputId": "4dadb78c-b374-4f23-a52c-cc79c955b6e1"
      },
      "execution_count": null,
      "outputs": [
        {
          "output_type": "stream",
          "name": "stdout",
          "text": [
            "[ 1  2  3 -7]\n"
          ]
        }
      ]
    },
    {
      "cell_type": "markdown",
      "source": [
        "#40)dot =>\n",
        "dot is a function in the numpy library that returns the dot product of two arrays. For 2-D arrays, it is equivalent to matrix multiplication."
      ],
      "metadata": {
        "id": "7fXREGZrfkUy"
      }
    },
    {
      "cell_type": "code",
      "source": [
        "a = np.array([1, 2, 3])\n",
        "b = np.array([4, 5, 6])\n",
        "dot_product = np.dot(a, b)\n",
        "print(dot_product)"
      ],
      "metadata": {
        "colab": {
          "base_uri": "https://localhost:8080/"
        },
        "id": "oyDHGeKBhRvQ",
        "outputId": "f908043a-0b38-48de-e817-9850f0bcd0f5"
      },
      "execution_count": null,
      "outputs": [
        {
          "output_type": "stream",
          "name": "stdout",
          "text": [
            "32\n"
          ]
        }
      ]
    },
    {
      "cell_type": "markdown",
      "source": [
        "#41)floor =>\n",
        "floor is a function in the numpy and math libraries that returns the largest integer less than or equal to a given number."
      ],
      "metadata": {
        "id": "wBMbQ1olfwPD"
      }
    },
    {
      "cell_type": "code",
      "source": [
        "import math\n",
        "print(np.floor(4.7))  # Output: 4.0\n",
        "print(math.floor(4.7))  # Output: 4\n",
        "print(np.floor(a))"
      ],
      "metadata": {
        "colab": {
          "base_uri": "https://localhost:8080/"
        },
        "id": "JzknPc3Ehl00",
        "outputId": "7b452ff7-8afa-42e4-84e2-5a315c8c37e7"
      },
      "execution_count": null,
      "outputs": [
        {
          "output_type": "stream",
          "name": "stdout",
          "text": [
            "4.0\n",
            "4\n",
            "[1. 2. 3.]\n"
          ]
        }
      ]
    },
    {
      "cell_type": "markdown",
      "source": [
        "#42)inner =>\n",
        "inner is a function in the numpy library that returns the inner product of two arrays."
      ],
      "metadata": {
        "id": "K0FTtF5Ff65i"
      }
    },
    {
      "cell_type": "code",
      "source": [
        "inner_product = np.inner(a, b)\n",
        "print(inner_product)"
      ],
      "metadata": {
        "colab": {
          "base_uri": "https://localhost:8080/"
        },
        "id": "cryLe1xOi9eu",
        "outputId": "5991f6f8-6800-4b97-9c56-08b1c9251ccf"
      },
      "execution_count": null,
      "outputs": [
        {
          "output_type": "stream",
          "name": "stdout",
          "text": [
            "32\n"
          ]
        }
      ]
    },
    {
      "cell_type": "markdown",
      "source": [
        "#43)invert =>\n",
        "invert is a function in the numpy library that computes the bit-wise inversion, or bit-wise NOT, of an array."
      ],
      "metadata": {
        "id": "D0PHJy_PgDv9"
      }
    },
    {
      "cell_type": "code",
      "source": [
        "arr = np.array([0, 1, 2, 3], dtype=np.uint8)\n",
        "inverted_arr = np.invert(arr)\n",
        "print(inverted_arr)"
      ],
      "metadata": {
        "colab": {
          "base_uri": "https://localhost:8080/"
        },
        "id": "vGr9fyCMjt5_",
        "outputId": "54bf6de2-7336-4ac1-d2e7-80b8bcff4c8c"
      },
      "execution_count": null,
      "outputs": [
        {
          "output_type": "stream",
          "name": "stdout",
          "text": [
            "[255 254 253 252]\n"
          ]
        }
      ]
    },
    {
      "cell_type": "markdown",
      "source": [
        "#44)lexsort =>\n",
        "lexsort is a function in the numpy library that performs an indirect sort using a sequence of keys."
      ],
      "metadata": {
        "id": "imle6F4BgMbT"
      }
    },
    {
      "cell_type": "markdown",
      "source": [],
      "metadata": {
        "id": "Z0OeIvpjTHWB"
      }
    },
    {
      "cell_type": "code",
      "source": [
        "names = ('John', 'Paul', 'George', 'Ringo')\n",
        "heights = [180, 175, 173, 170]\n",
        "order = np.lexsort((heights, names))\n",
        "print(order)"
      ],
      "metadata": {
        "colab": {
          "base_uri": "https://localhost:8080/"
        },
        "id": "JlkIxipMkVXB",
        "outputId": "ae2a4f9f-2bc9-4746-c935-e8088f3bd0d4"
      },
      "execution_count": null,
      "outputs": [
        {
          "output_type": "stream",
          "name": "stdout",
          "text": [
            "[2 0 1 3]\n"
          ]
        }
      ]
    },
    {
      "cell_type": "markdown",
      "source": [
        "#45)maximum =>\n",
        "The numpy.maximum function compares two arrays element-wise and returns a new array containing the maximum values."
      ],
      "metadata": {
        "id": "WeA84SjIk8Wr"
      }
    },
    {
      "cell_type": "code",
      "source": [
        "maximum_values = np.maximum(a, b)\n",
        "print(maximum_values)"
      ],
      "metadata": {
        "colab": {
          "base_uri": "https://localhost:8080/"
        },
        "id": "khCFD7pPlEst",
        "outputId": "950b96a9-e856-49aa-f370-73eab3ea6c80"
      },
      "execution_count": null,
      "outputs": [
        {
          "output_type": "stream",
          "name": "stdout",
          "text": [
            "[4 5 6]\n"
          ]
        }
      ]
    },
    {
      "cell_type": "markdown",
      "source": [
        "#46)median =>\n",
        "median is a function in the numpy library that computes the median along a specified axis."
      ],
      "metadata": {
        "id": "E0DqTxerl162"
      }
    },
    {
      "cell_type": "code",
      "source": [
        "arr_median = np.array([1, 2, 3, 4, 5])\n",
        "median_value = np.median(arr_median)\n",
        "print(median_value)"
      ],
      "metadata": {
        "colab": {
          "base_uri": "https://localhost:8080/"
        },
        "id": "zg5Xk1AQmwd2",
        "outputId": "96d4cab6-ee11-4d17-f17b-683a6dff578b"
      },
      "execution_count": null,
      "outputs": [
        {
          "output_type": "stream",
          "name": "stdout",
          "text": [
            "3.0\n"
          ]
        }
      ]
    },
    {
      "cell_type": "markdown",
      "source": [
        "#47)mininum =>\n",
        "minimum is a function in the numpy library that returns the element-wise minimum of array elements."
      ],
      "metadata": {
        "id": "QKJ-TZFHl8br"
      }
    },
    {
      "cell_type": "code",
      "source": [
        "minimum_values = np.minimum(a, b)\n",
        "print(minimum_values)"
      ],
      "metadata": {
        "colab": {
          "base_uri": "https://localhost:8080/"
        },
        "id": "DByNdNXwm9Lv",
        "outputId": "41f0b331-c172-43e3-a5c9-c476936e14d4"
      },
      "execution_count": null,
      "outputs": [
        {
          "output_type": "stream",
          "name": "stdout",
          "text": [
            "[1 2 3]\n"
          ]
        }
      ]
    },
    {
      "cell_type": "markdown",
      "source": [
        "#48)nonzero =>\n",
        "nonzero is a function in the numpy library that returns the indices of the elements that are non-zero"
      ],
      "metadata": {
        "id": "rMepg5wZmKyb"
      }
    },
    {
      "cell_type": "code",
      "source": [
        "arr_nz = np.array([0, 1, 0, 2, 0, 3])\n",
        "nonzero_indices = np.nonzero(arr_nz)\n",
        "print(nonzero_indices)"
      ],
      "metadata": {
        "colab": {
          "base_uri": "https://localhost:8080/"
        },
        "id": "Cptkl90YnLbi",
        "outputId": "ff753aae-0622-4857-f43d-5fea5014549a"
      },
      "execution_count": null,
      "outputs": [
        {
          "output_type": "stream",
          "name": "stdout",
          "text": [
            "(array([1, 3, 5]),)\n"
          ]
        }
      ]
    },
    {
      "cell_type": "markdown",
      "source": [
        "#49)outer =>\n",
        "uter is a function in the numpy library that computes the outer product of two vectors."
      ],
      "metadata": {
        "id": "4HJsEy21mS_j"
      }
    },
    {
      "cell_type": "code",
      "source": [
        "a_op = np.array([1, 2, 3])\n",
        "b_op= np.array([4, 5, 6])\n",
        "outer_product = np.outer(a_op, b_op)\n",
        "print(outer_product)"
      ],
      "metadata": {
        "colab": {
          "base_uri": "https://localhost:8080/"
        },
        "id": "GeeSazCvnTvR",
        "outputId": "17ebbb95-342f-48d1-d169-3fa6b2adc3bd"
      },
      "execution_count": null,
      "outputs": [
        {
          "output_type": "stream",
          "name": "stdout",
          "text": [
            "[[ 4  5  6]\n",
            " [ 8 10 12]\n",
            " [12 15 18]]\n"
          ]
        }
      ]
    },
    {
      "cell_type": "markdown",
      "source": [
        "#50)prod =>\n",
        "prod is a function in the numpy library that returns the product of array elements over a given axis."
      ],
      "metadata": {
        "id": "mQo63kPxmhbB"
      }
    },
    {
      "cell_type": "code",
      "source": [
        "arr_p = np.array([1, 2, 3, 4])\n",
        "product = np.prod(arr_p)\n",
        "print(product)"
      ],
      "metadata": {
        "colab": {
          "base_uri": "https://localhost:8080/"
        },
        "id": "32cEvGp6nocS",
        "outputId": "5ecc7897-12f3-42ee-f288-28f95570d350"
      },
      "execution_count": null,
      "outputs": [
        {
          "output_type": "stream",
          "name": "stdout",
          "text": [
            "24\n"
          ]
        }
      ]
    },
    {
      "cell_type": "markdown",
      "source": [
        "#51)round =>\n",
        "round is a built-in function in Python that returns the rounded value of a number.\n",
        "\n",
        "-number: The number to be rounded.\n",
        "\n",
        "-ndigits: (Optional) The number of decimal places to round to. Defaults to 0."
      ],
      "metadata": {
        "id": "gy9xeFnHoXR3"
      }
    },
    {
      "cell_type": "code",
      "source": [
        "num = 4.56789\n",
        "rounded_num = round(num, 2)\n",
        "print(rounded_num)"
      ],
      "metadata": {
        "colab": {
          "base_uri": "https://localhost:8080/"
        },
        "id": "t-E1ZJiToqDv",
        "outputId": "b62499ef-504d-425c-d41a-361b05c69675"
      },
      "execution_count": null,
      "outputs": [
        {
          "output_type": "stream",
          "name": "stdout",
          "text": [
            "4.57\n"
          ]
        }
      ]
    },
    {
      "cell_type": "markdown",
      "source": [
        "#52)sort =>\n",
        "sort is a method in the numpy library that returns a sorted copy of an array."
      ],
      "metadata": {
        "id": "ciile9yno56o"
      }
    },
    {
      "cell_type": "code",
      "source": [
        "arr_sA = np.array([3, 1, 2, 5, 4])\n",
        "sorted_arr = np.sort(arr_sA)\n",
        "print(sorted_arr)\n",
        "print(\"\\n\")\n"
      ],
      "metadata": {
        "colab": {
          "base_uri": "https://localhost:8080/"
        },
        "id": "toLPnLHjpNC8",
        "outputId": "364abf51-26db-4212-b1a1-ac560f4e3c4e"
      },
      "execution_count": null,
      "outputs": [
        {
          "output_type": "stream",
          "name": "stdout",
          "text": [
            "[1 2 3 4 5]\n",
            "\n",
            "\n"
          ]
        }
      ]
    },
    {
      "cell_type": "markdown",
      "source": [
        "#53)std =>\n",
        "std is a function in the numpy library that computes the standard deviation along a specified axis."
      ],
      "metadata": {
        "id": "_etffhpjp-cX"
      }
    },
    {
      "cell_type": "code",
      "source": [
        "arr_SD = np.array([1, 2, 3, 4, 5])\n",
        "std_dev = np.std(arr_SD)\n",
        "print(std_dev)"
      ],
      "metadata": {
        "colab": {
          "base_uri": "https://localhost:8080/"
        },
        "id": "HcB42Fb7qHa1",
        "outputId": "603d4352-5818-470c-acb8-f13a5d600fc8"
      },
      "execution_count": null,
      "outputs": [
        {
          "output_type": "stream",
          "name": "stdout",
          "text": [
            "1.4142135623730951\n"
          ]
        }
      ]
    },
    {
      "cell_type": "markdown",
      "source": [
        "#54)trace =>\n",
        "trace is a function in the numpy library that returns the sum of the diagonal elements of an array."
      ],
      "metadata": {
        "id": "OmWmJRcVqWus"
      }
    },
    {
      "cell_type": "code",
      "source": [
        "arr_t = np.array([[1, 2 , 3 , 4], [5, 6 , 7 ,8]])\n",
        "trace_value = np.trace(arr_t)\n",
        "print(trace_value)"
      ],
      "metadata": {
        "colab": {
          "base_uri": "https://localhost:8080/"
        },
        "id": "aANKRky9qfNQ",
        "outputId": "20699acd-33da-4854-bd4b-8518e9cf2700"
      },
      "execution_count": null,
      "outputs": [
        {
          "output_type": "stream",
          "name": "stdout",
          "text": [
            "7\n"
          ]
        }
      ]
    },
    {
      "cell_type": "markdown",
      "source": [
        "#55)transpose =>\n",
        "transpose is a method in the numpy library that reverses or permutes the axes of an array."
      ],
      "metadata": {
        "id": "cC7Jr6Ofq0nX"
      }
    },
    {
      "cell_type": "code",
      "source": [
        "transposed_arr = np.transpose(arr_t)\n",
        "print(transposed_arr)"
      ],
      "metadata": {
        "colab": {
          "base_uri": "https://localhost:8080/"
        },
        "id": "R5_5XncTrL2T",
        "outputId": "ab51920a-5edb-45dc-8554-ce1304a97992"
      },
      "execution_count": null,
      "outputs": [
        {
          "output_type": "stream",
          "name": "stdout",
          "text": [
            "[[1 5]\n",
            " [2 6]\n",
            " [3 7]\n",
            " [4 8]]\n"
          ]
        }
      ]
    },
    {
      "cell_type": "markdown",
      "source": [
        "#56)vdot =>\n",
        "vdot is a function in the numpy library that returns the dot product of two vectors. It treats the input as flat vectors"
      ],
      "metadata": {
        "id": "zME4EiOvsKAz"
      }
    },
    {
      "cell_type": "code",
      "source": [
        "a_vdot = np.array([1+2j, 3+4j])\n",
        "b_vdot = np.array([5+6j, 7+8j])\n",
        "dot_product = np.vdot(a_vdot, b_vdot)\n",
        "print(dot_product)"
      ],
      "metadata": {
        "colab": {
          "base_uri": "https://localhost:8080/"
        },
        "id": "cj_aAABwsTGd",
        "outputId": "08717977-d459-4aab-a326-63a0203dbdb7"
      },
      "execution_count": null,
      "outputs": [
        {
          "output_type": "stream",
          "name": "stdout",
          "text": [
            "(70-8j)\n"
          ]
        }
      ]
    },
    {
      "cell_type": "markdown",
      "source": [
        "#57)where =>\n",
        "where is a function in the numpy library that returns the indices of elements in an input array that satisfy a condition, or it can be used to select elements from two arrays based on a condition.\n"
      ],
      "metadata": {
        "id": "58TGcmruso8D"
      }
    },
    {
      "cell_type": "code",
      "source": [
        "arr_where = np.array([0, 1, 2, 3, 4, 5])\n",
        "indices = np.where(arr_where > 2)\n",
        "print(indices)"
      ],
      "metadata": {
        "colab": {
          "base_uri": "https://localhost:8080/"
        },
        "id": "4QDTysYhtMF9",
        "outputId": "8ee3b3aa-a652-4f44-cf51-dfcb87badffb"
      },
      "execution_count": null,
      "outputs": [
        {
          "output_type": "stream",
          "name": "stdout",
          "text": [
            "(array([3, 4, 5]),)\n"
          ]
        }
      ]
    },
    {
      "cell_type": "markdown",
      "source": [
        "#58)Indexing, Slicing and Iterating =>\n",
        "One-dimensional arrays can be indexed, sliced and iterated over, much like lists and other Python sequences."
      ],
      "metadata": {
        "id": "1Y-e19dVuoIW"
      }
    },
    {
      "cell_type": "code",
      "source": [
        "print(\"arr_where[2] => \",arr_where[2])\n",
        "print(\"arr_where[2:5] => \",arr_where[2:5])\n",
        "print(\"arr_where[:6:2] => \",arr_where[:6:2])\n",
        "print(\"arr_where[::-1] => \",arr_where[::-1])\n",
        "print(\"arr_where[-2] => \",arr_where[-2])\n",
        "print(\"arr_where[-2:-5] => \",arr_where[-2:-5])\n",
        "print(\"arr_where[-5:-2] => \",arr_where[-5:-2])\n",
        "print(\"arr_where[:-6:-2] => \",arr_where[:-6:-2])\n",
        "print(\"Iteration => \")\n",
        "for i in arr_where:\n",
        "  print(i)\n",
        "\n",
        "print(\"3D arr3 matrix => \")\n",
        "print(arr3)\n",
        "print(\"arr3[2,3] => \",arr3[2,3])\n",
        "print(\"arr3[0:5, 1] => \",arr3[0:5, 1]) # each row in the second column of b\n",
        "print(\"arr3[:, 1] => \",arr3[:, 1])\n",
        "print(\"arr3[1:3, :] => \",arr3[1:3, :]) # each column in the second and third row of b"
      ],
      "metadata": {
        "colab": {
          "base_uri": "https://localhost:8080/"
        },
        "id": "z-p3xoaCu3Cd",
        "outputId": "e15b899c-60bd-4b6e-def9-4362fb774f16"
      },
      "execution_count": null,
      "outputs": [
        {
          "output_type": "stream",
          "name": "stdout",
          "text": [
            "arr_where[2] =>  2\n",
            "arr_where[2:5] =>  [2 3 4]\n",
            "arr_where[:6:2] =>  [0 2 4]\n",
            "arr_where[::-1] =>  [5 4 3 2 1 0]\n",
            "arr_where[-2] =>  4\n",
            "arr_where[-2:-5] =>  []\n",
            "arr_where[-5:-2] =>  [1 2 3]\n",
            "arr_where[:-6:-2] =>  [5 3 1]\n",
            "Iteration => \n",
            "0\n",
            "1\n",
            "2\n",
            "3\n",
            "4\n",
            "5\n",
            "3D arr3 matrix => \n",
            "[[13 30 57 75 61]\n",
            " [74 38 55  7 93]\n",
            " [86 18 12 91 93]\n",
            " [69 75 19 29 48]\n",
            " [ 5 59 85 15 44]]\n",
            "arr3[2,3] =>  91\n",
            "arr3[0:5, 1] =>  [30 38 18 75 59]\n",
            "arr3[:, 1] =>  [30 38 18 75 59]\n",
            "arr3[1:3, :] =>  [[74 38 55  7 93]\n",
            " [86 18 12 91 93]]\n",
            "\t\t\t\t\n"
          ]
        }
      ]
    },
    {
      "cell_type": "markdown",
      "source": [],
      "metadata": {
        "id": "3d8q_6Urws3o"
      }
    },
    {
      "cell_type": "markdown",
      "source": [
        "#59)copy =>\n",
        "copy is a method in the numpy library that returns a copy of an array"
      ],
      "metadata": {
        "id": "FwgqLMxXzvYB"
      }
    },
    {
      "cell_type": "code",
      "source": [
        "original_array = np.array([1, 2, 3])\n",
        "copied_array = original_array.copy()\n",
        "print(\"Copy:\", copied_array)"
      ],
      "metadata": {
        "colab": {
          "base_uri": "https://localhost:8080/"
        },
        "id": "nYBVBIzZOVB3",
        "outputId": "118e3b4b-ecb6-4924-8af1-a92327429fb8"
      },
      "execution_count": null,
      "outputs": [
        {
          "output_type": "stream",
          "name": "stdout",
          "text": [
            "Copy: [1 2 3]\n"
          ]
        }
      ]
    },
    {
      "cell_type": "markdown",
      "source": [
        "#60)empty =>\n",
        "empty is a function in the numpy library that returns a new array of a given shape and type, without initializing entries"
      ],
      "metadata": {
        "id": "A0up1Qi81diH"
      }
    },
    {
      "cell_type": "code",
      "source": [
        "empty_array = np.empty((2, 3))\n",
        "print(\"Empty:\", empty_array)"
      ],
      "metadata": {
        "colab": {
          "base_uri": "https://localhost:8080/"
        },
        "id": "WXc0D1kjOx2n",
        "outputId": "d90e323b-2902-4a2e-daf5-6d339039848f"
      },
      "execution_count": null,
      "outputs": [
        {
          "output_type": "stream",
          "name": "stdout",
          "text": [
            "Empty: [[4.74188299e-310 0.00000000e+000 2.05833592e-312]\n",
            " [6.79038654e-313 2.14321575e-312 2.27053550e-312]]\n"
          ]
        }
      ]
    },
    {
      "cell_type": "markdown",
      "source": [
        "#61)empty_like =>\n",
        "empty_like is a function in the numpy library that returns a new array with the same shape and type as a given array, without initializing entries."
      ],
      "metadata": {
        "id": "Pa2Z3LFn1swU"
      }
    },
    {
      "cell_type": "code",
      "source": [
        "array_like = np.array([[1, 2, 3], [4, 5, 6]])\n",
        "empty_like_array = np.empty_like(array_like)\n",
        "print(empty_like_array)"
      ],
      "metadata": {
        "colab": {
          "base_uri": "https://localhost:8080/"
        },
        "id": "sMxaXI8kO9Wk",
        "outputId": "74ad51c5-de9c-4656-87f6-fe852f1cf5d8"
      },
      "execution_count": null,
      "outputs": [
        {
          "output_type": "stream",
          "name": "stdout",
          "text": [
            "[[95976778955476              0              0]\n",
            " [             0              0              0]]\n"
          ]
        }
      ]
    },
    {
      "cell_type": "markdown",
      "source": [
        "#62)eye =>\n",
        "eye is a function in the numpy library that returns a 2-D array with ones on the diagonal and zeros elsewhere."
      ],
      "metadata": {
        "id": "SbX4lee52B5H"
      }
    },
    {
      "cell_type": "code",
      "source": [
        "identity_matrix = np.eye(3)\n",
        "print(\"Eye (Identity matrix):\", identity_matrix)"
      ],
      "metadata": {
        "colab": {
          "base_uri": "https://localhost:8080/"
        },
        "id": "3-2v2yJxPNmR",
        "outputId": "d6814676-57e2-41cc-bc59-4036727364a3"
      },
      "execution_count": null,
      "outputs": [
        {
          "output_type": "stream",
          "name": "stdout",
          "text": [
            "Eye (Identity matrix): [[1. 0. 0.]\n",
            " [0. 1. 0.]\n",
            " [0. 0. 1.]]\n"
          ]
        }
      ]
    },
    {
      "cell_type": "markdown",
      "source": [
        "#63)identity =>\n",
        "identity is a function in the numpy library that returns a square identity matrix."
      ],
      "metadata": {
        "id": "N0OKGwee2Koc"
      }
    },
    {
      "cell_type": "code",
      "source": [
        "identity_array = np.identity(4)\n",
        "print(\"Identity:\", identity_array)"
      ],
      "metadata": {
        "colab": {
          "base_uri": "https://localhost:8080/"
        },
        "id": "ULAPLRvtPRKd",
        "outputId": "bc82936e-c543-4cc3-d95c-f31f647270e3"
      },
      "execution_count": null,
      "outputs": [
        {
          "output_type": "stream",
          "name": "stdout",
          "text": [
            "Identity: [[1. 0. 0. 0.]\n",
            " [0. 1. 0. 0.]\n",
            " [0. 0. 1. 0.]\n",
            " [0. 0. 0. 1.]]\n"
          ]
        }
      ]
    },
    {
      "cell_type": "markdown",
      "source": [
        "#64)zeros =>\n",
        "zeros is a function in the numpy library that returns a new array of a given shape and type, filled with zeros."
      ],
      "metadata": {
        "id": "Bx3joG5W2igi"
      }
    },
    {
      "cell_type": "code",
      "source": [
        "zeros_array = np.zeros((2, 3))\n",
        "print(\"Zeros:\", zeros_array)"
      ],
      "metadata": {
        "colab": {
          "base_uri": "https://localhost:8080/"
        },
        "id": "BtQJka7pPc4P",
        "outputId": "04803fbc-a59a-4b2a-ca8e-ef697206086f"
      },
      "execution_count": null,
      "outputs": [
        {
          "output_type": "stream",
          "name": "stdout",
          "text": [
            "Zeros: [[0. 0. 0.]\n",
            " [0. 0. 0.]]\n"
          ]
        }
      ]
    },
    {
      "cell_type": "markdown",
      "source": [
        "#65)ones =>\n",
        "ones is a function in the numpy library that returns a new array of a given shape and type, filled with ones."
      ],
      "metadata": {
        "id": "YH1TMiLF3qcg"
      }
    },
    {
      "cell_type": "code",
      "source": [
        "ones_array = np.ones((2, 3))\n",
        "print(\"Ones:\", ones_array)"
      ],
      "metadata": {
        "colab": {
          "base_uri": "https://localhost:8080/"
        },
        "id": "Ypn5du8SPgBX",
        "outputId": "8a85f19e-9292-4cc3-8a35-1c7124dc515c"
      },
      "execution_count": null,
      "outputs": [
        {
          "output_type": "stream",
          "name": "stdout",
          "text": [
            "Ones: [[1. 1. 1.]\n",
            " [1. 1. 1.]]\n"
          ]
        }
      ]
    },
    {
      "cell_type": "markdown",
      "source": [
        "#66)array_split =>\n",
        "array_split is a function in the numpy library that splits an array into multiple sub-arrays.**bold text**"
      ],
      "metadata": {
        "id": "XcOdMl-L3JAF"
      }
    },
    {
      "cell_type": "code",
      "source": [
        "split_array = np.array_split(np.arange(10), 3)\n",
        "print(\"Array split:\", split_array)"
      ],
      "metadata": {
        "colab": {
          "base_uri": "https://localhost:8080/"
        },
        "id": "9kcleOQMPi0U",
        "outputId": "5fd56e3d-b270-46e9-9509-3538c2905b78"
      },
      "execution_count": null,
      "outputs": [
        {
          "output_type": "stream",
          "name": "stdout",
          "text": [
            "Array split: [array([0, 1, 2, 3]), array([4, 5, 6]), array([7, 8, 9])]\n"
          ]
        }
      ]
    },
    {
      "cell_type": "markdown",
      "source": [
        "#67)column_stack =>\n",
        "column_stack is a function in the numpy library that stacks 1-D arrays as columns into a 2-D **array**"
      ],
      "metadata": {
        "id": "OIZblZij3VGU"
      }
    },
    {
      "cell_type": "code",
      "source": [
        "a_c_stack = np.array([1, 2, 3])\n",
        "b_c_stack = np.array([4, 5, 6])\n",
        "stacked_array = np.column_stack((a_c_stack, b_c_stack))\n",
        "print(\"Column stack:\", stacked_array)"
      ],
      "metadata": {
        "colab": {
          "base_uri": "https://localhost:8080/"
        },
        "id": "4acq7LxhPnzh",
        "outputId": "09eb70a3-51e5-4d06-ee84-8e191c7ee93f"
      },
      "execution_count": null,
      "outputs": [
        {
          "output_type": "stream",
          "name": "stdout",
          "text": [
            "Column stack: [[1 4]\n",
            " [2 5]\n",
            " [3 6]]\n"
          ]
        }
      ]
    },
    {
      "cell_type": "markdown",
      "source": [
        "#68)concatenate =>\n",
        "concatenate is a function in the numpy library that joins a sequence of arrays along an existing axis"
      ],
      "metadata": {
        "id": "zq1EIOe338sq"
      }
    },
    {
      "cell_type": "code",
      "source": [
        "concat_array = np.concatenate((a_c_stack, b_c_stack))\n",
        "print(\"Concatenate:\", concat_array)"
      ],
      "metadata": {
        "colab": {
          "base_uri": "https://localhost:8080/"
        },
        "id": "ri_WIAauP5gr",
        "outputId": "e1588fb4-e404-4c3b-8f7d-4c94a88bf1c4"
      },
      "execution_count": null,
      "outputs": [
        {
          "output_type": "stream",
          "name": "stdout",
          "text": [
            "Concatenate: [1 2 3 4 5 6]\n"
          ]
        }
      ]
    },
    {
      "cell_type": "markdown",
      "source": [
        "#69)diagonal =>\n",
        "diagonal is a function in the numpy library that returns specified diagonals"
      ],
      "metadata": {
        "id": "C6_C2BFj4Qd0"
      }
    },
    {
      "cell_type": "code",
      "source": [
        "diag_matrix = np.diag([1, 2, 3])\n",
        "print(\"Diagonal:\", np.diagonal(diag_matrix))"
      ],
      "metadata": {
        "colab": {
          "base_uri": "https://localhost:8080/"
        },
        "id": "_u5WDGhsQBhw",
        "outputId": "e223ef67-d59d-42b0-811d-c825b4035d94"
      },
      "execution_count": null,
      "outputs": [
        {
          "output_type": "stream",
          "name": "stdout",
          "text": [
            "Diagonal: [1 2 3]\n"
          ]
        }
      ]
    },
    {
      "cell_type": "markdown",
      "source": [
        "#70)dsplit =>\n",
        "dsplit is a function in the numpy library that splits an array into multiple sub-arrays along the 3rd axis (depth)"
      ],
      "metadata": {
        "id": "-KqrQVfj4Zyc"
      }
    },
    {
      "cell_type": "code",
      "source": [
        "array_3d = np.array([[[1, 2, 3], [4, 5, 6]], [[7, 8, 9], [10, 11, 12]]])\n",
        "dsplit_array = np.dsplit(array_3d, 3)\n",
        "print(\"Dsplit:\", dsplit_array)"
      ],
      "metadata": {
        "colab": {
          "base_uri": "https://localhost:8080/"
        },
        "id": "6uawQOQ_QEsp",
        "outputId": "4ff332b4-3b88-4b78-b728-bdbcf72b8d53"
      },
      "execution_count": null,
      "outputs": [
        {
          "output_type": "stream",
          "name": "stdout",
          "text": [
            "Dsplit: [array([[[ 1],\n",
            "        [ 4]],\n",
            "\n",
            "       [[ 7],\n",
            "        [10]]]), array([[[ 2],\n",
            "        [ 5]],\n",
            "\n",
            "       [[ 8],\n",
            "        [11]]]), array([[[ 3],\n",
            "        [ 6]],\n",
            "\n",
            "       [[ 9],\n",
            "        [12]]])]\n"
          ]
        }
      ]
    },
    {
      "cell_type": "markdown",
      "source": [
        "#71)dstack =>\n",
        "dstack is a function in the numpy library that stacks arrays in sequence depth-wise (along the third axis"
      ],
      "metadata": {
        "id": "ox36POok4mvJ"
      }
    },
    {
      "cell_type": "code",
      "source": [
        "dstacked_array = np.dstack((a_c_stack, b_c_stack))\n",
        "print(\"Dstack:\", dstacked_array)"
      ],
      "metadata": {
        "colab": {
          "base_uri": "https://localhost:8080/"
        },
        "id": "PKCu-fCSQc4U",
        "outputId": "e461c85c-b1db-4d3d-f9ce-6c6fadfb69b4"
      },
      "execution_count": null,
      "outputs": [
        {
          "output_type": "stream",
          "name": "stdout",
          "text": [
            "Dstack: [[[1 4]\n",
            "  [2 5]\n",
            "  [3 6]]]\n"
          ]
        }
      ]
    },
    {
      "cell_type": "markdown",
      "source": [],
      "metadata": {
        "id": "kV6WNNIX3PXT"
      }
    },
    {
      "cell_type": "markdown",
      "source": [
        "#72)hsplit =>\n",
        "hsplit is a function in the numpy library that splits an array into multiple sub-arrays horizontally (column-wise)"
      ],
      "metadata": {
        "id": "-xOVscj_4z7H"
      }
    },
    {
      "cell_type": "code",
      "source": [
        "hsplit_array = np.hsplit(np.array([[1, 2, 3, 4], [5, 6, 7, 8]]), 2)\n",
        "print(\"Hsplit:\", hsplit_array)"
      ],
      "metadata": {
        "colab": {
          "base_uri": "https://localhost:8080/"
        },
        "id": "zA2ovkkoQi_w",
        "outputId": "9dad6e1e-c74d-40fa-9753-ef0b33ee9fa2"
      },
      "execution_count": null,
      "outputs": [
        {
          "output_type": "stream",
          "name": "stdout",
          "text": [
            "Hsplit: [array([[1, 2],\n",
            "       [5, 6]]), array([[3, 4],\n",
            "       [7, 8]])]\n"
          ]
        }
      ]
    },
    {
      "cell_type": "markdown",
      "source": [
        "#73)hstack =>\n",
        "hstack is a function in the numpy library that stacks arrays in sequence horizontally (column-wise"
      ],
      "metadata": {
        "id": "2cP0wsES5CoL"
      }
    },
    {
      "cell_type": "code",
      "source": [
        "hstacked_array = np.hstack((a_c_stack[:, np.newaxis], b_c_stack[:, np.newaxis]))\n",
        "print(\"Hstack:\", hstacked_array)"
      ],
      "metadata": {
        "colab": {
          "base_uri": "https://localhost:8080/"
        },
        "id": "bEPc2FlzQmbw",
        "outputId": "8db1a738-b5c5-403c-f666-d0f472b29219"
      },
      "execution_count": null,
      "outputs": [
        {
          "output_type": "stream",
          "name": "stdout",
          "text": [
            "Hstack: [[1 4]\n",
            " [2 5]\n",
            " [3 6]]\n"
          ]
        }
      ]
    },
    {
      "cell_type": "markdown",
      "source": [
        "#74)ravel =>\n",
        "ravel is a function in the numpy library that returns a contiguous flattened array."
      ],
      "metadata": {
        "id": "CdYi2pJR5KMt"
      }
    },
    {
      "cell_type": "code",
      "source": [
        "ravelled_array = np.ravel(np.array([[1, 2, 3], [4, 5, 6]]))\n",
        "print(\"Ravel:\", ravelled_array)"
      ],
      "metadata": {
        "colab": {
          "base_uri": "https://localhost:8080/"
        },
        "id": "wBik-Xr0QxUh",
        "outputId": "9e100ada-c87d-4897-ee50-589bf07acbd7"
      },
      "execution_count": null,
      "outputs": [
        {
          "output_type": "stream",
          "name": "stdout",
          "text": [
            "Ravel: [1 2 3 4 5 6]\n"
          ]
        }
      ]
    },
    {
      "cell_type": "markdown",
      "source": [
        "#75)repeat =>\n",
        "repeat is a function in the numpy library that repeats elements of an array"
      ],
      "metadata": {
        "id": "JRvu9Bx15zol"
      }
    },
    {
      "cell_type": "code",
      "source": [
        "repeated_array = np.repeat(a_c_stack, 2)\n",
        "print(\"Repeat:\", repeated_array)"
      ],
      "metadata": {
        "colab": {
          "base_uri": "https://localhost:8080/"
        },
        "id": "_mvyF_vTQ0rn",
        "outputId": "20960cc9-f6f0-4a80-fe9f-3b91f25c67ab"
      },
      "execution_count": null,
      "outputs": [
        {
          "output_type": "stream",
          "name": "stdout",
          "text": [
            "Repeat: [1 1 2 2 3 3]\n"
          ]
        }
      ]
    },
    {
      "cell_type": "markdown",
      "source": [
        "#76)squeeze =>\n",
        "squeeze is a function in the numpy library that removes single-dimensional entries from the shape of an array"
      ],
      "metadata": {
        "id": "8Ub5AndP6F1q"
      }
    },
    {
      "cell_type": "code",
      "source": [
        "squeezed_array = np.array([[[1, 2, 3]]]).squeeze()\n",
        "print(\"Squeeze:\", squeezed_array)"
      ],
      "metadata": {
        "colab": {
          "base_uri": "https://localhost:8080/"
        },
        "id": "Ddj2jOT5Q6Wt",
        "outputId": "a39f6df6-7694-4874-cc44-add1b5002748"
      },
      "execution_count": null,
      "outputs": [
        {
          "output_type": "stream",
          "name": "stdout",
          "text": [
            "Squeeze: [1 2 3]\n"
          ]
        }
      ]
    },
    {
      "cell_type": "markdown",
      "source": [
        "#77)swapaxes =>\n",
        "swapaxes is a function in the numpy library that interchanges two axes of an array"
      ],
      "metadata": {
        "id": "B0v0yQM56dUS"
      }
    },
    {
      "cell_type": "code",
      "source": [
        "swap_axes_array = np.swapaxes(np.array([[1, 2, 3], [4, 5, 6]]), 0, 1)\n",
        "print(\"Swapaxes:\", swap_axes_array)"
      ],
      "metadata": {
        "colab": {
          "base_uri": "https://localhost:8080/"
        },
        "id": "pRZ4Fd6yQ-Oe",
        "outputId": "b1db6ec5-0ec6-41ef-ab3e-d6265c45f506"
      },
      "execution_count": null,
      "outputs": [
        {
          "output_type": "stream",
          "name": "stdout",
          "text": [
            "Swapaxes: [[1 4]\n",
            " [2 5]\n",
            " [3 6]]\n"
          ]
        }
      ]
    },
    {
      "cell_type": "markdown",
      "source": [
        "#78)take =>\n",
        "take is a function in the numpy library that takes elements from an array along an axis."
      ],
      "metadata": {
        "id": "KAg59MPz6nOK"
      }
    },
    {
      "cell_type": "code",
      "source": [
        "taken_elements = np.take(np.array([10, 11, 12, 13]), [0, 2])\n",
        "print(\"Take:\", taken_elements)"
      ],
      "metadata": {
        "colab": {
          "base_uri": "https://localhost:8080/"
        },
        "id": "4KMJEGYjRB1G",
        "outputId": "d3f6cde5-e241-4901-fb20-0b9a93f196b7"
      },
      "execution_count": null,
      "outputs": [
        {
          "output_type": "stream",
          "name": "stdout",
          "text": [
            "Take: [10 12]\n"
          ]
        }
      ]
    },
    {
      "cell_type": "markdown",
      "source": [
        "#79)vsplit =>\n",
        "vsplit is a function in the numpy library that splits an array into multiple sub-arrays vertically (row-wise"
      ],
      "metadata": {
        "id": "QO5v01LM62eZ"
      }
    },
    {
      "cell_type": "code",
      "source": [
        "vsplit_array = np.vsplit(np.array([[1, 2, 3], [4, 5, 6], [7, 8, 9]]), 3)\n",
        "print(\"Vsplit:\", vsplit_array)"
      ],
      "metadata": {
        "colab": {
          "base_uri": "https://localhost:8080/"
        },
        "id": "tWMouMrWRFl0",
        "outputId": "7adc2c2a-1f90-4d45-9baf-12c3bc7d0385"
      },
      "execution_count": null,
      "outputs": [
        {
          "output_type": "stream",
          "name": "stdout",
          "text": [
            "Vsplit: [array([[1, 2, 3]]), array([[4, 5, 6]]), array([[7, 8, 9]])]\n"
          ]
        }
      ]
    },
    {
      "cell_type": "markdown",
      "source": [
        "#80)vstack =>\n",
        "vstack is a function in the numpy library that stacks arrays in sequence vertically (row-wise)"
      ],
      "metadata": {
        "id": "sXH1Os247I-T"
      }
    },
    {
      "cell_type": "code",
      "source": [
        "vstacked_array = np.vstack((a_c_stack, b_c_stack))\n",
        "print(\"Vstack:\", vstacked_array)\n"
      ],
      "metadata": {
        "colab": {
          "base_uri": "https://localhost:8080/"
        },
        "id": "9euhkclPRIvF",
        "outputId": "fdbcc5f3-6dab-47b0-ffd8-747fe616eee2"
      },
      "execution_count": null,
      "outputs": [
        {
          "output_type": "stream",
          "name": "stdout",
          "text": [
            "Vstack: [[1 2 3]\n",
            " [4 5 6]]\n"
          ]
        }
      ]
    },
    {
      "cell_type": "markdown",
      "source": [
        "#81)newaxis =>\n",
        "newaxis is used in the numpy library to increase the dimensions of an array by one more dimension, when used once"
      ],
      "metadata": {
        "id": "NHkuPzgQ7XF_"
      }
    },
    {
      "cell_type": "code",
      "source": [
        "newaxis_array = a_c_stack[:, np.newaxis]\n",
        "print(\"Newaxis:\", newaxis_array)"
      ],
      "metadata": {
        "colab": {
          "base_uri": "https://localhost:8080/"
        },
        "id": "2ac2hmG8RRcK",
        "outputId": "13059f20-5b82-482c-9e5f-c5341c024d40"
      },
      "execution_count": null,
      "outputs": [
        {
          "output_type": "stream",
          "name": "stdout",
          "text": [
            "Newaxis: [[1]\n",
            " [2]\n",
            " [3]]\n"
          ]
        }
      ]
    },
    {
      "cell_type": "markdown",
      "source": [
        "#82)astype =>\n",
        "astype is a method of ndarray objects in the numpy library that returns a copy of the array, cast to a specified type."
      ],
      "metadata": {
        "id": "1oO7TQhc8DDJ"
      }
    },
    {
      "cell_type": "code",
      "source": [
        "float_array = a_c_stack.astype(float)\n",
        "print(\"Astype (to float):\", float_array)"
      ],
      "metadata": {
        "colab": {
          "base_uri": "https://localhost:8080/"
        },
        "id": "NztpTQoQRbXz",
        "outputId": "8c9cd56d-4436-412f-cea4-76122d67750f"
      },
      "execution_count": null,
      "outputs": [
        {
          "output_type": "stream",
          "name": "stdout",
          "text": [
            "Astype (to float): [1. 2. 3.]\n"
          ]
        }
      ]
    },
    {
      "cell_type": "markdown",
      "source": [
        "#83)atleast_1d =>\n",
        "atleast_1d is a function in the numpy library that converts inputs to arrays with at least one dimension."
      ],
      "metadata": {
        "id": "bs22AlFW8Swr"
      }
    },
    {
      "cell_type": "code",
      "source": [
        "atleast_1d_array = np.atleast_1d(5)\n",
        "print(\"Atleast 1d:\", atleast_1d_array)"
      ],
      "metadata": {
        "colab": {
          "base_uri": "https://localhost:8080/"
        },
        "id": "wq0-phGaRixy",
        "outputId": "7ba8eac1-00ae-48ac-92f9-8b20a117cbc1"
      },
      "execution_count": null,
      "outputs": [
        {
          "output_type": "stream",
          "name": "stdout",
          "text": [
            "Atleast 1d: [5]\n"
          ]
        }
      ]
    },
    {
      "cell_type": "markdown",
      "source": [
        "#84)atleast_2d =>\n",
        "atleast_2d is a function in the numpy library that converts inputs to arrays with at least two dimensions."
      ],
      "metadata": {
        "id": "rqS3ysYc8cOA"
      }
    },
    {
      "cell_type": "code",
      "source": [
        "atleast_2d_array = np.atleast_2d(a_c_stack)\n",
        "print(\"Atleast 2d:\", atleast_2d_array)"
      ],
      "metadata": {
        "colab": {
          "base_uri": "https://localhost:8080/"
        },
        "id": "LZZIcqpRRnIk",
        "outputId": "1af43d3d-0bf0-40b0-96b8-c44cb442c17c"
      },
      "execution_count": null,
      "outputs": [
        {
          "output_type": "stream",
          "name": "stdout",
          "text": [
            "Atleast 2d: [[1 2 3]]\n"
          ]
        }
      ]
    },
    {
      "cell_type": "markdown",
      "source": [
        "#85)atleast_3d =>\n",
        "atleast_3d is a function in the numpy library that converts inputs to arrays with at least three dimensions.\n",
        "\n"
      ],
      "metadata": {
        "id": "odYENBAl8lJ5"
      }
    },
    {
      "cell_type": "code",
      "source": [
        "atleast_3d_array = np.atleast_3d(a_c_stack)\n",
        "print(\"Atleast 3d:\", atleast_3d_array)"
      ],
      "metadata": {
        "colab": {
          "base_uri": "https://localhost:8080/"
        },
        "id": "X7fftfBtRtGJ",
        "outputId": "c93f784f-0442-4709-bd01-5db03ba9f6ae"
      },
      "execution_count": null,
      "outputs": [
        {
          "output_type": "stream",
          "name": "stdout",
          "text": [
            "Atleast 3d: [[[1]\n",
            "  [2]\n",
            "  [3]]]\n"
          ]
        }
      ]
    },
    {
      "cell_type": "markdown",
      "source": [
        "#86)mat =>\n",
        "mat is a function in the numpy library that interprets the input as a matrix. This function is largely deprecated in favor of ndarray"
      ],
      "metadata": {
        "id": "RitGU_5S8tZA"
      }
    },
    {
      "cell_type": "code",
      "source": [
        "mat_array = np.mat('1 2; 3 4')\n",
        "print(\"Mat:\", mat_array)"
      ],
      "metadata": {
        "id": "iiV6LUcTRygT",
        "outputId": "ec9794ab-e33b-4afd-f498-9faec3379677",
        "colab": {
          "base_uri": "https://localhost:8080/"
        }
      },
      "execution_count": null,
      "outputs": [
        {
          "output_type": "stream",
          "name": "stdout",
          "text": [
            "Mat: [[1 2]\n",
            " [3 4]]\n"
          ]
        }
      ]
    }
  ]
}