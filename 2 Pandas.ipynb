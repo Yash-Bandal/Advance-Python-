{
  "nbformat": 4,
  "nbformat_minor": 0,
  "metadata": {
    "colab": {
      "provenance": [],
      "toc_visible": true
    },
    "kernelspec": {
      "name": "python3",
      "display_name": "Python 3"
    },
    "language_info": {
      "name": "python"
    }
  },
  "cells": [
    {
      "cell_type": "markdown",
      "source": [
        "#Dataframe creation and inspection\n",
        "\n",
        "#1)pd.DataFrame() =>\n",
        "The pd.DataFrame() function is used to create a DataFrame, which is a two-dimensional, size-mutable, potentially heterogeneous tabular data structure.\n",
        "\n",
        "\n",
        "\n"
      ],
      "metadata": {
        "id": "xamww7NQWA5s"
      }
    },
    {
      "cell_type": "markdown",
      "source": [
        "Example 1: Creating a DataFrame from a dictionary of lists"
      ],
      "metadata": {
        "id": "Bq-q4dk9W1I1"
      }
    },
    {
      "cell_type": "code",
      "source": [
        "import pandas as pd\n",
        "data = {\n",
        "    'Name': ['Alice', 'Bob', 'charlie'],\n",
        "    'Age' : [25,30,35],\n",
        "    'City' : ['New York' , 'Los Angeles' , 'Chicago']\n",
        "}\n",
        "\n",
        "df = pd.DataFrame(data)\n",
        "print(df)\n"
      ],
      "metadata": {
        "colab": {
          "base_uri": "https://localhost:8080/"
        },
        "id": "VEJFgl0AW4-Q",
        "outputId": "917d8195-8aad-49ac-9e25-ee57959c14d3"
      },
      "execution_count": null,
      "outputs": [
        {
          "output_type": "stream",
          "name": "stdout",
          "text": [
            "      Name  Age         City\n",
            "0    Alice   25     New York\n",
            "1      Bob   30  Los Angeles\n",
            "2  charlie   35      Chicago\n"
          ]
        }
      ]
    },
    {
      "cell_type": "markdown",
      "source": [
        "Example 2: Creating a DataFrame from a list of dictionaries"
      ],
      "metadata": {
        "id": "REF9h0ouXLWD"
      }
    },
    {
      "cell_type": "code",
      "source": [
        "data_list = [\n",
        "    {'Name': 'Alice', 'Age': 25, 'City': 'New York'},\n",
        "    {'Name': 'Bob', 'Age': 30, 'City': 'Los Angeles'},\n",
        "    {'Name': 'Charlie', 'Age': 35, 'City': 'Chicago'}\n",
        "]\n",
        "df_list = pd.DataFrame(data_list)\n",
        "print(df_list)"
      ],
      "metadata": {
        "colab": {
          "base_uri": "https://localhost:8080/"
        },
        "id": "WwvgkpfrXQKv",
        "outputId": "9ff61b7c-252f-4bae-d33f-e44c70c21471"
      },
      "execution_count": null,
      "outputs": [
        {
          "output_type": "stream",
          "name": "stdout",
          "text": [
            "      Name  Age         City\n",
            "0    Alice   25     New York\n",
            "1      Bob   30  Los Angeles\n",
            "2  Charlie   35      Chicago\n"
          ]
        }
      ]
    },
    {
      "cell_type": "markdown",
      "source": [
        "#2)pd.Series() =>\n",
        "The pd.Series() function is used to create a one-dimensional array-like object capable of holding any data type."
      ],
      "metadata": {
        "id": "0KGek4e8XZVs"
      }
    },
    {
      "cell_type": "markdown",
      "source": [
        "Example 1: Creating a Series from a list"
      ],
      "metadata": {
        "id": "QDs5cKQYXkTD"
      }
    },
    {
      "cell_type": "code",
      "source": [
        "series = pd.Series([1, 2, 3, 4])\n",
        "print(series)"
      ],
      "metadata": {
        "colab": {
          "base_uri": "https://localhost:8080/"
        },
        "id": "emko4S2LXnJS",
        "outputId": "13a5161c-39ff-478e-9cc5-0ab21217bede"
      },
      "execution_count": null,
      "outputs": [
        {
          "output_type": "stream",
          "name": "stdout",
          "text": [
            "0    1\n",
            "1    2\n",
            "2    3\n",
            "3    4\n",
            "dtype: int64\n"
          ]
        }
      ]
    },
    {
      "cell_type": "markdown",
      "source": [
        "Example 2: Creating a Series from a tuple"
      ],
      "metadata": {
        "id": "zEYRLtRtXxZw"
      }
    },
    {
      "cell_type": "code",
      "source": [
        "tuple = pd.Series((1, 2, 3, 4))\n",
        "print(tuple)"
      ],
      "metadata": {
        "colab": {
          "base_uri": "https://localhost:8080/"
        },
        "id": "RU90zc0pX7P7",
        "outputId": "4ad5a596-ab6a-4e82-efb2-bc8e346fb7a8"
      },
      "execution_count": null,
      "outputs": [
        {
          "output_type": "stream",
          "name": "stdout",
          "text": [
            "0    1\n",
            "1    2\n",
            "2    3\n",
            "3    4\n",
            "dtype: int64\n"
          ]
        }
      ]
    },
    {
      "cell_type": "markdown",
      "source": [
        "Create a Series from the dictionary"
      ],
      "metadata": {
        "id": "vBjMGND6YayG"
      }
    },
    {
      "cell_type": "code",
      "source": [
        "dictionary = {'a': 10, 'b': 20, 'c': 30, 'd': 40}\n",
        "series = pd.Series(dictionary)\n",
        "print(series)"
      ],
      "metadata": {
        "colab": {
          "base_uri": "https://localhost:8080/"
        },
        "id": "MVcaowo0Yeyi",
        "outputId": "f1d8e603-b894-48da-c051-97389c206bef"
      },
      "execution_count": null,
      "outputs": [
        {
          "output_type": "stream",
          "name": "stdout",
          "text": [
            "a    10\n",
            "b    20\n",
            "c    30\n",
            "d    40\n",
            "dtype: int64\n"
          ]
        }
      ]
    },
    {
      "cell_type": "markdown",
      "source": [
        "#3)df.head() =>\n",
        "The head() method returns the first n rows of the DataFrame. The default is 5.\n",
        "\n"
      ],
      "metadata": {
        "id": "NfMlDD8kY4hW"
      }
    },
    {
      "cell_type": "code",
      "source": [
        "print(df.head())  # Display the first 5 rows of the DataFrame\n",
        "print(\"\\n\")\n",
        "print(df.head(2)) # Display the first 2 rows of the DataFrame\n"
      ],
      "metadata": {
        "colab": {
          "base_uri": "https://localhost:8080/"
        },
        "id": "4cgm2ZSVZDy7",
        "outputId": "e19670e8-634a-47c8-e370-0c05daabaa5e"
      },
      "execution_count": null,
      "outputs": [
        {
          "output_type": "stream",
          "name": "stdout",
          "text": [
            "      Name  Age         City\n",
            "0    Alice   25     New York\n",
            "1      Bob   30  Los Angeles\n",
            "2  charlie   35      Chicago\n",
            "\n",
            "\n",
            "    Name  Age         City\n",
            "0  Alice   25     New York\n",
            "1    Bob   30  Los Angeles\n"
          ]
        }
      ]
    },
    {
      "cell_type": "markdown",
      "source": [
        "#4)df.tail() =>\n",
        "The tail() method returns the last n rows of the DataFrame. The default is 5."
      ],
      "metadata": {
        "id": "XsU-0UTdZlt8"
      }
    },
    {
      "cell_type": "code",
      "source": [
        "print(df.tail())  # Display the last 5 rows of the DataFrame\n",
        "print(\"\\n\")\n",
        "print(df.tail(2)) # Display the last 2 rows of the DataFrame"
      ],
      "metadata": {
        "colab": {
          "base_uri": "https://localhost:8080/"
        },
        "id": "KCwQleQ4Zry-",
        "outputId": "213cd339-7b24-48d8-d80b-c5c17ec2a827"
      },
      "execution_count": null,
      "outputs": [
        {
          "output_type": "stream",
          "name": "stdout",
          "text": [
            "      Name  Age         City\n",
            "0    Alice   25     New York\n",
            "1      Bob   30  Los Angeles\n",
            "2  charlie   35      Chicago\n",
            "\n",
            "\n",
            "      Name  Age         City\n",
            "1      Bob   30  Los Angeles\n",
            "2  charlie   35      Chicago\n"
          ]
        }
      ]
    },
    {
      "cell_type": "markdown",
      "source": [
        "#5)df.info() =>\n",
        "The info() method provides a summary of the DataFrame, including the index dtype and column dtypes, non-null values, and memory usage."
      ],
      "metadata": {
        "id": "rtD1xgHOZ2lE"
      }
    },
    {
      "cell_type": "code",
      "source": [
        "df.info()"
      ],
      "metadata": {
        "colab": {
          "base_uri": "https://localhost:8080/"
        },
        "id": "4E-9nuVsZ_HQ",
        "outputId": "eba2d8a6-e834-416f-d8ec-5babb90146dc"
      },
      "execution_count": null,
      "outputs": [
        {
          "output_type": "stream",
          "name": "stdout",
          "text": [
            "<class 'pandas.core.frame.DataFrame'>\n",
            "RangeIndex: 3 entries, 0 to 2\n",
            "Data columns (total 3 columns):\n",
            " #   Column  Non-Null Count  Dtype \n",
            "---  ------  --------------  ----- \n",
            " 0   Name    3 non-null      object\n",
            " 1   Age     3 non-null      int64 \n",
            " 2   City    3 non-null      object\n",
            "dtypes: int64(1), object(2)\n",
            "memory usage: 200.0+ bytes\n"
          ]
        }
      ]
    },
    {
      "cell_type": "markdown",
      "source": [
        "#6)df.describe() =>\n",
        "The describe() method generates descriptive statistics that summarize the central tendency, dispersion, and shape of a dataset’s distribution, excluding NaN values."
      ],
      "metadata": {
        "id": "KyYvk9NCaHXG"
      }
    },
    {
      "cell_type": "code",
      "source": [
        "print(df.describe())  # Display summary statistics for numerical columns\n",
        "print(\"\\n\")\n",
        "print(df.describe(include='all'))"
      ],
      "metadata": {
        "colab": {
          "base_uri": "https://localhost:8080/"
        },
        "id": "HI4OONgiaUWw",
        "outputId": "dec9ce3e-fa4f-4876-badb-ef28bc418ad1"
      },
      "execution_count": null,
      "outputs": [
        {
          "output_type": "stream",
          "name": "stdout",
          "text": [
            "        Age\n",
            "count   3.0\n",
            "mean   30.0\n",
            "std     5.0\n",
            "min    25.0\n",
            "25%    27.5\n",
            "50%    30.0\n",
            "75%    32.5\n",
            "max    35.0\n",
            "\n",
            "\n",
            "         Name   Age      City\n",
            "count       3   3.0         3\n",
            "unique      3   NaN         3\n",
            "top     Alice   NaN  New York\n",
            "freq        1   NaN         1\n",
            "mean      NaN  30.0       NaN\n",
            "std       NaN   5.0       NaN\n",
            "min       NaN  25.0       NaN\n",
            "25%       NaN  27.5       NaN\n",
            "50%       NaN  30.0       NaN\n",
            "75%       NaN  32.5       NaN\n",
            "max       NaN  35.0       NaN\n"
          ]
        }
      ]
    },
    {
      "cell_type": "markdown",
      "source": [
        "#7)df.shape =>\n",
        "The shape attribute returns a tuple representing the dimensionality of the DataFrame (number of rows and columns)."
      ],
      "metadata": {
        "id": "Qu_6Vhzpajlr"
      }
    },
    {
      "cell_type": "code",
      "source": [
        "print(df.shape)  # Display the shape of the DataFrame"
      ],
      "metadata": {
        "colab": {
          "base_uri": "https://localhost:8080/"
        },
        "id": "yv4lzuuKaqIT",
        "outputId": "9126c231-0d39-4bf9-ac25-eb6439556686"
      },
      "execution_count": null,
      "outputs": [
        {
          "output_type": "stream",
          "name": "stdout",
          "text": [
            "(3, 3)\n"
          ]
        }
      ]
    },
    {
      "cell_type": "markdown",
      "source": [
        "#8)df.columns =>\n",
        "The columns attribute returns the column labels of the DataFrame"
      ],
      "metadata": {
        "id": "7cDRHxqAavMn"
      }
    },
    {
      "cell_type": "code",
      "source": [
        "print(df.columns)  # Display the column labels of the DataFrame"
      ],
      "metadata": {
        "colab": {
          "base_uri": "https://localhost:8080/"
        },
        "id": "VFTs4-xAa0zx",
        "outputId": "85e6af2f-b55a-4168-d58e-327d96f19ce9"
      },
      "execution_count": null,
      "outputs": [
        {
          "output_type": "stream",
          "name": "stdout",
          "text": [
            "Index(['Name', 'Age', 'City'], dtype='object')\n"
          ]
        }
      ]
    },
    {
      "cell_type": "markdown",
      "source": [
        "#9)df.index =>\n",
        "The index attribute returns the index (row labels) of the DataFrame"
      ],
      "metadata": {
        "id": "vhW08FRda68G"
      }
    },
    {
      "cell_type": "code",
      "source": [
        "print(df.index) #index start from 0 and end at 3 and each index is increment by one by previous index"
      ],
      "metadata": {
        "colab": {
          "base_uri": "https://localhost:8080/"
        },
        "id": "YVXP8XdLbA4h",
        "outputId": "d05f5ec1-54b5-4823-89b4-501c63db5594"
      },
      "execution_count": null,
      "outputs": [
        {
          "output_type": "stream",
          "name": "stdout",
          "text": [
            "RangeIndex(start=0, stop=3, step=1)\n"
          ]
        }
      ]
    },
    {
      "cell_type": "markdown",
      "source": [
        "#10)df.dtypes =>\n",
        "The dtypes attribute returns the data types of each column in the DataFrame."
      ],
      "metadata": {
        "id": "Lfn8UludbKx2"
      }
    },
    {
      "cell_type": "code",
      "source": [
        "print(df.dtypes)"
      ],
      "metadata": {
        "colab": {
          "base_uri": "https://localhost:8080/"
        },
        "id": "ApYeRk1xbQ2H",
        "outputId": "355a597d-0725-4156-a354-b4330c308c39"
      },
      "execution_count": null,
      "outputs": [
        {
          "output_type": "stream",
          "name": "stdout",
          "text": [
            "Name    object\n",
            "Age      int64\n",
            "City    object\n",
            "dtype: object\n"
          ]
        }
      ]
    },
    {
      "cell_type": "markdown",
      "source": [
        "# Data selection and filteration"
      ],
      "metadata": {
        "id": "qOEeld8UbVsD"
      }
    },
    {
      "cell_type": "markdown",
      "source": [
        "#11)df['column'] =>\n",
        "Use df['column'] to select a single column from the DataFrame. This returns a Pandas Series"
      ],
      "metadata": {
        "id": "Q2PDjqWGbmEz"
      }
    },
    {
      "cell_type": "code",
      "source": [
        "names = df['Name']\n",
        "print(names)"
      ],
      "metadata": {
        "colab": {
          "base_uri": "https://localhost:8080/"
        },
        "id": "jztFHWsId67x",
        "outputId": "523455b0-94e7-4341-8ce5-c7279b1af0fc"
      },
      "execution_count": null,
      "outputs": [
        {
          "output_type": "stream",
          "name": "stdout",
          "text": [
            "0      Alice\n",
            "1        Bob\n",
            "2    charlie\n",
            "Name: Name, dtype: object\n"
          ]
        }
      ]
    },
    {
      "cell_type": "markdown",
      "source": [
        "#12)df[['col1', 'col2']] =>\n",
        "Use df[['col1', 'col2']] to select multiple columns. This returns a new DataFrame."
      ],
      "metadata": {
        "id": "i3GePnktci7X"
      }
    },
    {
      "cell_type": "code",
      "source": [
        "name_city = df[['Name', 'City']]\n",
        "print(name_city)"
      ],
      "metadata": {
        "colab": {
          "base_uri": "https://localhost:8080/"
        },
        "id": "2_R0T9ZEd-OP",
        "outputId": "688347b0-f346-4b17-f9ad-7c03aba41297"
      },
      "execution_count": null,
      "outputs": [
        {
          "output_type": "stream",
          "name": "stdout",
          "text": [
            "      Name         City\n",
            "0    Alice     New York\n",
            "1      Bob  Los Angeles\n",
            "2  charlie      Chicago\n"
          ]
        }
      ]
    },
    {
      "cell_type": "markdown",
      "source": [
        "#13)loc[] =>\n",
        "The loc[] function is used for label-based indexing. It can be used to select rows and columns by labels.\n"
      ],
      "metadata": {
        "id": "mk_g9zlAcpf3"
      }
    },
    {
      "cell_type": "code",
      "source": [
        "first_row = df.loc[0]   # Selecting a single row by label\n",
        "print(first_row)\n",
        "print(\"\\n\")\n",
        "subset = df.loc[0:1, ['Name', 'City']] # Selecting multiple rows and specific columns by labels\n",
        "print(subset)"
      ],
      "metadata": {
        "colab": {
          "base_uri": "https://localhost:8080/"
        },
        "id": "GCXRmICFeER4",
        "outputId": "f3d3b2b6-2b52-49a5-fecb-2a6a190d960f"
      },
      "execution_count": null,
      "outputs": [
        {
          "output_type": "stream",
          "name": "stdout",
          "text": [
            "Name       Alice\n",
            "Age           25\n",
            "City    New York\n",
            "Name: 0, dtype: object\n",
            "\n",
            "\n",
            "    Name         City\n",
            "0  Alice     New York\n",
            "1    Bob  Los Angeles\n"
          ]
        }
      ]
    },
    {
      "cell_type": "markdown",
      "source": [
        "#14)iloc[] =>\n",
        "The iloc[] function is used for integer-location based indexing. It works similarly to Python's list slicing."
      ],
      "metadata": {
        "id": "bXIHsLTMc29b"
      }
    },
    {
      "cell_type": "code",
      "source": [
        "first_row = df.iloc[0]  # Selecting the first row\n",
        "print(first_row)\n",
        "print(\"\\n\")\n",
        "subset = df.iloc[0:2, 0:2]  # Selecting the first two rows and first two columns\n",
        "print(subset)\n"
      ],
      "metadata": {
        "colab": {
          "base_uri": "https://localhost:8080/"
        },
        "id": "75FscorZeXdh",
        "outputId": "6231bdb7-3b8d-4e1d-e895-7b8da14bba2d"
      },
      "execution_count": null,
      "outputs": [
        {
          "output_type": "stream",
          "name": "stdout",
          "text": [
            "Name       Alice\n",
            "Age           25\n",
            "City    New York\n",
            "Name: 0, dtype: object\n",
            "\n",
            "\n",
            "    Name  Age\n",
            "0  Alice   25\n",
            "1    Bob   30\n"
          ]
        }
      ]
    },
    {
      "cell_type": "markdown",
      "source": [
        "filtering the rows with the condition"
      ],
      "metadata": {
        "id": "0SBVakhXc8zT"
      }
    },
    {
      "cell_type": "code",
      "source": [
        "adults = df[df['Age'] > 28]\n",
        "print(adults)"
      ],
      "metadata": {
        "colab": {
          "base_uri": "https://localhost:8080/"
        },
        "id": "_JFg10r3dHzB",
        "outputId": "5d8b2cbc-617e-4e0f-b3e2-ec8cb6c0abbe"
      },
      "execution_count": null,
      "outputs": [
        {
          "output_type": "stream",
          "name": "stdout",
          "text": [
            "      Name  Age         City\n",
            "1      Bob   30  Los Angeles\n",
            "2  charlie   35      Chicago\n"
          ]
        }
      ]
    },
    {
      "cell_type": "markdown",
      "source": [
        "#15)query() =>\n",
        "The query() method allows for filtering rows using a query string. It's useful for more complex conditions."
      ],
      "metadata": {
        "id": "46Z13AhWdY_b"
      }
    },
    {
      "cell_type": "code",
      "source": [
        "chicago_residents = df.query('City == \"Chicago\"')  # return the row where city name is \"Chicago\"\n",
        "print(chicago_residents)"
      ],
      "metadata": {
        "colab": {
          "base_uri": "https://localhost:8080/"
        },
        "id": "LNle54ejemSl",
        "outputId": "3130acb9-a794-488c-e142-6cce597b6800"
      },
      "execution_count": null,
      "outputs": [
        {
          "output_type": "stream",
          "name": "stdout",
          "text": [
            "      Name  Age     City\n",
            "2  charlie   35  Chicago\n"
          ]
        }
      ]
    },
    {
      "cell_type": "markdown",
      "source": [
        "#16)isin() =>\n",
        "The isin() method is used to filter rows based on whether the values in a column are present in a list."
      ],
      "metadata": {
        "id": "gY6okCHQdewD"
      }
    },
    {
      "cell_type": "code",
      "source": [
        "selected_cities = df[df['City'].isin(['New York', 'Chicago'])] #returns the rows where city names are \"New York\" and \"Chicago\"\n",
        "print(selected_cities)"
      ],
      "metadata": {
        "colab": {
          "base_uri": "https://localhost:8080/"
        },
        "id": "ku5nQ0baeupr",
        "outputId": "4721d613-3aa7-418c-bac5-bb78c333a7c5"
      },
      "execution_count": null,
      "outputs": [
        {
          "output_type": "stream",
          "name": "stdout",
          "text": [
            "      Name  Age      City\n",
            "0    Alice   25  New York\n",
            "2  charlie   35   Chicago\n"
          ]
        }
      ]
    },
    {
      "cell_type": "markdown",
      "source": [
        "#17)at[] =>\n",
        "age_first_row = df.at[0, 'Age']\n",
        "print(age_first_row)"
      ],
      "metadata": {
        "id": "7CAnGpwRdlEK"
      }
    },
    {
      "cell_type": "code",
      "source": [
        "age_first_row = df.at[0, 'Age'] // used to print first value of Age column\n",
        "print(age_first_row)"
      ],
      "metadata": {
        "colab": {
          "base_uri": "https://localhost:8080/"
        },
        "id": "fv81hj9neykF",
        "outputId": "bf786b64-1055-474b-e365-ebbe17ab6f08"
      },
      "execution_count": null,
      "outputs": [
        {
          "output_type": "stream",
          "name": "stdout",
          "text": [
            "25\n"
          ]
        }
      ]
    },
    {
      "cell_type": "markdown",
      "source": [
        "#18)iat[] =>\n",
        "The iat[] method is used for accessing a single scalar value in a DataFrame by integer position."
      ],
      "metadata": {
        "id": "BKavkmNvdtC_"
      }
    },
    {
      "cell_type": "markdown",
      "source": [],
      "metadata": {
        "id": "KNSOS7iXd0gQ"
      }
    },
    {
      "cell_type": "code",
      "source": [
        "value_first = df.iat[0, 0]  # Accessing the value at the first row and first column\n",
        "print(value_first)"
      ],
      "metadata": {
        "colab": {
          "base_uri": "https://localhost:8080/"
        },
        "id": "igPGqGXFe3Hd",
        "outputId": "fbea2187-d57d-4ac7-a06d-955d222f9e2a"
      },
      "execution_count": null,
      "outputs": [
        {
          "output_type": "stream",
          "name": "stdout",
          "text": [
            "Alice\n"
          ]
        }
      ]
    },
    {
      "cell_type": "markdown",
      "source": [
        "# Data Cleaning"
      ],
      "metadata": {
        "id": "YvXvQj45peu_"
      }
    },
    {
      "cell_type": "markdown",
      "source": [
        "#19)df.dropna() =>\n",
        "This function removes missing values from the DataFrame. It can drop rows or columns with missing data"
      ],
      "metadata": {
        "id": "3eVdQYbDf7pu"
      }
    },
    {
      "cell_type": "code",
      "source": [
        "import numpy as np\n",
        "df = pd.DataFrame({                          # Sample DataFrame\n",
        "    'A': [1, 2, np.nan, 4, 5, np.nan],\n",
        "    'B': [np.nan, 2, 3, np.nan, 5, 6],\n",
        "    'C': [7, 8, 9, 10, np.nan, 12],\n",
        "    'D': ['foo', 'bar', 'foo', 'bar', 'foo', 'bar']\n",
        "})\n",
        "df_dropna = df.dropna() #missing values \"np.nan\" set to the \"Nan\"\n",
        "print(df)\n",
        "print(\"\\n\")\n",
        "print(df_dropna)"
      ],
      "metadata": {
        "colab": {
          "base_uri": "https://localhost:8080/"
        },
        "id": "7nz7C-HLhYrr",
        "outputId": "5db177cd-9016-4ffd-f838-d92263b7edcd"
      },
      "execution_count": null,
      "outputs": [
        {
          "output_type": "stream",
          "name": "stdout",
          "text": [
            "     A    B     C    D\n",
            "0  1.0  NaN   7.0  foo\n",
            "1  2.0  2.0   8.0  bar\n",
            "2  NaN  3.0   9.0  foo\n",
            "3  4.0  NaN  10.0  bar\n",
            "4  5.0  5.0   NaN  foo\n",
            "5  NaN  6.0  12.0  bar\n",
            "\n",
            "\n",
            "     A    B    C    D\n",
            "1  2.0  2.0  8.0  bar\n"
          ]
        }
      ]
    },
    {
      "cell_type": "markdown",
      "source": [
        "#20)df.fillna(value) =>\n",
        " This function fills missing values with a specified value."
      ],
      "metadata": {
        "id": "5gylqX48gCoH"
      }
    },
    {
      "cell_type": "code",
      "source": [
        "df_fillna = df.fillna(0) #fills missing values with a specified value.\n",
        "print(df_fillna)"
      ],
      "metadata": {
        "colab": {
          "base_uri": "https://localhost:8080/"
        },
        "id": "35nlJmwNior7",
        "outputId": "f4eeb8c2-0f2d-4e91-ea6d-b9f04cf3902c"
      },
      "execution_count": null,
      "outputs": [
        {
          "output_type": "stream",
          "name": "stdout",
          "text": [
            "     A    B     C    D\n",
            "0  1.0  0.0   7.0  foo\n",
            "1  2.0  2.0   8.0  bar\n",
            "2  0.0  3.0   9.0  foo\n",
            "3  4.0  0.0  10.0  bar\n",
            "4  5.0  5.0   0.0  foo\n",
            "5  0.0  6.0  12.0  bar\n"
          ]
        }
      ]
    },
    {
      "cell_type": "markdown",
      "source": [
        "#21)df.drop(columns=['col1', 'col2']) =>\n",
        "This function drops the specified columns from the DataFrame."
      ],
      "metadata": {
        "id": "g6NVeTvugQXi"
      }
    },
    {
      "cell_type": "code",
      "source": [
        "df_drop_columns = df.drop(columns=['B', 'C']) #drops the specified columns from the DataFrame\n",
        "print(df_drop_columns)"
      ],
      "metadata": {
        "colab": {
          "base_uri": "https://localhost:8080/"
        },
        "id": "ABJKHBUJiyiZ",
        "outputId": "c7e5db76-22f5-47dd-cb1b-ed591375f76e"
      },
      "execution_count": null,
      "outputs": [
        {
          "output_type": "stream",
          "name": "stdout",
          "text": [
            "     A    D\n",
            "0  1.0  foo\n",
            "1  2.0  bar\n",
            "2  NaN  foo\n",
            "3  4.0  bar\n",
            "4  5.0  foo\n",
            "5  NaN  bar\n"
          ]
        }
      ]
    },
    {
      "cell_type": "markdown",
      "source": [
        "#22)df.drop(index=[list_of_indices]) =>\n",
        "This function drops rows based on the specified index labels."
      ],
      "metadata": {
        "id": "w-KNog7vgYtn"
      }
    },
    {
      "cell_type": "code",
      "source": [
        "df_drop_index = df.drop(index=[0, 2]) #drops rows based on the specified index labels.\n",
        "print(df_drop_index)"
      ],
      "metadata": {
        "colab": {
          "base_uri": "https://localhost:8080/"
        },
        "id": "h7c8XCErjJIL",
        "outputId": "d97c674b-c81a-4a16-a9c0-684359c9da33"
      },
      "execution_count": null,
      "outputs": [
        {
          "output_type": "stream",
          "name": "stdout",
          "text": [
            "     A    B     C    D\n",
            "1  2.0  2.0   8.0  bar\n",
            "3  4.0  NaN  10.0  bar\n",
            "4  5.0  5.0   NaN  foo\n",
            "5  NaN  6.0  12.0  bar\n"
          ]
        }
      ]
    },
    {
      "cell_type": "markdown",
      "source": [
        "#23)df.rename(columns={'old_name': 'new_name'}) =>\n",
        "This function renames columns."
      ],
      "metadata": {
        "id": "O1HPLh3Egf4T"
      }
    },
    {
      "cell_type": "code",
      "source": [
        "df_rename = df.rename(columns={'A': 'Column_A', 'B': 'Column_B'})\n",
        "print(df_rename)"
      ],
      "metadata": {
        "colab": {
          "base_uri": "https://localhost:8080/"
        },
        "id": "ihRoRKI9jSkN",
        "outputId": "40662e60-670d-464e-c9cc-f1a8393537b5"
      },
      "execution_count": null,
      "outputs": [
        {
          "output_type": "stream",
          "name": "stdout",
          "text": [
            "   Column_A  Column_B     C    D\n",
            "0       1.0       NaN   7.0  foo\n",
            "1       2.0       2.0   8.0  bar\n",
            "2       NaN       3.0   9.0  foo\n",
            "3       4.0       NaN  10.0  bar\n",
            "4       5.0       5.0   NaN  foo\n",
            "5       NaN       6.0  12.0  bar\n"
          ]
        }
      ]
    },
    {
      "cell_type": "markdown",
      "source": [
        "#24)df.astype(dtype) =>\n",
        " This function casts a pandas object to a specified data type."
      ],
      "metadata": {
        "id": "sb7vZUlXgnrl"
      }
    },
    {
      "cell_type": "code",
      "source": [
        "df_cast = df.astype({'A': 'float'}) #casts a pandas object to a specified data type.\n",
        "print(df_cast)"
      ],
      "metadata": {
        "colab": {
          "base_uri": "https://localhost:8080/"
        },
        "id": "1RV0y3ghjZVf",
        "outputId": "f8068882-782e-482a-edb0-c00db68c1f45"
      },
      "execution_count": null,
      "outputs": [
        {
          "output_type": "stream",
          "name": "stdout",
          "text": [
            "     A    B     C    D\n",
            "0  1.0  NaN   7.0  foo\n",
            "1  2.0  2.0   8.0  bar\n",
            "2  NaN  3.0   9.0  foo\n",
            "3  4.0  NaN  10.0  bar\n",
            "4  5.0  5.0   NaN  foo\n",
            "5  NaN  6.0  12.0  bar\n"
          ]
        }
      ]
    },
    {
      "cell_type": "markdown",
      "source": [
        "#25)df.duplicated() =>\n",
        " This function returns a Boolean Series indicating whether each row is a duplicate."
      ],
      "metadata": {
        "id": "JGFQUmYSgz0n"
      }
    },
    {
      "cell_type": "code",
      "source": [
        "df_duplicated = df.duplicated() # indicating whether each row is a duplicate of a previous row in the DataFrame.\n",
        "print(df_duplicated)"
      ],
      "metadata": {
        "colab": {
          "base_uri": "https://localhost:8080/"
        },
        "id": "fBiFQ0OkjyIZ",
        "outputId": "bf184a3b-5ccd-48dd-dfef-9b4dbb6dc6ce"
      },
      "execution_count": null,
      "outputs": [
        {
          "output_type": "stream",
          "name": "stdout",
          "text": [
            "0    False\n",
            "1    False\n",
            "2    False\n",
            "3    False\n",
            "4    False\n",
            "5    False\n",
            "dtype: bool\n"
          ]
        }
      ]
    },
    {
      "cell_type": "markdown",
      "source": [
        "#26)df.drop_duplicates() =>\n",
        " This function removes duplicate rows from the DataFrame."
      ],
      "metadata": {
        "id": "RH_0ZkAFg6QR"
      }
    },
    {
      "cell_type": "code",
      "source": [
        "df_drop_duplicates = df.drop_duplicates() #removes duplicate rows from the DataFrame.\n",
        "print(df_drop_duplicates)"
      ],
      "metadata": {
        "colab": {
          "base_uri": "https://localhost:8080/"
        },
        "id": "ortsOe_GkXcp",
        "outputId": "9e4bf8ee-b542-4d52-c842-7d022ac4a926"
      },
      "execution_count": null,
      "outputs": [
        {
          "output_type": "stream",
          "name": "stdout",
          "text": [
            "     A    B     C    D\n",
            "0  1.0  NaN   7.0  foo\n",
            "1  2.0  2.0   8.0  bar\n",
            "2  NaN  3.0   9.0  foo\n",
            "3  4.0  NaN  10.0  bar\n",
            "4  5.0  5.0   NaN  foo\n",
            "5  NaN  6.0  12.0  bar\n"
          ]
        }
      ]
    },
    {
      "cell_type": "markdown",
      "source": [
        "#27)df.replace(to_replace, value) =>\n",
        "This function replaces values in the DataFrame"
      ],
      "metadata": {
        "id": "S-HRxURuhGAF"
      }
    },
    {
      "cell_type": "code",
      "source": [
        "df_replace = df.replace({'foo': 'FOO', 'bar': 'BAR'}) #replaces values in the DataFrame\n",
        "print(df_replace)"
      ],
      "metadata": {
        "colab": {
          "base_uri": "https://localhost:8080/"
        },
        "id": "0AuP5C0Fkk33",
        "outputId": "d899ef71-30f0-4021-feea-92ecaee94c7e"
      },
      "execution_count": null,
      "outputs": [
        {
          "output_type": "stream",
          "name": "stdout",
          "text": [
            "     A    B     C    D\n",
            "0  1.0  NaN   7.0  FOO\n",
            "1  2.0  2.0   8.0  BAR\n",
            "2  NaN  3.0   9.0  FOO\n",
            "3  4.0  NaN  10.0  BAR\n",
            "4  5.0  5.0   NaN  FOO\n",
            "5  NaN  6.0  12.0  BAR\n"
          ]
        }
      ]
    },
    {
      "cell_type": "markdown",
      "source": [
        "#Data Transformation"
      ],
      "metadata": {
        "id": "wCgNVjHCppXp"
      }
    },
    {
      "cell_type": "markdown",
      "source": [
        "#28)df.sort_values(by='column') =>\n",
        "Sorts the DataFrame by the specified column"
      ],
      "metadata": {
        "id": "LKrVSCZEmV0z"
      }
    },
    {
      "cell_type": "code",
      "source": [
        "data_f = {'A': [21, 2, 93, 4], 'B': [5, 6, 7, 8], 'C': [9, 10, 11, 12]}\n",
        "df = pd.DataFrame(data_f)\n",
        "sorted_df = df.sort_values(by='A')\n",
        "print(\"Sorted by column 'A':\\n\", sorted_df)"
      ],
      "metadata": {
        "colab": {
          "base_uri": "https://localhost:8080/"
        },
        "id": "fv42wkjPn453",
        "outputId": "c1400153-917e-482b-a144-eabf3cd28769"
      },
      "execution_count": null,
      "outputs": [
        {
          "output_type": "stream",
          "name": "stdout",
          "text": [
            "Sorted by column 'A':\n",
            "     A  B   C\n",
            "1   2  6  10\n",
            "3   4  8  12\n",
            "0  21  5   9\n",
            "2  93  7  11\n"
          ]
        }
      ]
    },
    {
      "cell_type": "markdown",
      "source": [
        "#29)df.sort_index() =>\n",
        "Sorts the DataFrame by its index."
      ],
      "metadata": {
        "id": "t0r6KfKjmdFr"
      }
    },
    {
      "cell_type": "code",
      "source": [
        "sorted_index_df = df.sort_index() #sorts the indexes of the dataframe\n",
        "print(\"Sorted by index:\\n\", sorted_index_df)"
      ],
      "metadata": {
        "colab": {
          "base_uri": "https://localhost:8080/"
        },
        "id": "lsKv4taooi8i",
        "outputId": "63d75516-7d02-400a-d318-90bdb90814ba"
      },
      "execution_count": null,
      "outputs": [
        {
          "output_type": "stream",
          "name": "stdout",
          "text": [
            "Sorted by index:\n",
            "       Name  Age         City\n",
            "0    Alice   25     New York\n",
            "1      Bob   30  Los Angeles\n",
            "2  charlie   35      Chicago\n"
          ]
        }
      ]
    },
    {
      "cell_type": "markdown",
      "source": [
        "#30)df.reset_index() =>\n",
        "Resets the index of the DataFrame, converting the index into a column"
      ],
      "metadata": {
        "id": "ahS7R5GNmivz"
      }
    },
    {
      "cell_type": "code",
      "source": [
        "reset_index_df = df.reset_index()  #converting the index into a column\n",
        "print(\"Reset index:\\n\", reset_index_df)"
      ],
      "metadata": {
        "colab": {
          "base_uri": "https://localhost:8080/"
        },
        "id": "Lp5GX9h0omxo",
        "outputId": "f44fbb26-6788-4743-dfdf-c244dd51ccc5"
      },
      "execution_count": null,
      "outputs": [
        {
          "output_type": "stream",
          "name": "stdout",
          "text": [
            "Reset index:\n",
            "    index  A  B   C\n",
            "0      0  1  5   9\n",
            "1      1  2  6  10\n",
            "2      2  3  7  11\n",
            "3      3  4  8  12\n"
          ]
        }
      ]
    },
    {
      "cell_type": "markdown",
      "source": [
        "#31)df.set_index('column') =>\n",
        "Sets the specified column as the index of the DataFrame."
      ],
      "metadata": {
        "id": "XtP5FV1KmsFI"
      }
    },
    {
      "cell_type": "code",
      "source": [
        "set_index_df = df.set_index('A') #Sets the specified column as the index of the DataFrame.\n",
        "print(\"Set column 'A' as index:\\n\", set_index_df)"
      ],
      "metadata": {
        "colab": {
          "base_uri": "https://localhost:8080/"
        },
        "id": "qmhHgLUsorjg",
        "outputId": "f4de32a1-bbf7-44e2-a942-5105cced7463"
      },
      "execution_count": null,
      "outputs": [
        {
          "output_type": "stream",
          "name": "stdout",
          "text": [
            "Set column 'A' as index:\n",
            "    B   C\n",
            "A       \n",
            "1  5   9\n",
            "2  6  10\n",
            "3  7  11\n",
            "4  8  12\n"
          ]
        }
      ]
    },
    {
      "cell_type": "markdown",
      "source": [
        "#32)df.transpose() =>\n",
        "Transposes the DataFrame, swapping rows and columns."
      ],
      "metadata": {
        "id": "Ndxn4osNmx9D"
      }
    },
    {
      "cell_type": "code",
      "source": [
        "transposed_df = df.transpose()  # swapping rows and columns\n",
        "print(\"Transposed DataFrame:\\n\", transposed_df)"
      ],
      "metadata": {
        "colab": {
          "base_uri": "https://localhost:8080/"
        },
        "id": "W6MNGZDmowK9",
        "outputId": "5ce2d875-4799-4260-c817-35594bffbf58"
      },
      "execution_count": null,
      "outputs": [
        {
          "output_type": "stream",
          "name": "stdout",
          "text": [
            "Transposed DataFrame:\n",
            "    0   1   2   3\n",
            "A  1   2   3   4\n",
            "B  5   6   7   8\n",
            "C  9  10  11  12\n"
          ]
        }
      ]
    },
    {
      "cell_type": "markdown",
      "source": [
        "#33)df.pivot(index='index_col', columns='columns_col', values='values_col') =>\n",
        "Pivots the DataFrame based on specified index, columns, and values."
      ],
      "metadata": {
        "id": "HizD5xaMnKxp"
      }
    },
    {
      "cell_type": "code",
      "source": [
        "data_p = {\n",
        "    'date': ['2024-08-01', '2024-08-01', '2024-08-02', '2024-08-02'],\n",
        "    'city': ['New York', 'Los Angeles', 'New York', 'Los Angeles'],\n",
        "    'temperature': [30, 25, 28, 22]\n",
        "}\n",
        "df = pd.DataFrame(data_p)\n",
        "\n",
        "print(\"Original DataFrame:\")\n",
        "print(df)\n",
        "print(\"\\n\")\n",
        "df_pivot = df.pivot(index='date', columns='city', values='temperature') #set date colum as index, city as \"column\" and temperature as \"values\"\n",
        "\n",
        "print(\"\\nPivoted DataFrame:\")\n",
        "print(df_pivot)"
      ],
      "metadata": {
        "colab": {
          "base_uri": "https://localhost:8080/"
        },
        "id": "JEsjnGZqo2Bi",
        "outputId": "0c18b820-fd34-43e4-86e4-3782e36eed92"
      },
      "execution_count": null,
      "outputs": [
        {
          "output_type": "stream",
          "name": "stdout",
          "text": [
            "Original DataFrame:\n",
            "         date         city  temperature\n",
            "0  2024-08-01     New York           30\n",
            "1  2024-08-01  Los Angeles           25\n",
            "2  2024-08-02     New York           28\n",
            "3  2024-08-02  Los Angeles           22\n",
            "\n",
            "\n",
            "\n",
            "Pivoted DataFrame:\n",
            "city        Los Angeles  New York\n",
            "date                             \n",
            "2024-08-01           25        30\n",
            "2024-08-02           22        28\n"
          ]
        }
      ]
    },
    {
      "cell_type": "markdown",
      "source": [
        "#34)df.melt(id_vars=['col1', 'col2']) =>\n",
        " Unpivots the DataFrame from wide to long format."
      ],
      "metadata": {
        "id": "hHdJD-qqnQYV"
      }
    },
    {
      "cell_type": "code",
      "source": [
        "data_m = {\n",
        "    'Date': ['2024-01-01', '2024-01-02'],\n",
        "    'Temperature': [32, 35],\n",
        "    'Humidity': [80, 75]\n",
        "}\n",
        "\n",
        "df_m = pd.DataFrame(data_m)\n",
        "print(df_m)\n",
        "print(\"\\n\")\n",
        "melted_df = pd.melt(df_m, id_vars=['Date'], var_name='Measurement', value_name='Value')\n",
        "print(melted_df)"
      ],
      "metadata": {
        "colab": {
          "base_uri": "https://localhost:8080/"
        },
        "id": "os1zkDvQpAkq",
        "outputId": "06511e5f-241f-47d4-8493-592841ed1a70"
      },
      "execution_count": null,
      "outputs": [
        {
          "output_type": "stream",
          "name": "stdout",
          "text": [
            "         Date  Temperature  Humidity\n",
            "0  2024-01-01           32        80\n",
            "1  2024-01-02           35        75\n",
            "\n",
            "\n",
            "         Date  Measurement  Value\n",
            "0  2024-01-01  Temperature     32\n",
            "1  2024-01-02  Temperature     35\n",
            "2  2024-01-01     Humidity     80\n",
            "3  2024-01-02     Humidity     75\n"
          ]
        }
      ]
    },
    {
      "cell_type": "markdown",
      "source": [
        "#35)df.merge(other_df, on='key', how='inner') =>\n",
        "Merges two DataFrames on a key with the specified join method (inner join)."
      ],
      "metadata": {
        "id": "gsDePwoxnYQX"
      }
    },
    {
      "cell_type": "code",
      "source": [
        "df1 = pd.DataFrame({\n",
        "    'key': ['A', 'B'],\n",
        "    'value_df1': [10, 20]\n",
        "})\n",
        "\n",
        "df2 = pd.DataFrame({\n",
        "    'key': ['B', 'C'],\n",
        "    'value_df2': [30, 40]\n",
        "})\n",
        "\n",
        "# Merging the DataFrames on the 'key' column with an inner join\n",
        "result = df1.merge(df2, on='key', how='inner')\n",
        "\n",
        "print(result)\n"
      ],
      "metadata": {
        "colab": {
          "base_uri": "https://localhost:8080/"
        },
        "id": "Weqw5leopCzE",
        "outputId": "5ffa555a-5de3-41b5-963a-945867242e60"
      },
      "execution_count": null,
      "outputs": [
        {
          "output_type": "stream",
          "name": "stdout",
          "text": [
            "  key  value_df1  value_df2\n",
            "0   B         20         30\n"
          ]
        }
      ]
    },
    {
      "cell_type": "markdown",
      "source": [
        "#36)df.join(other_df, on='key') =>\n",
        "Joins another DataFrame to the current one on the specified key."
      ],
      "metadata": {
        "id": "ZQHHMKNQngvu"
      }
    },
    {
      "cell_type": "code",
      "source": [
        "df = pd.DataFrame({'key': ['A', 'B', 'C'],\n",
        "                   'value1': [1, 2, 3]})\n",
        "\n",
        "other_df = pd.DataFrame({'key': ['A', 'B', 'D'],\n",
        "                         'value2': [4, 5, 6]})\n",
        "\n",
        "# Perform the join operation\n",
        "result = df.join(other_df.set_index('key'), on='key')\n",
        "\n",
        "print(result)"
      ],
      "metadata": {
        "colab": {
          "base_uri": "https://localhost:8080/"
        },
        "id": "Rf1kr0T_pG22",
        "outputId": "5b6ec5f4-32c2-4c37-c822-504fd438a292"
      },
      "execution_count": null,
      "outputs": [
        {
          "output_type": "stream",
          "name": "stdout",
          "text": [
            "  key  value1  value2\n",
            "0   A       1     4.0\n",
            "1   B       2     5.0\n",
            "2   C       3     NaN\n"
          ]
        }
      ]
    },
    {
      "cell_type": "markdown",
      "source": [
        "#37)df.groupby('column') =>\n",
        "Groups the DataFrame by the specified column"
      ],
      "metadata": {
        "id": "KAiZBMvWnsXy"
      }
    },
    {
      "cell_type": "code",
      "source": [
        "df = pd.DataFrame({\n",
        "    'category': ['A', 'A', 'B', 'B', 'C', 'C'],\n",
        "    'value': [10, 20, 30, 40, 50, 60]\n",
        "})\n",
        "\n",
        "# Group by the 'category' column\n",
        "grouped = df.groupby('category')\n",
        "\n",
        "# Apply an aggregation function to each group\n",
        "result = grouped.sum()\n",
        "\n",
        "print(result)"
      ],
      "metadata": {
        "colab": {
          "base_uri": "https://localhost:8080/"
        },
        "id": "U8jwQVYOpMXC",
        "outputId": "6ed16643-b302-4fb4-d7fe-40c365e26776"
      },
      "execution_count": null,
      "outputs": [
        {
          "output_type": "stream",
          "name": "stdout",
          "text": [
            "          value\n",
            "category       \n",
            "A            30\n",
            "B            70\n",
            "C           110\n"
          ]
        }
      ]
    },
    {
      "cell_type": "markdown",
      "source": [],
      "metadata": {
        "id": "zRsoByalp1a3"
      }
    },
    {
      "cell_type": "markdown",
      "source": [
        "#Aggregation and Grouping"
      ],
      "metadata": {
        "id": "LYtllCbipyQ4"
      }
    },
    {
      "cell_type": "markdown",
      "source": [
        "#38)df.groupby('column').sum() =>\n",
        "Aggregates by summing groups."
      ],
      "metadata": {
        "id": "ihijsVwkp6kn"
      }
    },
    {
      "cell_type": "code",
      "source": [
        "data_f_A = {\n",
        "    'column': ['A', 'A', 'B', 'B', 'C', 'C'],\n",
        "    'col1': [10, 20, 30, 40, 50, 60],\n",
        "    'col2': [5, 10, 15, 20, 25, 30],\n",
        "    'value_col': [100, 200, 300, 400, 500, 600],\n",
        "    'index_col': ['X', 'X', 'Y', 'Y', 'Z', 'Z'],\n",
        "    'col_col': ['P', 'Q', 'P', 'Q', 'P', 'Q']\n",
        "}\n",
        "\n",
        "df = pd.DataFrame(data_f_A)\n",
        "print(df)\n",
        "print(\"\\n\")\n",
        "grouped_sum = df.groupby('column').sum()\n",
        "print(\"Grouped Sum:\\n\", grouped_sum)"
      ],
      "metadata": {
        "colab": {
          "base_uri": "https://localhost:8080/"
        },
        "id": "ksyJtWj-r_BE",
        "outputId": "245d12ad-2d39-4700-e3b4-a462e31c53d1"
      },
      "execution_count": null,
      "outputs": [
        {
          "output_type": "stream",
          "name": "stdout",
          "text": [
            "  column  col1  col2  value_col index_col col_col\n",
            "0      A    10     5        100         X       P\n",
            "1      A    20    10        200         X       Q\n",
            "2      B    30    15        300         Y       P\n",
            "3      B    40    20        400         Y       Q\n",
            "4      C    50    25        500         Z       P\n",
            "5      C    60    30        600         Z       Q\n",
            "\n",
            "\n",
            "Grouped Sum:\n",
            "         col1  col2  value_col index_col col_col\n",
            "column                                         \n",
            "A         30    15        300        XX      PQ\n",
            "B         70    35        700        YY      PQ\n",
            "C        110    55       1100        ZZ      PQ\n"
          ]
        }
      ]
    },
    {
      "cell_type": "markdown",
      "source": [
        "#39)df.groupby('column').mean() =>\n",
        "Aggregates by taking the mean of groups"
      ],
      "metadata": {
        "id": "FwCpkZXyrDyg"
      }
    },
    {
      "cell_type": "markdown",
      "source": [],
      "metadata": {
        "id": "Fzc0KAWeueyi"
      }
    },
    {
      "cell_type": "code",
      "source": [
        "grouped_mean = df.groupby('column').mean(numeric_only=True)\n",
        "print(\"\\nGrouped Mean:\\n\", grouped_mean)\n"
      ],
      "metadata": {
        "colab": {
          "base_uri": "https://localhost:8080/"
        },
        "id": "tKiTBDHEsi9w",
        "outputId": "8e878646-1ae0-4ee6-f071-d1c9f480f889"
      },
      "execution_count": null,
      "outputs": [
        {
          "output_type": "stream",
          "name": "stdout",
          "text": [
            "\n",
            "Grouped Mean:\n",
            "         col1  col2  value_col\n",
            "column                       \n",
            "A       15.0   7.5      150.0\n",
            "B       35.0  17.5      350.0\n",
            "C       55.0  27.5      550.0\n"
          ]
        }
      ]
    },
    {
      "cell_type": "markdown",
      "source": [
        "#40)df.groupby('column').count() =>\n",
        "Aggregates by counting non-null values in group"
      ],
      "metadata": {
        "id": "dyE5COgVrJWK"
      }
    },
    {
      "cell_type": "code",
      "source": [
        "grouped_count = df.groupby('column').count()\n",
        "print(\"\\nGrouped Count:\\n\", grouped_count)"
      ],
      "metadata": {
        "colab": {
          "base_uri": "https://localhost:8080/"
        },
        "id": "GNW7PxkSsje-",
        "outputId": "59184926-2ee2-4c95-e603-707f249aaae7"
      },
      "execution_count": null,
      "outputs": [
        {
          "output_type": "stream",
          "name": "stdout",
          "text": [
            "\n",
            "Grouped Count:\n",
            "         col1  col2  value_col  index_col  col_col\n",
            "column                                           \n",
            "A          2     2          2          2        2\n",
            "B          2     2          2          2        2\n",
            "C          2     2          2          2        2\n"
          ]
        }
      ]
    },
    {
      "cell_type": "markdown",
      "source": [
        "#41)df.groupby('column').min() =>\n",
        " Aggregates by finding the minimum in groups"
      ],
      "metadata": {
        "id": "9gOlc2qOrPGz"
      }
    },
    {
      "cell_type": "code",
      "source": [
        "grouped_min = df.groupby('column').min()\n",
        "print(\"\\nGrouped Min:\\n\", grouped_min)"
      ],
      "metadata": {
        "colab": {
          "base_uri": "https://localhost:8080/"
        },
        "id": "-McrXnmMskZg",
        "outputId": "d96af2b9-767f-46c1-f230-eae3bf177eeb"
      },
      "execution_count": null,
      "outputs": [
        {
          "output_type": "stream",
          "name": "stdout",
          "text": [
            "\n",
            "Grouped Min:\n",
            "         col1  col2  value_col index_col col_col\n",
            "column                                         \n",
            "A         10     5        100         X       P\n",
            "B         30    15        300         Y       P\n",
            "C         50    25        500         Z       P\n"
          ]
        }
      ]
    },
    {
      "cell_type": "markdown",
      "source": [
        "#42)df.groupby('column').max() =>\n",
        "Aggregates by finding the maximum in groups"
      ],
      "metadata": {
        "id": "iWWkdlePrVaX"
      }
    },
    {
      "cell_type": "code",
      "source": [
        "grouped_max = df.groupby('column').max()\n",
        "print(\"\\nGrouped Max:\\n\", grouped_max)"
      ],
      "metadata": {
        "colab": {
          "base_uri": "https://localhost:8080/"
        },
        "id": "Yz2pS1Bdsk61",
        "outputId": "ffbdf930-89fb-4ffc-b9c4-794ae5953c21"
      },
      "execution_count": null,
      "outputs": [
        {
          "output_type": "stream",
          "name": "stdout",
          "text": [
            "\n",
            "Grouped Max:\n",
            "         col1  col2  value_col index_col col_col\n",
            "column                                         \n",
            "A         20    10        200         X       Q\n",
            "B         40    20        400         Y       Q\n",
            "C         60    30        600         Z       Q\n"
          ]
        }
      ]
    },
    {
      "cell_type": "markdown",
      "source": [
        "#43)df.groupby('column').agg({'col1': 'sum', 'col2': 'mean'}) =>\n",
        "Applies different aggregations to different columns."
      ],
      "metadata": {
        "id": "CRfHJeZZrbO0"
      }
    },
    {
      "cell_type": "code",
      "source": [
        "grouped_agg = df.groupby('column').agg({'col1': 'sum', 'col2': 'mean'})\n",
        "print(\"\\nGrouped Aggregate:\\n\", grouped_agg)"
      ],
      "metadata": {
        "colab": {
          "base_uri": "https://localhost:8080/"
        },
        "id": "5IJtixpFsliX",
        "outputId": "b72dfd67-ab19-4530-daf5-1a37a911ed9d"
      },
      "execution_count": null,
      "outputs": [
        {
          "output_type": "stream",
          "name": "stdout",
          "text": [
            "\n",
            "Grouped Aggregate:\n",
            "         col1  col2\n",
            "column            \n",
            "A         30   7.5\n",
            "B         70  17.5\n",
            "C        110  27.5\n"
          ]
        }
      ]
    },
    {
      "cell_type": "markdown",
      "source": [
        "#44)df.groupby('column').size() =>\n",
        "Returns the size of each group"
      ],
      "metadata": {
        "id": "Szsd6_WqrhJr"
      }
    },
    {
      "cell_type": "code",
      "source": [
        "grouped_size = df.groupby('column').size()\n",
        "print(\"\\nGrouped Size:\\n\", grouped_size)"
      ],
      "metadata": {
        "colab": {
          "base_uri": "https://localhost:8080/"
        },
        "id": "BFg8FFC6smS2",
        "outputId": "eea7f0ad-0f85-4482-a458-6197a233fd89"
      },
      "execution_count": null,
      "outputs": [
        {
          "output_type": "stream",
          "name": "stdout",
          "text": [
            "\n",
            "Grouped Size:\n",
            " column\n",
            "A    2\n",
            "B    2\n",
            "C    2\n",
            "dtype: int64\n"
          ]
        }
      ]
    },
    {
      "cell_type": "markdown",
      "source": [
        "#45)df.groupby('column').describe() =>\n",
        " Provides summary statistics for groups."
      ],
      "metadata": {
        "id": "owz4zUN4rm1U"
      }
    },
    {
      "cell_type": "code",
      "source": [
        "grouped_describe = df.groupby('column').describe()\n",
        "print(\"\\nGrouped Describe:\\n\", grouped_describe)"
      ],
      "metadata": {
        "colab": {
          "base_uri": "https://localhost:8080/"
        },
        "id": "-Y7v7auqsm6D",
        "outputId": "5250c9ec-94ff-407c-b24b-0aa8c71a7477"
      },
      "execution_count": null,
      "outputs": [
        {
          "output_type": "stream",
          "name": "stdout",
          "text": [
            "\n",
            "Grouped Describe:\n",
            "         col1                                                col2        ...  \\\n",
            "       count  mean       std   min   25%   50%   75%   max count  mean  ...   \n",
            "column                                                                  ...   \n",
            "A        2.0  15.0  7.071068  10.0  12.5  15.0  17.5  20.0   2.0   7.5  ...   \n",
            "B        2.0  35.0  7.071068  30.0  32.5  35.0  37.5  40.0   2.0  17.5  ...   \n",
            "C        2.0  55.0  7.071068  50.0  52.5  55.0  57.5  60.0   2.0  27.5  ...   \n",
            "\n",
            "                    value_col                                                \\\n",
            "          75%   max     count   mean        std    min    25%    50%    75%   \n",
            "column                                                                        \n",
            "A        8.75  10.0       2.0  150.0  70.710678  100.0  125.0  150.0  175.0   \n",
            "B       18.75  20.0       2.0  350.0  70.710678  300.0  325.0  350.0  375.0   \n",
            "C       28.75  30.0       2.0  550.0  70.710678  500.0  525.0  550.0  575.0   \n",
            "\n",
            "               \n",
            "          max  \n",
            "column         \n",
            "A       200.0  \n",
            "B       400.0  \n",
            "C       600.0  \n",
            "\n",
            "[3 rows x 24 columns]\n"
          ]
        }
      ]
    },
    {
      "cell_type": "markdown",
      "source": [
        "#46)df.pivot_table(values='value_col', index='index_col', columns='col_col') =>\n",
        " Creates a pivot table."
      ],
      "metadata": {
        "id": "zaSIXrW1rtQE"
      }
    },
    {
      "cell_type": "code",
      "source": [
        "\n",
        "data = {\n",
        "    'index_col': ['A', 'A', 'B', 'B'],\n",
        "    'col_col': ['X', 'Y', 'X', 'Y'],\n",
        "    'value_col': [10, 20, 30, 40]\n",
        "}\n",
        "\n",
        "df_p = pd.DataFrame(data)\n",
        "\n",
        "# Pivot table creation\n",
        "pivot_table = df_p.pivot_table(values='value_col', index='index_col', columns='col_col')\n",
        "\n",
        "print(pivot_table)"
      ],
      "metadata": {
        "colab": {
          "base_uri": "https://localhost:8080/"
        },
        "id": "nq_MGJ0HsnyZ",
        "outputId": "8ecaf239-a645-4375-b953-ec3f1ca6d975"
      },
      "execution_count": null,
      "outputs": [
        {
          "output_type": "stream",
          "name": "stdout",
          "text": [
            "col_col       X     Y\n",
            "index_col            \n",
            "A          10.0  20.0\n",
            "B          30.0  40.0\n"
          ]
        }
      ]
    },
    {
      "cell_type": "markdown",
      "source": [
        "#47)df.crosstab(df1['col1'], df2['col2']) =>\n",
        "Creates a cross-tabulation of two columns"
      ],
      "metadata": {
        "id": "TCdxo-cvr3A1"
      }
    },
    {
      "cell_type": "code",
      "source": [
        "df1 = pd.DataFrame({'col1': ['A', 'B', 'A', 'B', 'C']})\n",
        "df2 = pd.DataFrame({'col2': ['X', 'Y', 'X', 'Y', 'X']})\n",
        "\n",
        "#\n",
        "result = pd.crosstab(df1['col1'], df2['col2'])\n",
        "\n",
        "print(result)"
      ],
      "metadata": {
        "colab": {
          "base_uri": "https://localhost:8080/"
        },
        "id": "jr1WkdzJsoQl",
        "outputId": "12102b0f-20f2-436e-adb4-78ee3c3b9086"
      },
      "execution_count": null,
      "outputs": [
        {
          "output_type": "stream",
          "name": "stdout",
          "text": [
            "col2  X  Y\n",
            "col1      \n",
            "A     2  0\n",
            "B     0  2\n",
            "C     1  0\n"
          ]
        }
      ]
    },
    {
      "cell_type": "markdown",
      "source": [
        "#Statistical Functions"
      ],
      "metadata": {
        "id": "jhcYPBMMxOet"
      }
    },
    {
      "cell_type": "markdown",
      "source": [
        "#48)df.mean() =>\n",
        "Calculates the mean of numeric columns"
      ],
      "metadata": {
        "id": "O8_0iBzevWE4"
      }
    },
    {
      "cell_type": "code",
      "source": [
        "data_f_S = {\n",
        "    'A': [1, 2, 3, 4, 5],\n",
        "    'B': [10, 20, 30, 40, 50]\n",
        "}\n",
        "df = pd.DataFrame(data_f_S)\n",
        "print(df)\n",
        "print(\"\\n\")\n",
        "mean_values = df.mean()\n",
        "print(\"Mean:\\n\", mean_values)\n"
      ],
      "metadata": {
        "colab": {
          "base_uri": "https://localhost:8080/"
        },
        "id": "HoPq8rCcwoTC",
        "outputId": "d9d88ea1-a840-46a6-ecdd-2af33a189781"
      },
      "execution_count": null,
      "outputs": [
        {
          "output_type": "stream",
          "name": "stdout",
          "text": [
            "   A   B\n",
            "0  1  10\n",
            "1  2  20\n",
            "2  3  30\n",
            "3  4  40\n",
            "4  5  50\n",
            "\n",
            "\n",
            "Mean:\n",
            " A     3.0\n",
            "B    30.0\n",
            "dtype: float64\n"
          ]
        }
      ]
    },
    {
      "cell_type": "markdown",
      "source": [
        "#49)df.median() =>\n",
        "Calculates the median of numeric columns"
      ],
      "metadata": {
        "id": "ABXho97tvhrX"
      }
    },
    {
      "cell_type": "code",
      "source": [
        "median_values = df.median()\n",
        "print(\"Median:\\n\", median_values)"
      ],
      "metadata": {
        "colab": {
          "base_uri": "https://localhost:8080/"
        },
        "id": "6Ihi8m74wour",
        "outputId": "186cff1d-6ef4-40b7-c4ab-01072c5b438f"
      },
      "execution_count": null,
      "outputs": [
        {
          "output_type": "stream",
          "name": "stdout",
          "text": [
            "Median:\n",
            " A     3.0\n",
            "B    30.0\n",
            "dtype: float64\n"
          ]
        }
      ]
    },
    {
      "cell_type": "markdown",
      "source": [
        "#50)df.std() =>\n",
        "Calculates the standard deviation of numeric columns"
      ],
      "metadata": {
        "id": "7nTk-jCsvtcI"
      }
    },
    {
      "cell_type": "code",
      "source": [
        "std_values = df.std()\n",
        "print(\"Standard Deviation:\\n\", std_values)"
      ],
      "metadata": {
        "colab": {
          "base_uri": "https://localhost:8080/"
        },
        "id": "znPs94pRwpP4",
        "outputId": "e45f7420-5f05-44f0-cc7b-96f2c8ca40ce"
      },
      "execution_count": null,
      "outputs": [
        {
          "output_type": "stream",
          "name": "stdout",
          "text": [
            "Standard Deviation:\n",
            " A     1.581139\n",
            "B    15.811388\n",
            "dtype: float64\n"
          ]
        }
      ]
    },
    {
      "cell_type": "markdown",
      "source": [
        "#51)df.var() =>\n",
        "Calculates the variance of numeric columns.\n",
        "\n"
      ],
      "metadata": {
        "id": "Ga6P9xQlvzjg"
      }
    },
    {
      "cell_type": "code",
      "source": [
        "var_values = df.var()\n",
        "print(\"Variance:\\n\", var_values)"
      ],
      "metadata": {
        "colab": {
          "base_uri": "https://localhost:8080/"
        },
        "id": "PStFBRbWwpzZ",
        "outputId": "2009db62-022b-451f-83b4-54d4f2af44dc"
      },
      "execution_count": null,
      "outputs": [
        {
          "output_type": "stream",
          "name": "stdout",
          "text": [
            "Variance:\n",
            " A      2.5\n",
            "B    250.0\n",
            "dtype: float64\n"
          ]
        }
      ]
    },
    {
      "cell_type": "markdown",
      "source": [
        "#52)df.sum() =>\n",
        "Calculates the sum of numeric columns"
      ],
      "metadata": {
        "id": "pkoApi1Nv6dm"
      }
    },
    {
      "cell_type": "code",
      "source": [
        "sum_values = df.sum()\n",
        "print(\"Sum:\\n\", sum_values)"
      ],
      "metadata": {
        "colab": {
          "base_uri": "https://localhost:8080/"
        },
        "id": "WddfDKdmwqls",
        "outputId": "f03da6b6-44d1-4140-f303-8927dbf669cc"
      },
      "execution_count": null,
      "outputs": [
        {
          "output_type": "stream",
          "name": "stdout",
          "text": [
            "Sum:\n",
            " A     15\n",
            "B    150\n",
            "dtype: int64\n"
          ]
        }
      ]
    },
    {
      "cell_type": "markdown",
      "source": [
        "#53)df.prod() =>\n",
        "Calculates the product of numeric columns"
      ],
      "metadata": {
        "id": "LaYp5qPQwAWE"
      }
    },
    {
      "cell_type": "code",
      "source": [
        "prod_values = df.prod()\n",
        "print(\"Product:\\n\", prod_values)"
      ],
      "metadata": {
        "colab": {
          "base_uri": "https://localhost:8080/"
        },
        "id": "qlUS4TCzwrLm",
        "outputId": "f5eae3f8-193e-4853-b071-5355011115fd"
      },
      "execution_count": null,
      "outputs": [
        {
          "output_type": "stream",
          "name": "stdout",
          "text": [
            "Product:\n",
            " A         120\n",
            "B    12000000\n",
            "dtype: int64\n"
          ]
        }
      ]
    },
    {
      "cell_type": "markdown",
      "source": [
        "#54)df.cumsum() =>\n",
        "Calculates the cumulative sum of numeric columns"
      ],
      "metadata": {
        "id": "CGzxE5jrwIYz"
      }
    },
    {
      "cell_type": "code",
      "source": [
        "cumsum_values = df.cumsum()\n",
        "print(\"Cumulative Sum:\\n\", cumsum_values)"
      ],
      "metadata": {
        "colab": {
          "base_uri": "https://localhost:8080/"
        },
        "id": "9PqbPh9OwrpX",
        "outputId": "6dce5fec-3712-4522-f0dd-688383e32291"
      },
      "execution_count": null,
      "outputs": [
        {
          "output_type": "stream",
          "name": "stdout",
          "text": [
            "Cumulative Sum:\n",
            "     A    B\n",
            "0   1   10\n",
            "1   3   30\n",
            "2   6   60\n",
            "3  10  100\n",
            "4  15  150\n"
          ]
        }
      ]
    },
    {
      "cell_type": "markdown",
      "source": [
        "#55)df.cumprod() =>\n",
        "Calculates the cumulative product of numeric columns."
      ],
      "metadata": {
        "id": "NpZl_V3jwPwo"
      }
    },
    {
      "cell_type": "code",
      "source": [
        "cumprod_values = df.cumprod()\n",
        "print(\"Cumulative Product:\\n\", cumprod_values)"
      ],
      "metadata": {
        "colab": {
          "base_uri": "https://localhost:8080/"
        },
        "id": "zV_zlY08wsSF",
        "outputId": "30edfa88-438b-4fc3-d74d-c741bfb90016"
      },
      "execution_count": null,
      "outputs": [
        {
          "output_type": "stream",
          "name": "stdout",
          "text": [
            "Cumulative Product:\n",
            "      A         B\n",
            "0    1        10\n",
            "1    2       200\n",
            "2    6      6000\n",
            "3   24    240000\n",
            "4  120  12000000\n"
          ]
        }
      ]
    },
    {
      "cell_type": "markdown",
      "source": [
        "#56)df.cummin() =>\n",
        "Calculates the cumulative minimum of numeric columns."
      ],
      "metadata": {
        "id": "CeogOS06wVwh"
      }
    },
    {
      "cell_type": "code",
      "source": [
        "cummin_values = df.cummin()\n",
        "print(\"Cumulative Minimum:\\n\", cummin_values)"
      ],
      "metadata": {
        "colab": {
          "base_uri": "https://localhost:8080/"
        },
        "id": "BKL8gCaEwsu9",
        "outputId": "ad3ed82f-db5e-4ad8-a1cf-44aab54cef96"
      },
      "execution_count": null,
      "outputs": [
        {
          "output_type": "stream",
          "name": "stdout",
          "text": [
            "Cumulative Minimum:\n",
            "    A   B\n",
            "0  1  10\n",
            "1  1  10\n",
            "2  1  10\n",
            "3  1  10\n",
            "4  1  10\n"
          ]
        }
      ]
    },
    {
      "cell_type": "markdown",
      "source": [
        "#57)df.cummax() =>\n",
        "Calculates the cumulative maximum of numeric columns"
      ],
      "metadata": {
        "id": "40kQehtEwd_3"
      }
    },
    {
      "cell_type": "code",
      "source": [
        "cummax_values = df.cummax()\n",
        "print(\"Cumulative Maximum:\\n\", cummax_values)"
      ],
      "metadata": {
        "colab": {
          "base_uri": "https://localhost:8080/"
        },
        "id": "HjBLUF3awtW2",
        "outputId": "10563194-a18c-4df2-b6a0-5c75b56e6fe0"
      },
      "execution_count": null,
      "outputs": [
        {
          "output_type": "stream",
          "name": "stdout",
          "text": [
            "Cumulative Maximum:\n",
            "    A   B\n",
            "0  1  10\n",
            "1  2  20\n",
            "2  3  30\n",
            "3  4  40\n",
            "4  5  50\n"
          ]
        }
      ]
    },
    {
      "cell_type": "markdown",
      "source": [
        "#Date and Time Functions"
      ],
      "metadata": {
        "id": "P8xfA5MIzlg2"
      }
    },
    {
      "cell_type": "markdown",
      "source": [
        "#58)pd.to_datetime(df['date_col']) =>\n",
        "Converts a column to datetime format"
      ],
      "metadata": {
        "id": "uVyc51eF1X4J"
      }
    },
    {
      "cell_type": "code",
      "source": [
        "def convert_to_datetime(df):\n",
        "    df['date_col'] = pd.to_datetime(df['date_col'])\n",
        "    return df\n",
        "\n",
        "\n",
        "data_f_T = {'date_col': ['2024-07-29 12:34:56', '2024-07-30 15:20:10']}\n",
        "df = pd.DataFrame(data_f_T)\n",
        "df = convert_to_datetime(df)\n",
        "print(df)\n"
      ],
      "metadata": {
        "colab": {
          "base_uri": "https://localhost:8080/"
        },
        "id": "E4npTjy43t_6",
        "outputId": "24a5dfbf-5c01-4772-99f5-d5159921b921"
      },
      "execution_count": null,
      "outputs": [
        {
          "output_type": "stream",
          "name": "stdout",
          "text": [
            "             date_col\n",
            "0 2024-07-29 12:34:56\n",
            "1 2024-07-30 15:20:10\n"
          ]
        }
      ]
    },
    {
      "cell_type": "markdown",
      "source": [
        "#59)df['date_col'].dt.year =>\n",
        "Extracts the year from a datetime column"
      ],
      "metadata": {
        "id": "8-zAo-8m2XRJ"
      }
    },
    {
      "cell_type": "code",
      "source": [
        "def extract_year(df):\n",
        "    df['year'] = df['date_col'].dt.year\n",
        "    return df\n",
        "\n",
        "\n",
        "df = extract_year(df)\n",
        "print(df)\n"
      ],
      "metadata": {
        "colab": {
          "base_uri": "https://localhost:8080/"
        },
        "id": "nU4sUOM138Fo",
        "outputId": "7be99449-95b5-4be5-fde6-3581861a2e17"
      },
      "execution_count": null,
      "outputs": [
        {
          "output_type": "stream",
          "name": "stdout",
          "text": [
            "             date_col  year\n",
            "0 2024-07-29 12:34:56  2024\n",
            "1 2024-07-30 15:20:10  2024\n"
          ]
        }
      ]
    },
    {
      "cell_type": "markdown",
      "source": [
        "#60)df['date_col'].dt.month =>\n",
        "Extracts the month from a datetime column"
      ],
      "metadata": {
        "id": "F_8heIm-2eeh"
      }
    },
    {
      "cell_type": "code",
      "source": [
        "def extract_month(df):\n",
        "    df['month'] = df['date_col'].dt.month\n",
        "    return df\n",
        "\n",
        "\n",
        "df = extract_month(df)\n",
        "print(df)\n"
      ],
      "metadata": {
        "colab": {
          "base_uri": "https://localhost:8080/"
        },
        "id": "Qkgbm-Cy4C4S",
        "outputId": "2ee161cc-6269-47ec-9155-4f1516dd4ee2"
      },
      "execution_count": null,
      "outputs": [
        {
          "output_type": "stream",
          "name": "stdout",
          "text": [
            "             date_col  year  month\n",
            "0 2024-07-29 12:34:56  2024      7\n",
            "1 2024-07-30 15:20:10  2024      7\n"
          ]
        }
      ]
    },
    {
      "cell_type": "markdown",
      "source": [
        "#61)df['date_col'].dt.day =>\n",
        "Extracts the day from a datetime column"
      ],
      "metadata": {
        "id": "twwd4Mqj2ky1"
      }
    },
    {
      "cell_type": "code",
      "source": [
        "def extract_day(df):\n",
        "    df['day'] = df['date_col'].dt.day\n",
        "    return df\n",
        "\n",
        "\n",
        "df = extract_day(df)\n",
        "print(df)\n"
      ],
      "metadata": {
        "colab": {
          "base_uri": "https://localhost:8080/"
        },
        "id": "xAE-zgds4Hfs",
        "outputId": "c0477fc3-98b6-4982-e46f-9a1b8aaabab3"
      },
      "execution_count": null,
      "outputs": [
        {
          "output_type": "stream",
          "name": "stdout",
          "text": [
            "             date_col  year  month  day\n",
            "0 2024-07-29 12:34:56  2024      7   29\n",
            "1 2024-07-30 15:20:10  2024      7   30\n"
          ]
        }
      ]
    },
    {
      "cell_type": "markdown",
      "source": [
        "#62)df['date_col'].dt.hour =>\n",
        "Extracts the hour from a datetime column."
      ],
      "metadata": {
        "id": "Xl2iIIfu2sOO"
      }
    },
    {
      "cell_type": "code",
      "source": [
        "def extract_hour(df):\n",
        "    df['hour'] = df['date_col'].dt.hour\n",
        "    return df\n",
        "\n",
        "df = extract_hour(df)\n",
        "print(df)\n"
      ],
      "metadata": {
        "colab": {
          "base_uri": "https://localhost:8080/"
        },
        "id": "rRH1K-at4LoH",
        "outputId": "60f5571d-239c-444b-f365-60e6ff742f90"
      },
      "execution_count": null,
      "outputs": [
        {
          "output_type": "stream",
          "name": "stdout",
          "text": [
            "             date_col  year  month  day  hour\n",
            "0 2024-07-29 12:34:56  2024      7   29    12\n",
            "1 2024-07-30 15:20:10  2024      7   30    15\n"
          ]
        }
      ]
    },
    {
      "cell_type": "markdown",
      "source": [
        "#63)df['date_col'].dt.minute =>\n",
        "Extracts the minute from a datetime column."
      ],
      "metadata": {
        "id": "8st96p5r2xLi"
      }
    },
    {
      "cell_type": "code",
      "source": [
        "def extract_minute(df):\n",
        "    df['minute'] = df['date_col'].dt.minute\n",
        "    return df\n",
        "\n",
        "df = extract_minute(df)\n",
        "print(df)\n"
      ],
      "metadata": {
        "id": "HF80sTBW4QH9"
      },
      "execution_count": null,
      "outputs": []
    },
    {
      "cell_type": "markdown",
      "source": [
        "#64)df['date_col'].dt.second =>\n",
        "Extracts the second from a datetime column."
      ],
      "metadata": {
        "id": "__6D_-4I22nA"
      }
    },
    {
      "cell_type": "code",
      "source": [
        "def extract_second(df):\n",
        "    df['second'] = df['date_col'].dt.second\n",
        "    return df\n",
        "\n",
        "df = extract_second(df)\n",
        "print(df)\n"
      ],
      "metadata": {
        "colab": {
          "base_uri": "https://localhost:8080/"
        },
        "id": "az9RWzi74UL4",
        "outputId": "d7395b11-cba8-40a4-effe-df4f481a214d"
      },
      "execution_count": null,
      "outputs": [
        {
          "output_type": "stream",
          "name": "stdout",
          "text": [
            "             date_col  year  month  day  hour  second\n",
            "0 2024-07-29 12:34:56  2024      7   29    12      56\n",
            "1 2024-07-30 15:20:10  2024      7   30    15      10\n"
          ]
        }
      ]
    },
    {
      "cell_type": "markdown",
      "source": [
        "#65)df['date_col'].dt.weekday =>\n",
        " Extracts the weekday from a datetime column."
      ],
      "metadata": {
        "id": "iIBsPXz63FLt"
      }
    },
    {
      "cell_type": "code",
      "source": [
        "def extract_weekday(df):\n",
        "    df['weekday'] = df['date_col'].dt.weekday\n",
        "    return df\n",
        "\n",
        "\n",
        "df = extract_weekday(df)\n",
        "print(df)"
      ],
      "metadata": {
        "colab": {
          "base_uri": "https://localhost:8080/"
        },
        "id": "S-R5hv-D4ZBu",
        "outputId": "5b50f627-0460-4a25-b039-80560ffeb6a2"
      },
      "execution_count": null,
      "outputs": [
        {
          "output_type": "stream",
          "name": "stdout",
          "text": [
            "             date_col  year  month  day  hour  second  weekday\n",
            "0 2024-07-29 12:34:56  2024      7   29    12      56        0\n",
            "1 2024-07-30 15:20:10  2024      7   30    15      10        1\n"
          ]
        }
      ]
    },
    {
      "cell_type": "markdown",
      "source": [
        "#66)df['date_col'].dt.day_name() =>\n",
        "Returns the name of the day from a datetime column."
      ],
      "metadata": {
        "id": "2FZcQnfI3Kgw"
      }
    },
    {
      "cell_type": "code",
      "source": [
        "def extract_day_name(df):\n",
        "    df['day_name'] = df['date_col'].dt.day_name()\n",
        "    return df\n",
        "\n",
        "df = extract_day_name(df)\n",
        "print(df)\n"
      ],
      "metadata": {
        "colab": {
          "base_uri": "https://localhost:8080/"
        },
        "id": "jDdLOe7S4ddJ",
        "outputId": "9cf912a5-8491-411a-b533-a8777aab7661"
      },
      "execution_count": null,
      "outputs": [
        {
          "output_type": "stream",
          "name": "stdout",
          "text": [
            "             date_col  year  month  day  hour  second  weekday day_name\n",
            "0 2024-07-29 12:34:56  2024      7   29    12      56        0   Monday\n",
            "1 2024-07-30 15:20:10  2024      7   30    15      10        1  Tuesday\n"
          ]
        }
      ]
    },
    {
      "cell_type": "markdown",
      "source": [
        "#67)df['date_col'].dt.is_month_end =>\n",
        "Checks if dates are at the end of the month"
      ],
      "metadata": {
        "id": "oq04s0bV3QAX"
      }
    },
    {
      "cell_type": "code",
      "source": [
        "def check_month_end(df):\n",
        "    df['is_month_end'] = df['date_col'].dt.is_month_end\n",
        "    return df\n",
        "\n",
        "\n",
        "df = check_month_end(df)\n",
        "print(df)\n"
      ],
      "metadata": {
        "colab": {
          "base_uri": "https://localhost:8080/"
        },
        "id": "M6_06Klx4i-F",
        "outputId": "2cca0bda-f2fa-476d-c456-aca2b1b8968b"
      },
      "execution_count": null,
      "outputs": [
        {
          "output_type": "stream",
          "name": "stdout",
          "text": [
            "             date_col  year  month  day  hour  second  weekday day_name  \\\n",
            "0 2024-07-29 12:34:56  2024      7   29    12      56        0   Monday   \n",
            "1 2024-07-30 15:20:10  2024      7   30    15      10        1  Tuesday   \n",
            "\n",
            "   is_month_end  \n",
            "0         False  \n",
            "1         False  \n"
          ]
        }
      ]
    },
    {
      "cell_type": "markdown",
      "source": [
        "Some Additional functions"
      ],
      "metadata": {
        "id": "MYHc4J7g49JI"
      }
    },
    {
      "cell_type": "markdown",
      "source": [
        "#68)df.value_counts() =>\n",
        "Returns a Series containing counts of unique values."
      ],
      "metadata": {
        "id": "X212g_065GBP"
      }
    },
    {
      "cell_type": "code",
      "source": [
        "df = pd.DataFrame({\n",
        "    'A': [1, 2, 2, 3, 1, 1],\n",
        "    'B': ['x', 'y', 'x', 'x', 'y', 'z'],\n",
        "    'C': [4.5, 3.6, 2.4, 7.2, 8.1, 3.3]\n",
        "})\n",
        "\n",
        "# Count unique values in column 'A'\n",
        "value_counts = df['A'].value_counts()\n",
        "print(value_counts)\n"
      ],
      "metadata": {
        "colab": {
          "base_uri": "https://localhost:8080/"
        },
        "id": "JcmEBfu26uDC",
        "outputId": "f53eb4e5-d69f-40e3-fb9b-7f98b8cbf965"
      },
      "execution_count": null,
      "outputs": [
        {
          "output_type": "stream",
          "name": "stdout",
          "text": [
            "A\n",
            "1    3\n",
            "2    2\n",
            "3    1\n",
            "Name: count, dtype: int64\n"
          ]
        }
      ]
    },
    {
      "cell_type": "markdown",
      "source": [
        "#69)df.unique() =>\n",
        "Returns an array of unique values in a DataFrame column.\n",
        "\n"
      ],
      "metadata": {
        "id": "AIxcq3y650qG"
      }
    },
    {
      "cell_type": "code",
      "source": [
        "# Unique values in column 'B'\n",
        "unique_values = df['B'].unique()\n",
        "print(unique_values)"
      ],
      "metadata": {
        "colab": {
          "base_uri": "https://localhost:8080/"
        },
        "id": "CdWsnGsO662S",
        "outputId": "151c13c1-8e65-46ae-d7fe-9f41339417c5"
      },
      "execution_count": null,
      "outputs": [
        {
          "output_type": "stream",
          "name": "stdout",
          "text": [
            "['x' 'y' 'z']\n"
          ]
        }
      ]
    },
    {
      "cell_type": "markdown",
      "source": [
        "#70)df.nunique() =>\n",
        "Returns the number of unique values per column.\n",
        "\n"
      ],
      "metadata": {
        "id": "ABpxyd8h5-94"
      }
    },
    {
      "cell_type": "code",
      "source": [
        "# Number of unique values per column\n",
        "nunique_values = df.nunique()\n",
        "print(nunique_values)"
      ],
      "metadata": {
        "colab": {
          "base_uri": "https://localhost:8080/"
        },
        "id": "Bbi_XxXt6_I_",
        "outputId": "8db414b9-16e1-4fda-ad02-4cffd3a5e334"
      },
      "execution_count": null,
      "outputs": [
        {
          "output_type": "stream",
          "name": "stdout",
          "text": [
            "A    3\n",
            "B    3\n",
            "C    6\n",
            "dtype: int64\n"
          ]
        }
      ]
    },
    {
      "cell_type": "markdown",
      "source": [
        "#71)df.sample(n=5) =>\n",
        "Returns a random sample of n rows.\n"
      ],
      "metadata": {
        "id": "yIX2zPEr6Es1"
      }
    },
    {
      "cell_type": "code",
      "source": [
        "# Random sample of 5 rows\n",
        "sampled_df = df.sample(n=5)\n",
        "print(sampled_df)"
      ],
      "metadata": {
        "colab": {
          "base_uri": "https://localhost:8080/"
        },
        "id": "6a1nnEty7EWJ",
        "outputId": "6059ad63-6f57-4b30-f9bf-aaa57d92ff59"
      },
      "execution_count": null,
      "outputs": [
        {
          "output_type": "stream",
          "name": "stdout",
          "text": [
            "   A  B    C\n",
            "4  1  y  8.1\n",
            "5  1  z  3.3\n",
            "3  3  x  7.2\n",
            "0  1  x  4.5\n",
            "1  2  y  3.6\n"
          ]
        }
      ]
    },
    {
      "cell_type": "markdown",
      "source": [
        "#72)df.corr() =>\n",
        "Calculates pairwise correlation of columns.\n",
        "\n"
      ],
      "metadata": {
        "id": "C4bOmvK36Lc2"
      }
    },
    {
      "cell_type": "code",
      "source": [
        "# Check data types\n",
        "print(df.dtypes)\n",
        "print(\"\\n\")\n",
        "\n",
        "# Select only numeric columns\n",
        "numeric_df = df.select_dtypes(include=['number'])\n",
        "\n",
        "# Calculate the correlation matrix\n",
        "correlation_matrix = numeric_df.corr()\n",
        "print(correlation_matrix)"
      ],
      "metadata": {
        "colab": {
          "base_uri": "https://localhost:8080/"
        },
        "id": "RUkU-CLh7JNY",
        "outputId": "1615840b-41ad-4f75-c67c-9a7090794cda"
      },
      "execution_count": null,
      "outputs": [
        {
          "output_type": "stream",
          "name": "stdout",
          "text": [
            "A      int64\n",
            "B     object\n",
            "C    float64\n",
            "dtype: object\n",
            "\n",
            "\n",
            "          A         C\n",
            "A  1.000000  0.107058\n",
            "C  0.107058  1.000000\n"
          ]
        }
      ]
    },
    {
      "cell_type": "markdown",
      "source": [
        "#73)df.cov() =>\n",
        "Calculates pairwise covariance of columns.\n",
        "\n"
      ],
      "metadata": {
        "id": "YmYX6nMg6QRi"
      }
    },
    {
      "cell_type": "code",
      "source": [
        "print(df.dtypes)\n",
        "print(\"\\n\")\n",
        "\n",
        "numeric_df = df.select_dtypes(include=['number'])\n",
        "covariance_matrix = numeric_df.cov()\n",
        "print(covariance_matrix)"
      ],
      "metadata": {
        "colab": {
          "base_uri": "https://localhost:8080/"
        },
        "id": "o_vXxGX_8BKD",
        "outputId": "69d7c037-464a-4750-da7c-00909e13d897"
      },
      "execution_count": null,
      "outputs": [
        {
          "output_type": "stream",
          "name": "stdout",
          "text": [
            "A      int64\n",
            "B     object\n",
            "C    float64\n",
            "dtype: object\n",
            "\n",
            "\n",
            "          A      C\n",
            "A  0.666667  0.200\n",
            "C  0.200000  5.235\n"
          ]
        }
      ]
    },
    {
      "cell_type": "markdown",
      "source": [
        "#74)df.rank() =>\n",
        "Ranks the values in a DataFrame.\n",
        "\n"
      ],
      "metadata": {
        "id": "45D2qPvP6WB1"
      }
    },
    {
      "cell_type": "code",
      "source": [
        "# Rank the values in the DataFrame\n",
        "ranked_df = df.rank()\n",
        "print(ranked_df)"
      ],
      "metadata": {
        "colab": {
          "base_uri": "https://localhost:8080/"
        },
        "id": "t-HEMcm88iBD",
        "outputId": "e5f84381-6087-4227-fa33-9fa67b163409"
      },
      "execution_count": null,
      "outputs": [
        {
          "output_type": "stream",
          "name": "stdout",
          "text": [
            "     A    B    C\n",
            "0  2.0  2.0  4.0\n",
            "1  4.5  4.5  3.0\n",
            "2  4.5  2.0  1.0\n",
            "3  6.0  2.0  5.0\n",
            "4  2.0  4.5  6.0\n",
            "5  2.0  6.0  2.0\n"
          ]
        }
      ]
    },
    {
      "cell_type": "markdown",
      "source": [
        "#75)df.diff() =>\n",
        "Calculates the difference between consecutive elements.\n",
        "\n"
      ],
      "metadata": {
        "id": "RB29bFFA6a_A"
      }
    },
    {
      "cell_type": "code",
      "source": [
        "print(df.dtypes)\n",
        "print(\"\\n\")\n",
        "numeric_df = df.select_dtypes(include=['number'])\n",
        "diff_df = numeric_df.diff()\n",
        "print(diff_df)\n"
      ],
      "metadata": {
        "colab": {
          "base_uri": "https://localhost:8080/"
        },
        "id": "fNBCJMtY8lsy",
        "outputId": "d185ee2a-3831-489f-e2a4-fd99af4fe521"
      },
      "execution_count": null,
      "outputs": [
        {
          "output_type": "stream",
          "name": "stdout",
          "text": [
            "A      int64\n",
            "B     object\n",
            "C    float64\n",
            "dtype: object\n",
            "\n",
            "\n",
            "     A    C\n",
            "0  NaN  NaN\n",
            "1  1.0 -0.9\n",
            "2  0.0 -1.2\n",
            "3  1.0  4.8\n",
            "4 -2.0  0.9\n",
            "5  0.0 -4.8\n"
          ]
        }
      ]
    },
    {
      "cell_type": "markdown",
      "source": [
        "#76)df.clip(lower, upper) =>\n",
        "Clips (limits) the values in the DataFrame to a specified range.\n",
        "\n"
      ],
      "metadata": {
        "id": "gpFHfYdR6gSY"
      }
    },
    {
      "cell_type": "code",
      "source": [
        "print(df.dtypes)\n",
        "print(\"\\n\")\n",
        "numeric_df = df.select_dtypes(include=['number'])\n",
        "clipped_df = numeric_df.clip(lower=1, upper=2)\n",
        "print(clipped_df)\n"
      ],
      "metadata": {
        "colab": {
          "base_uri": "https://localhost:8080/"
        },
        "id": "pr_-GvXx852v",
        "outputId": "848dc7c7-1976-405f-a1c7-54c66506a6a8"
      },
      "execution_count": null,
      "outputs": [
        {
          "output_type": "stream",
          "name": "stdout",
          "text": [
            "A      int64\n",
            "B     object\n",
            "C    float64\n",
            "dtype: object\n",
            "\n",
            "\n",
            "   A    C\n",
            "0  1  2.0\n",
            "1  2  2.0\n",
            "2  2  2.0\n",
            "3  2  2.0\n",
            "4  1  2.0\n",
            "5  1  2.0\n"
          ]
        }
      ]
    },
    {
      "cell_type": "markdown",
      "source": [
        "#77)df.memory_usage() =>\n",
        "Returns the memory usage of each column.\n",
        "\n"
      ],
      "metadata": {
        "id": "KhUvObLc6lbs"
      }
    },
    {
      "cell_type": "code",
      "source": [
        "# Memory usage of each column\n",
        "memory_usage = df.memory_usage()\n",
        "print(memory_usage)"
      ],
      "metadata": {
        "colab": {
          "base_uri": "https://localhost:8080/"
        },
        "id": "WvJHkprr9B9X",
        "outputId": "63d0f281-0684-47ad-8fbe-f9db3ff6b6ce"
      },
      "execution_count": null,
      "outputs": [
        {
          "output_type": "stream",
          "name": "stdout",
          "text": [
            "Index    128\n",
            "A         48\n",
            "B         48\n",
            "C         48\n",
            "dtype: int64\n"
          ]
        }
      ]
    },
    {
      "cell_type": "markdown",
      "source": [
        "Some Extra mathematical Functions"
      ],
      "metadata": {
        "id": "lB0HJTNB93EN"
      }
    },
    {
      "cell_type": "markdown",
      "source": [
        "#77)df.abs() =>\n",
        "Computes the absolute value of each elemen"
      ],
      "metadata": {
        "id": "AKnaa96V9tGA"
      }
    },
    {
      "cell_type": "code",
      "source": [
        "df = pd.DataFrame({'A': [-1, -2, 3], 'B': [4, -5, 6]})\n",
        "print(df.abs())"
      ],
      "metadata": {
        "colab": {
          "base_uri": "https://localhost:8080/"
        },
        "id": "oXVCdair9zmH",
        "outputId": "779ddb9a-e667-44bc-eaa8-eda5978495a4"
      },
      "execution_count": null,
      "outputs": [
        {
          "output_type": "stream",
          "name": "stdout",
          "text": [
            "   A  B\n",
            "0  1  4\n",
            "1  2  5\n",
            "2  3  6\n"
          ]
        }
      ]
    },
    {
      "cell_type": "markdown",
      "source": [
        "#78)df.pow(exponent) =>\n",
        "Computes the power of each element"
      ],
      "metadata": {
        "id": "go4YnWyv97If"
      }
    },
    {
      "cell_type": "code",
      "source": [
        "df = pd.DataFrame({'A': [1, 2, 3]})\n",
        "print(df.pow(3))  # Raises each element to the power of 3\n"
      ],
      "metadata": {
        "colab": {
          "base_uri": "https://localhost:8080/"
        },
        "id": "KYCLYOx1-Q8Q",
        "outputId": "9bf459e1-870a-491d-861f-a2ea9fc95d60"
      },
      "execution_count": null,
      "outputs": [
        {
          "output_type": "stream",
          "name": "stdout",
          "text": [
            "    A\n",
            "0   1\n",
            "1   8\n",
            "2  27\n"
          ]
        }
      ]
    },
    {
      "cell_type": "markdown",
      "source": [
        "#79)df.notna() =>\n",
        "Purpose: Returns a DataFrame of the same shape as the original, with True for non-missing values and False otherwise"
      ],
      "metadata": {
        "id": "l-gRqRf11h-m"
      }
    },
    {
      "cell_type": "code",
      "source": [
        "import numpy as np\n",
        "df = pd.DataFrame({\n",
        "    'A': [1, 2, np.nan, 4],\n",
        "    'B': [np.nan, 'b', 'c', 'd']\n",
        "})\n",
        "\n",
        "# Fill missing values with a specified value\n",
        "df_filled = df.fillna(value={'A': 0, 'B': 'unknown'})\n",
        "print(df_filled)\n",
        "print(\"\\n\")\n",
        "non_missing_values = df.notna()\n",
        "print(non_missing_values)"
      ],
      "metadata": {
        "colab": {
          "base_uri": "https://localhost:8080/"
        },
        "id": "Crb-eHJA162N",
        "outputId": "02f00822-939e-4869-fddf-f589842c13bc"
      },
      "execution_count": null,
      "outputs": [
        {
          "output_type": "stream",
          "name": "stdout",
          "text": [
            "     A        B\n",
            "0  1.0  unknown\n",
            "1  2.0        b\n",
            "2  0.0        c\n",
            "3  4.0        d\n",
            "\n",
            "\n",
            "       A      B\n",
            "0   True  False\n",
            "1   True   True\n",
            "2  False   True\n",
            "3   True   True\n"
          ]
        }
      ]
    },
    {
      "cell_type": "markdown",
      "source": [
        "#80)df.ffill() =>\n",
        "Forward fill missing values, using the last valid observation to fill gaps"
      ],
      "metadata": {
        "id": "2YMISJST2j5d"
      }
    },
    {
      "cell_type": "code",
      "source": [
        "df_ffilled = df.ffill() # replace unknown as \"Nan\" if any value is 0 then replace it by its previous value\n",
        "print(df_ffilled)"
      ],
      "metadata": {
        "colab": {
          "base_uri": "https://localhost:8080/"
        },
        "id": "Sb5nHKAp3QZ6",
        "outputId": "eb3315a8-2a2f-4ce7-80f0-1d1a05019a14"
      },
      "execution_count": null,
      "outputs": [
        {
          "output_type": "stream",
          "name": "stdout",
          "text": [
            "     A    B\n",
            "0  1.0  NaN\n",
            "1  2.0    b\n",
            "2  2.0    c\n",
            "3  4.0    d\n"
          ]
        }
      ]
    }
  ]
}