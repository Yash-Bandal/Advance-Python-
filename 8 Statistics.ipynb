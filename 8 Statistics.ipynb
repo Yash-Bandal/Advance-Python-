{
  "cells": [
    {
      "cell_type": "markdown",
      "metadata": {
        "id": "fvS7YWA7Apm7"
      },
      "source": [
        "#importing the required packages"
      ]
    },
    {
      "cell_type": "code",
      "execution_count": null,
      "metadata": {
        "id": "ZzCtptcWA0RZ"
      },
      "outputs": [],
      "source": [
        "import numpy as np\n",
        "from numpy import mean\n",
        "from numpy import median\n",
        "from numpy import std\n",
        "from numpy  import var\n",
        "from numpy import min,max\n",
        "from numpy import cov\n",
        "import pandas as pd\n",
        "import matplotlib.pyplot as plt"
      ]
    },
    {
      "cell_type": "markdown",
      "metadata": {
        "id": "OYbUsmtYD3GK"
      },
      "source": [
        "#creating an Arrays"
      ]
    },
    {
      "cell_type": "code",
      "execution_count": null,
      "metadata": {
        "colab": {
          "base_uri": "https://localhost:8080/"
        },
        "id": "5RsXziyuDL1X",
        "outputId": "158add59-1ff5-4a88-8a9d-f1fd5a354544"
      },
      "outputs": [
        {
          "output_type": "stream",
          "name": "stdout",
          "text": [
            "[1 2 3 4 5]\n",
            "\n",
            "\n",
            "[[ 1  2  3  4  5]\n",
            " [ 6  7  8  9 10]]\n"
          ]
        }
      ],
      "source": [
        "array1 = np.array([1 , 2 , 3 , 4 , 5])\n",
        "array2 = np.array([[1 , 2 , 3 , 4 , 5] , [6 , 7 , 8 , 9 , 10]])\n",
        "print(array1)\n",
        "print(\"\\n\")\n",
        "print(array2)"
      ]
    },
    {
      "cell_type": "markdown",
      "metadata": {
        "id": "nMI2_KYEEDkR"
      },
      "source": [
        "#mean"
      ]
    },
    {
      "cell_type": "code",
      "execution_count": null,
      "metadata": {
        "colab": {
          "base_uri": "https://localhost:8080/"
        },
        "id": "pADcSQ2BEGx5",
        "outputId": "02d1e34d-4b61-4e12-f01c-f665937787d6"
      },
      "outputs": [
        {
          "name": "stdout",
          "output_type": "stream",
          "text": [
            "3.0\n",
            "\n",
            "\n",
            "5.5\n",
            "\n",
            "\n",
            "[3.5 4.5 5.5 6.5 7.5]\n"
          ]
        }
      ],
      "source": [
        "meanofarray1 = mean(array1)\n",
        "meanofarray2 = mean(array2)\n",
        "meanofarray2axis0 = mean(array2 , axis = 0)\n",
        "\n",
        "print(meanofarray1)\n",
        "print(\"\\n\")\n",
        "print(meanofarray2)\n",
        "print(\"\\n\")\n",
        "print(meanofarray2axis0)"
      ]
    },
    {
      "cell_type": "markdown",
      "metadata": {
        "id": "AL6lG4SZEehQ"
      },
      "source": [
        "#median\n"
      ]
    },
    {
      "cell_type": "code",
      "execution_count": null,
      "metadata": {
        "colab": {
          "base_uri": "https://localhost:8080/"
        },
        "id": "Qkigwh_BEgg2",
        "outputId": "2ac3e28f-2600-4bd1-94af-165782a809a3"
      },
      "outputs": [
        {
          "name": "stdout",
          "output_type": "stream",
          "text": [
            "3.0\n",
            "\n",
            "\n",
            "5.5\n",
            "\n",
            "\n",
            "[3.5 4.5 5.5 6.5 7.5]\n"
          ]
        }
      ],
      "source": [
        "medianofarray1 = median(array1)\n",
        "medianofarray2 = median(array2)\n",
        "medianofarray2axis0 = mean(array2 , axis = 0)\n",
        "print(medianofarray1)\n",
        "print(\"\\n\")\n",
        "print(medianofarray2)\n",
        "print(\"\\n\")\n",
        "print(medianofarray2axis0)"
      ]
    },
    {
      "cell_type": "markdown",
      "metadata": {
        "id": "AmL6u2yrEtaZ"
      },
      "source": [
        "#var"
      ]
    },
    {
      "cell_type": "code",
      "execution_count": null,
      "metadata": {
        "colab": {
          "base_uri": "https://localhost:8080/"
        },
        "id": "ZEd4-SoDEveR",
        "outputId": "d5456eb5-983f-4980-f932-2e7da4169a25"
      },
      "outputs": [
        {
          "name": "stdout",
          "output_type": "stream",
          "text": [
            "2.0\n",
            "\n",
            "\n",
            "8.25\n",
            "\n",
            "\n",
            "[6.25 6.25 6.25 6.25 6.25]\n"
          ]
        }
      ],
      "source": [
        "varofarray1 = var(array1)\n",
        "varofarray2 = var(array2)\n",
        "varofaxis0 = var(array2 , axis = 0)\n",
        "print(varofarray1)\n",
        "print(\"\\n\")\n",
        "print(varofarray2)\n",
        "print(\"\\n\")\n",
        "print(varofaxis0)"
      ]
    },
    {
      "cell_type": "markdown",
      "source": [
        "#cov"
      ],
      "metadata": {
        "id": "ZG-6YuUQnqk5"
      }
    },
    {
      "cell_type": "code",
      "source": [
        "y1=np.array([1,2,3])\n",
        "y2=np.array([1,2,3])\n",
        "print(cov(y1,y2,ddof=1))"
      ],
      "metadata": {
        "colab": {
          "base_uri": "https://localhost:8080/"
        },
        "id": "HbmANb_4nvoU",
        "outputId": "049b82e5-f87c-41f0-d9ba-76721acf713d"
      },
      "execution_count": null,
      "outputs": [
        {
          "output_type": "stream",
          "name": "stdout",
          "text": [
            "[[1. 1.]\n",
            " [1. 1.]]\n"
          ]
        }
      ]
    },
    {
      "cell_type": "markdown",
      "metadata": {
        "id": "rf8tu889E-tw"
      },
      "source": [
        "#Stdandard Deviation"
      ]
    },
    {
      "cell_type": "code",
      "execution_count": null,
      "metadata": {
        "colab": {
          "base_uri": "https://localhost:8080/"
        },
        "id": "0mAE3rIAE8i-",
        "outputId": "91f688e7-1a83-470e-f7af-f2b219cc0a55"
      },
      "outputs": [
        {
          "name": "stdout",
          "output_type": "stream",
          "text": [
            "1.4142135623730951\n",
            "\n",
            "\n",
            "2.8722813232690143\n",
            "\n",
            "\n",
            "[2.5 2.5 2.5 2.5 2.5]\n"
          ]
        }
      ],
      "source": [
        "stdofarray1 = std(array1)\n",
        "stdofarray2 = std(array2)\n",
        "stdofaxis0 = std(array2 , axis = 0)\n",
        "print(stdofarray1)\n",
        "print(\"\\n\")\n",
        "print(stdofarray2)\n",
        "print(\"\\n\")\n",
        "print(stdofaxis0)"
      ]
    },
    {
      "cell_type": "markdown",
      "metadata": {
        "id": "2Tw9YY8eFS1P"
      },
      "source": [
        "#min"
      ]
    },
    {
      "cell_type": "code",
      "execution_count": null,
      "metadata": {
        "colab": {
          "base_uri": "https://localhost:8080/"
        },
        "id": "uoqfjWvjFUT2",
        "outputId": "196134f8-2265-42b9-fcd1-cc708ace4b35"
      },
      "outputs": [
        {
          "name": "stdout",
          "output_type": "stream",
          "text": [
            "1\n",
            "\n",
            "\n",
            "1\n",
            "\n",
            "\n",
            "[1 2 3 4 5]\n"
          ]
        }
      ],
      "source": [
        "minofarray1 = min(array1)\n",
        "minofarray2 = min(array2)\n",
        "minofaxis0 = min(array2 , axis = 0)\n",
        "print(minofarray1)\n",
        "print(\"\\n\")\n",
        "print(minofarray2)\n",
        "print(\"\\n\")\n",
        "print(minofaxis0)"
      ]
    },
    {
      "cell_type": "markdown",
      "metadata": {
        "id": "T-vBiL-xFeyV"
      },
      "source": [
        "#max"
      ]
    },
    {
      "cell_type": "code",
      "execution_count": null,
      "metadata": {
        "colab": {
          "base_uri": "https://localhost:8080/"
        },
        "id": "yXA47AMhFgSJ",
        "outputId": "dad54a8e-2c48-455b-d85d-3fb7f56175ed"
      },
      "outputs": [
        {
          "name": "stdout",
          "output_type": "stream",
          "text": [
            "5\n",
            "\n",
            "\n",
            "10\n",
            "[1 2 3 4 5]\n"
          ]
        }
      ],
      "source": [
        "maxofarray1 = max(array1)\n",
        "maxofarray2 = max(array2)\n",
        "maxofaxis0 = min(array2 , axis = 0)\n",
        "print(maxofarray1)\n",
        "print(\"\\n\")\n",
        "print(maxofarray2)\n",
        "print(maxofaxis0)"
      ]
    },
    {
      "cell_type": "markdown",
      "metadata": {
        "id": "GLqsyHkVJxBl"
      },
      "source": [
        "#operations on dataset"
      ]
    },
    {
      "cell_type": "markdown",
      "metadata": {
        "id": "AB-TODGhK1c4"
      },
      "source": [
        "#Reading the CSV file"
      ]
    },
    {
      "cell_type": "code",
      "execution_count": null,
      "metadata": {
        "colab": {
          "base_uri": "https://localhost:8080/"
        },
        "id": "8IoLb560J1pI",
        "outputId": "bdda9aaa-a8d2-45dc-a15c-95f1fc76b9b0"
      },
      "outputs": [
        {
          "output_type": "stream",
          "name": "stdout",
          "text": [
            "   Roll no       Name  Marks\n",
            "0          1  Santosh     96\n",
            "1          2    Paras     89\n",
            "2          3   Omkar      92\n",
            "3          4    Kunal     95\n",
            "4          5   Pankaj     95\n",
            "5          6   jayesh     94\n"
          ]
        }
      ],
      "source": [
        "import pandas as pd\n",
        "CSV_file = pd.read_csv(\"/content/Kunal.csv\")\n",
        "print(CSV_file)"
      ]
    },
    {
      "cell_type": "markdown",
      "metadata": {
        "id": "TIPJ3AGZLefC"
      },
      "source": []
    },
    {
      "cell_type": "markdown",
      "metadata": {
        "id": "v6svMUjVMGri"
      },
      "source": [
        "#Finding the mean of specific feature in csv file"
      ]
    },
    {
      "cell_type": "code",
      "execution_count": null,
      "metadata": {
        "colab": {
          "base_uri": "https://localhost:8080/"
        },
        "id": "-sfLYt4NMM9R",
        "outputId": "9a81ee34-dd6b-42fc-c36a-256bf6433c5d"
      },
      "outputs": [
        {
          "output_type": "stream",
          "name": "stdout",
          "text": [
            "93.5\n"
          ]
        }
      ],
      "source": [
        "CSV_mean = np.mean(CSV_file[\"Marks\"])\n",
        "print(CSV_mean)"
      ]
    },
    {
      "cell_type": "markdown",
      "metadata": {
        "id": "p_1nZMHBM4op"
      },
      "source": [
        "#Finding the median of specific feature in csv file"
      ]
    },
    {
      "cell_type": "code",
      "execution_count": null,
      "metadata": {
        "colab": {
          "base_uri": "https://localhost:8080/"
        },
        "id": "SWSJTxY-M-bq",
        "outputId": "1554f9e3-11d7-4053-bb93-bce6eefc787f"
      },
      "outputs": [
        {
          "output_type": "stream",
          "name": "stdout",
          "text": [
            "94.5\n"
          ]
        }
      ],
      "source": [
        "CSV_median = np.median(CSV_file[\"Marks\"])\n",
        "print(CSV_median)"
      ]
    },
    {
      "cell_type": "markdown",
      "source": [
        "#Finding the variance of specific feature in csv file"
      ],
      "metadata": {
        "id": "TWYUHynvoXly"
      }
    },
    {
      "cell_type": "code",
      "source": [
        "v=np.var(CSV_file[\"Marks\"])\n",
        "print(v)"
      ],
      "metadata": {
        "colab": {
          "base_uri": "https://localhost:8080/"
        },
        "id": "CyDKtWeQoxC6",
        "outputId": "6dc44a4c-4e15-4285-b03b-36ab9e1e90b2"
      },
      "execution_count": null,
      "outputs": [
        {
          "output_type": "stream",
          "name": "stdout",
          "text": [
            "5.583333333333333\n"
          ]
        }
      ]
    },
    {
      "cell_type": "markdown",
      "source": [
        "#Finding the standard deviation of specific feature in csv file"
      ],
      "metadata": {
        "id": "WedQRhA6olQ2"
      }
    },
    {
      "cell_type": "code",
      "source": [
        "s=np.std(CSV_file[\"Marks\"])\n",
        "print(s)"
      ],
      "metadata": {
        "colab": {
          "base_uri": "https://localhost:8080/"
        },
        "id": "krsay55Zo7E0",
        "outputId": "e478a5b8-38de-4061-ceb9-977730e0ad69"
      },
      "execution_count": null,
      "outputs": [
        {
          "output_type": "stream",
          "name": "stdout",
          "text": [
            "2.362907813126304\n"
          ]
        }
      ]
    },
    {
      "cell_type": "markdown",
      "source": [
        "#Finding the co-variance of specific feature in csv file"
      ],
      "metadata": {
        "id": "7dJUVGTYopdE"
      }
    },
    {
      "cell_type": "code",
      "source": [
        "y1=CSV_file[\"Roll no\"]\n",
        "y2=CSV_file[\"Marks\"]\n",
        "print(cov(y1,y2,ddof=1))"
      ],
      "metadata": {
        "colab": {
          "base_uri": "https://localhost:8080/",
          "height": 616
        },
        "id": "D3IYzikgpFF3",
        "outputId": "3b05a6e4-4b8a-4395-91b7-afc75b0ba2df"
      },
      "execution_count": null,
      "outputs": [
        {
          "output_type": "error",
          "ename": "KeyError",
          "evalue": "'Roll no'",
          "traceback": [
            "\u001b[0;31m---------------------------------------------------------------------------\u001b[0m",
            "\u001b[0;31mKeyError\u001b[0m                                  Traceback (most recent call last)",
            "\u001b[0;32m/usr/local/lib/python3.10/dist-packages/pandas/core/indexes/base.py\u001b[0m in \u001b[0;36mget_loc\u001b[0;34m(self, key)\u001b[0m\n\u001b[1;32m   3790\u001b[0m         \u001b[0;32mtry\u001b[0m\u001b[0;34m:\u001b[0m\u001b[0;34m\u001b[0m\u001b[0;34m\u001b[0m\u001b[0m\n\u001b[0;32m-> 3791\u001b[0;31m             \u001b[0;32mreturn\u001b[0m \u001b[0mself\u001b[0m\u001b[0;34m.\u001b[0m\u001b[0m_engine\u001b[0m\u001b[0;34m.\u001b[0m\u001b[0mget_loc\u001b[0m\u001b[0;34m(\u001b[0m\u001b[0mcasted_key\u001b[0m\u001b[0;34m)\u001b[0m\u001b[0;34m\u001b[0m\u001b[0;34m\u001b[0m\u001b[0m\n\u001b[0m\u001b[1;32m   3792\u001b[0m         \u001b[0;32mexcept\u001b[0m \u001b[0mKeyError\u001b[0m \u001b[0;32mas\u001b[0m \u001b[0merr\u001b[0m\u001b[0;34m:\u001b[0m\u001b[0;34m\u001b[0m\u001b[0;34m\u001b[0m\u001b[0m\n",
            "\u001b[0;32mindex.pyx\u001b[0m in \u001b[0;36mpandas._libs.index.IndexEngine.get_loc\u001b[0;34m()\u001b[0m\n",
            "\u001b[0;32mindex.pyx\u001b[0m in \u001b[0;36mpandas._libs.index.IndexEngine.get_loc\u001b[0;34m()\u001b[0m\n",
            "\u001b[0;32mpandas/_libs/hashtable_class_helper.pxi\u001b[0m in \u001b[0;36mpandas._libs.hashtable.PyObjectHashTable.get_item\u001b[0;34m()\u001b[0m\n",
            "\u001b[0;32mpandas/_libs/hashtable_class_helper.pxi\u001b[0m in \u001b[0;36mpandas._libs.hashtable.PyObjectHashTable.get_item\u001b[0;34m()\u001b[0m\n",
            "\u001b[0;31mKeyError\u001b[0m: 'Roll no'",
            "\nThe above exception was the direct cause of the following exception:\n",
            "\u001b[0;31mKeyError\u001b[0m                                  Traceback (most recent call last)",
            "\u001b[0;32m<ipython-input-18-40036fa9091c>\u001b[0m in \u001b[0;36m<cell line: 1>\u001b[0;34m()\u001b[0m\n\u001b[0;32m----> 1\u001b[0;31m \u001b[0my1\u001b[0m\u001b[0;34m=\u001b[0m\u001b[0mCSV_file\u001b[0m\u001b[0;34m[\u001b[0m\u001b[0;34m\"Roll no\"\u001b[0m\u001b[0;34m]\u001b[0m\u001b[0;34m\u001b[0m\u001b[0;34m\u001b[0m\u001b[0m\n\u001b[0m\u001b[1;32m      2\u001b[0m \u001b[0my2\u001b[0m\u001b[0;34m=\u001b[0m\u001b[0mCSV_file\u001b[0m\u001b[0;34m[\u001b[0m\u001b[0;34m\"Marks\"\u001b[0m\u001b[0;34m]\u001b[0m\u001b[0;34m\u001b[0m\u001b[0;34m\u001b[0m\u001b[0m\n\u001b[1;32m      3\u001b[0m \u001b[0mprint\u001b[0m\u001b[0;34m(\u001b[0m\u001b[0mcov\u001b[0m\u001b[0;34m(\u001b[0m\u001b[0my1\u001b[0m\u001b[0;34m,\u001b[0m\u001b[0my2\u001b[0m\u001b[0;34m,\u001b[0m\u001b[0mddof\u001b[0m\u001b[0;34m=\u001b[0m\u001b[0;36m1\u001b[0m\u001b[0;34m)\u001b[0m\u001b[0;34m)\u001b[0m\u001b[0;34m\u001b[0m\u001b[0;34m\u001b[0m\u001b[0m\n",
            "\u001b[0;32m/usr/local/lib/python3.10/dist-packages/pandas/core/frame.py\u001b[0m in \u001b[0;36m__getitem__\u001b[0;34m(self, key)\u001b[0m\n\u001b[1;32m   3891\u001b[0m             \u001b[0;32mif\u001b[0m \u001b[0mself\u001b[0m\u001b[0;34m.\u001b[0m\u001b[0mcolumns\u001b[0m\u001b[0;34m.\u001b[0m\u001b[0mnlevels\u001b[0m \u001b[0;34m>\u001b[0m \u001b[0;36m1\u001b[0m\u001b[0;34m:\u001b[0m\u001b[0;34m\u001b[0m\u001b[0;34m\u001b[0m\u001b[0m\n\u001b[1;32m   3892\u001b[0m                 \u001b[0;32mreturn\u001b[0m \u001b[0mself\u001b[0m\u001b[0;34m.\u001b[0m\u001b[0m_getitem_multilevel\u001b[0m\u001b[0;34m(\u001b[0m\u001b[0mkey\u001b[0m\u001b[0;34m)\u001b[0m\u001b[0;34m\u001b[0m\u001b[0;34m\u001b[0m\u001b[0m\n\u001b[0;32m-> 3893\u001b[0;31m             \u001b[0mindexer\u001b[0m \u001b[0;34m=\u001b[0m \u001b[0mself\u001b[0m\u001b[0;34m.\u001b[0m\u001b[0mcolumns\u001b[0m\u001b[0;34m.\u001b[0m\u001b[0mget_loc\u001b[0m\u001b[0;34m(\u001b[0m\u001b[0mkey\u001b[0m\u001b[0;34m)\u001b[0m\u001b[0;34m\u001b[0m\u001b[0;34m\u001b[0m\u001b[0m\n\u001b[0m\u001b[1;32m   3894\u001b[0m             \u001b[0;32mif\u001b[0m \u001b[0mis_integer\u001b[0m\u001b[0;34m(\u001b[0m\u001b[0mindexer\u001b[0m\u001b[0;34m)\u001b[0m\u001b[0;34m:\u001b[0m\u001b[0;34m\u001b[0m\u001b[0;34m\u001b[0m\u001b[0m\n\u001b[1;32m   3895\u001b[0m                 \u001b[0mindexer\u001b[0m \u001b[0;34m=\u001b[0m \u001b[0;34m[\u001b[0m\u001b[0mindexer\u001b[0m\u001b[0;34m]\u001b[0m\u001b[0;34m\u001b[0m\u001b[0;34m\u001b[0m\u001b[0m\n",
            "\u001b[0;32m/usr/local/lib/python3.10/dist-packages/pandas/core/indexes/base.py\u001b[0m in \u001b[0;36mget_loc\u001b[0;34m(self, key)\u001b[0m\n\u001b[1;32m   3796\u001b[0m             ):\n\u001b[1;32m   3797\u001b[0m                 \u001b[0;32mraise\u001b[0m \u001b[0mInvalidIndexError\u001b[0m\u001b[0;34m(\u001b[0m\u001b[0mkey\u001b[0m\u001b[0;34m)\u001b[0m\u001b[0;34m\u001b[0m\u001b[0;34m\u001b[0m\u001b[0m\n\u001b[0;32m-> 3798\u001b[0;31m             \u001b[0;32mraise\u001b[0m \u001b[0mKeyError\u001b[0m\u001b[0;34m(\u001b[0m\u001b[0mkey\u001b[0m\u001b[0;34m)\u001b[0m \u001b[0;32mfrom\u001b[0m \u001b[0merr\u001b[0m\u001b[0;34m\u001b[0m\u001b[0;34m\u001b[0m\u001b[0m\n\u001b[0m\u001b[1;32m   3799\u001b[0m         \u001b[0;32mexcept\u001b[0m \u001b[0mTypeError\u001b[0m\u001b[0;34m:\u001b[0m\u001b[0;34m\u001b[0m\u001b[0;34m\u001b[0m\u001b[0m\n\u001b[1;32m   3800\u001b[0m             \u001b[0;31m# If we have a listlike key, _check_indexing_error will raise\u001b[0m\u001b[0;34m\u001b[0m\u001b[0;34m\u001b[0m\u001b[0m\n",
            "\u001b[0;31mKeyError\u001b[0m: 'Roll no'"
          ]
        }
      ]
    },
    {
      "cell_type": "markdown",
      "source": [
        "#Plotting a graph for a mean"
      ],
      "metadata": {
        "id": "Pkl8AB17px8o"
      }
    },
    {
      "cell_type": "code",
      "source": [
        "mean1=np.mean(CSV_file[\"Marks\"])\n",
        "plt.hist(CSV_file[\"Marks\"],color=\"yellow\")\n",
        "plt.axvline(mean1,color=\"red\")\n",
        "plt.show()"
      ],
      "metadata": {
        "colab": {
          "base_uri": "https://localhost:8080/",
          "height": 430
        },
        "id": "ifJ_40fCp0zC",
        "outputId": "1a2d215b-4e6c-458f-c80d-8c93fd2fca38"
      },
      "execution_count": null,
      "outputs": [
        {
          "output_type": "display_data",
          "data": {
            "text/plain": [
              "<Figure size 640x480 with 1 Axes>"
            ],
            "image/png": "[encoded data removed]"
          },
          "metadata": {}
        }
      ]
    },
    {
      "cell_type": "markdown",
      "source": [
        "#Plotting a graph for a median"
      ],
      "metadata": {
        "id": "_yOzHNOCqHsl"
      }
    },
    {
      "cell_type": "code",
      "source": [
        "median1=np.median(CSV_file[\"Marks\"])\n",
        "plt.hist(CSV_file[\"Marks\"],color=\"yellow\")\n",
        "plt.axvline(median1,color=\"red\")\n",
        "plt.show()"
      ],
      "metadata": {
        "colab": {
          "base_uri": "https://localhost:8080/",
          "height": 430
        },
        "id": "0WaBfZyrqMoy",
        "outputId": "9c84e196-2ab1-473b-bd57-3eef39949514"
      },
      "execution_count": null,
      "outputs": [
        {
          "output_type": "display_data",
          "data": {
            "text/plain": [
              "<Figure size 640x480 with 1 Axes>"
            ],
            "image/png": "[encoded data removed]"
          },
          "metadata": {}
        }
      ]
    },
    {
      "cell_type": "markdown",
      "source": [
        "#Plotting a graph for standard deviation"
      ],
      "metadata": {
        "id": "CanXReV5qZBj"
      }
    },
    {
      "cell_type": "code",
      "source": [
        "mean1=np.mean(CSV_file[\"Marks\"])\n",
        "std_dev=np.std(CSV_file[\"Marks\"])\n",
        "data = CSV_file[\"Marks\"]\n",
        "plt.plot(data,label=\"Data\")\n",
        "plt.fill_between(range(len(data)),mean1-std_dev,mean1+std_dev,color=\"red\")\n",
        "plt.xlabel(\"index\")\n",
        "plt.ylabel(\"value\")\n",
        "plt.title(\"Standard Deviation\")\n",
        "plt.legend()\n",
        "plt.show()"
      ],
      "metadata": {
        "colab": {
          "base_uri": "https://localhost:8080/",
          "height": 472
        },
        "id": "IIXbuX8-qeQC",
        "outputId": "d44e4a03-b681-4c0e-c4aa-abc5c56c870e"
      },
      "execution_count": null,
      "outputs": [
        {
          "output_type": "display_data",
          "data": {
            "text/plain": [
              "<Figure size 640x480 with 1 Axes>"
            ],
            "image/png": "[encoded data removed]"
          },
          "metadata": {}
        }
      ]
    }
  ],
  "metadata": {
    "colab": {
      "provenance": []
    },
    "kernelspec": {
      "display_name": "Python 3",
      "name": "python3"
    },
    "language_info": {
      "name": "python"
    }
  },
  "nbformat": 4,
  "nbformat_minor": 0
}