{
  "nbformat": 4,
  "nbformat_minor": 0,
  "metadata": {
    "colab": {
      "provenance": [],
      "include_colab_link": true
    },
    "kernelspec": {
      "name": "python3",
      "display_name": "Python 3"
    },
    "language_info": {
      "name": "python"
    }
  },
  "cells": [
    {
      "cell_type": "markdown",
      "metadata": {
        "id": "view-in-github",
        "colab_type": "text"
      },
      "source": [
        "<a href=\"https://colab.research.google.com/github/Yash-Bandal/Advance-Python-/blob/main/Yash_Sci_Py.ipynb\" target=\"_parent\"><img src=\"https://colab.research.google.com/assets/colab-badge.svg\" alt=\"Open In Colab\"/></a>"
      ]
    },
    {
      "cell_type": "code",
      "source": [
        "#Libraries\n",
        "import numpy as np\n",
        "import matplotlib.pyplot as plt\n",
        "import seaborn as sns\n",
        "import pandas as pd"
      ],
      "metadata": {
        "id": "UwpHCD7GP63S"
      },
      "execution_count": 1,
      "outputs": []
    },
    {
      "cell_type": "markdown",
      "source": [
        "## (1) Constants in Sci-Py\n"
      ],
      "metadata": {
        "id": "hCjRvVMTMtJG"
      }
    },
    {
      "cell_type": "code",
      "execution_count": null,
      "metadata": {
        "colab": {
          "base_uri": "https://localhost:8080/"
        },
        "id": "ydtRxhRlMcnj",
        "outputId": "92dc66a5-2cf3-4ce3-eb39-0fea3c52a5e5"
      },
      "outputs": [
        {
          "output_type": "stream",
          "name": "stdout",
          "text": [
            "['Avogadro', 'Boltzmann', 'Btu', 'Btu_IT', 'Btu_th', 'ConstantWarning', 'G', 'Julian_year', 'N_A', 'Planck', 'R', 'Rydberg', 'Stefan_Boltzmann', 'Wien', '__all__', '__builtins__', '__cached__', '__doc__', '__file__', '__loader__', '__name__', '__package__', '__path__', '__spec__', '_codata', '_constants', '_obsolete_constants', 'acre', 'alpha', 'angstrom', 'arcmin', 'arcminute', 'arcsec', 'arcsecond', 'astronomical_unit', 'atm', 'atmosphere', 'atomic_mass', 'atto', 'au', 'bar', 'barrel', 'bbl', 'blob', 'c', 'calorie', 'calorie_IT', 'calorie_th', 'carat', 'centi', 'codata', 'constants', 'convert_temperature', 'day', 'deci', 'degree', 'degree_Fahrenheit', 'deka', 'dyn', 'dyne', 'e', 'eV', 'electron_mass', 'electron_volt', 'elementary_charge', 'epsilon_0', 'erg', 'exa', 'exbi', 'femto', 'fermi', 'find', 'fine_structure', 'fluid_ounce', 'fluid_ounce_US', 'fluid_ounce_imp', 'foot', 'g', 'gallon', 'gallon_US', 'gallon_imp', 'gas_constant', 'gibi', 'giga', 'golden', 'golden_ratio', 'grain', 'gram', 'gravitational_constant', 'h', 'hbar', 'hectare', 'hecto', 'horsepower', 'hour', 'hp', 'inch', 'k', 'kgf', 'kibi', 'kilo', 'kilogram_force', 'kmh', 'knot', 'lambda2nu', 'lb', 'lbf', 'light_year', 'liter', 'litre', 'long_ton', 'm_e', 'm_n', 'm_p', 'm_u', 'mach', 'mebi', 'mega', 'metric_ton', 'micro', 'micron', 'mil', 'mile', 'milli', 'minute', 'mmHg', 'mph', 'mu_0', 'nano', 'nautical_mile', 'neutron_mass', 'nu2lambda', 'ounce', 'oz', 'parsec', 'pebi', 'peta', 'physical_constants', 'pi', 'pico', 'point', 'pound', 'pound_force', 'precision', 'proton_mass', 'psi', 'pt', 'quecto', 'quetta', 'ronna', 'ronto', 'short_ton', 'sigma', 'slinch', 'slug', 'speed_of_light', 'speed_of_sound', 'stone', 'survey_foot', 'survey_mile', 'tebi', 'tera', 'test', 'ton_TNT', 'torr', 'troy_ounce', 'troy_pound', 'u', 'unit', 'value', 'week', 'yard', 'year', 'yobi', 'yocto', 'yotta', 'zebi', 'zepto', 'zero_Celsius', 'zetta']\n",
            "Value of Constants [pi] :\n"
          ]
        },
        {
          "output_type": "execute_result",
          "data": {
            "text/plain": [
              "3.141592653589793"
            ]
          },
          "metadata": {},
          "execution_count": 4
        }
      ],
      "source": [
        "from scipy import constants\n",
        "print(dir(constants))\n",
        "\n",
        "print(\"Value of Constants [pi] :\")\n",
        "constants.pi"
      ]
    },
    {
      "cell_type": "markdown",
      "source": [
        "## (2)Scipy Optimizers"
      ],
      "metadata": {
        "id": "2fSiPyASNjgZ"
      }
    },
    {
      "cell_type": "markdown",
      "source": [
        "###1.Equation and root finding\n",
        "optimize.root()\n"
      ],
      "metadata": {
        "id": "fhSodV5IXI3j"
      }
    },
    {
      "cell_type": "code",
      "source": [
        "\n",
        "from scipy.optimize import root\n",
        "from math import cos\n",
        "\n",
        "def eqn(x):\n",
        " return x+ cos(x)\n",
        "\n",
        "myroot=root(eqn,0)  # 0 is x value\n",
        "print(\"Root is :\",myroot.x)\n",
        "\n",
        "\n",
        "# from scipy import optimize\n",
        "\n",
        "# def eqn(x):\n",
        "#  return x+ cos(x)\n",
        "\n",
        "# myroot=optimize.root(eqn,0)  # 0 is x value\n",
        "# print(\"Root is :\",myroot.x)\n"
      ],
      "metadata": {
        "colab": {
          "base_uri": "https://localhost:8080/"
        },
        "id": "QRGOwhTBNn24",
        "outputId": "071eb4ac-bc79-4488-d9b7-308e7ebc0954"
      },
      "execution_count": null,
      "outputs": [
        {
          "output_type": "stream",
          "name": "stdout",
          "text": [
            "Root is : [-0.73908513]\n"
          ]
        },
        {
          "output_type": "stream",
          "name": "stderr",
          "text": [
            "<ipython-input-5-9d9bb41ec34a>:5: DeprecationWarning: Conversion of an array with ndim > 0 to a scalar is deprecated, and will error in future. Ensure you extract a single element from your array before performing this operation. (Deprecated NumPy 1.25.)\n",
            "  return x+ cos(x)\n"
          ]
        }
      ]
    },
    {
      "cell_type": "markdown",
      "source": [
        "### 2.Finding Minima -optimize.minimize(eq,x,method)"
      ],
      "metadata": {
        "id": "X3cYwWCZXNR8"
      }
    },
    {
      "cell_type": "code",
      "source": [
        "#Minimizing a function\n",
        "\n",
        "from scipy.optimize import minimize\n",
        "def eqn(x):\n",
        "  return x**2+x+2\n",
        "\n",
        "result=minimize(eqn,0,method='BFGS')\n",
        "\n",
        "print(\"Minimum value:\", result.fun)\n",
        "print(\"Location of minimum:\", result.x)\n",
        "print(\"Success:\", result.success)\n",
        "print(\"Message:\", result.message)\n"
      ],
      "metadata": {
        "colab": {
          "base_uri": "https://localhost:8080/"
        },
        "id": "rpigA-kuOS0r",
        "outputId": "496d0fbf-9463-4026-a618-3959039f6104"
      },
      "execution_count": null,
      "outputs": [
        {
          "output_type": "stream",
          "name": "stdout",
          "text": [
            "Minimum value: 1.75\n",
            "Location of minimum: [-0.50000001]\n",
            "Success: True\n",
            "Message: Optimization terminated successfully.\n"
          ]
        }
      ]
    },
    {
      "cell_type": "markdown",
      "source": [
        "## (3).Scipy sparse Data"
      ],
      "metadata": {
        "id": "uM7CjeXhSBa3"
      }
    },
    {
      "cell_type": "code",
      "source": [
        "\n",
        "from scipy.sparse import csr_matrix\n",
        "#             0 1 2 3 4 5 6 7 8\n",
        "arr=np.array([0,0,0,0,0,1,1,0,2])  #row 0\n",
        "print(csr_matrix(arr))\n"
      ],
      "metadata": {
        "colab": {
          "base_uri": "https://localhost:8080/"
        },
        "id": "yjl4LpvrPfil",
        "outputId": "f7cf0ace-e1f9-45cc-cb0a-8ebb41e833e9"
      },
      "execution_count": null,
      "outputs": [
        {
          "output_type": "stream",
          "name": "stdout",
          "text": [
            "  (0, 5)\t1\n",
            "  (0, 6)\t1\n",
            "  (0, 8)\t2\n"
          ]
        }
      ]
    },
    {
      "cell_type": "markdown",
      "source": [
        "### 1.View non zero items"
      ],
      "metadata": {
        "id": "Khp4ISxxXZPi"
      }
    },
    {
      "cell_type": "code",
      "source": [
        "#Methods\n",
        "\n",
        "arr2=np.array([[0,0,0],\n",
        "               [0,0,1],\n",
        "               [1,0,2]])\n",
        "\n",
        "print(csr_matrix(arr2))\n",
        "\n",
        "print(csr_matrix(arr2).data)"
      ],
      "metadata": {
        "colab": {
          "base_uri": "https://localhost:8080/"
        },
        "id": "6ma8Kqy6Q7ly",
        "outputId": "5f19268b-89c2-4b8f-8182-f443a154dee1"
      },
      "execution_count": null,
      "outputs": [
        {
          "output_type": "stream",
          "name": "stdout",
          "text": [
            "  (1, 2)\t1\n",
            "  (2, 0)\t1\n",
            "  (2, 2)\t2\n",
            "[1 1 2]\n"
          ]
        }
      ]
    },
    {
      "cell_type": "markdown",
      "source": [
        "### 2.counting nonzero"
      ],
      "metadata": {
        "id": "Ot2pFdonXctd"
      }
    },
    {
      "cell_type": "code",
      "source": [
        "\n",
        "print(csr_matrix(arr2).count_nonzero())"
      ],
      "metadata": {
        "colab": {
          "base_uri": "https://localhost:8080/"
        },
        "id": "JwwMl12DR6Ia",
        "outputId": "a74c784d-dbbc-4419-d365-8e9556d1dff3"
      },
      "execution_count": null,
      "outputs": [
        {
          "output_type": "stream",
          "name": "stdout",
          "text": [
            "3\n"
          ]
        }
      ]
    },
    {
      "cell_type": "markdown",
      "source": [
        "### 3.Eliminate Zeroes"
      ],
      "metadata": {
        "id": "5pwJqG-oXgqN"
      }
    },
    {
      "cell_type": "code",
      "source": [
        "\n",
        "mat=csr_matrix(arr2)\n",
        "print(\"CSR Matrix :\\n\",mat)\n",
        "\n",
        "mat.eliminate_zeros()\n",
        "print(\"Non-zero Matrix :\\n\",mat)\n",
        "\n",
        "# row pos val\n",
        "#  (1, 2)\t 1\n",
        "#  (2, 0)\t 1\n",
        "#  (2, 2)\t 2"
      ],
      "metadata": {
        "colab": {
          "base_uri": "https://localhost:8080/"
        },
        "id": "-iQ5ZvnFTxSB",
        "outputId": "38591523-4188-4002-e72d-079cf0a7e67b"
      },
      "execution_count": null,
      "outputs": [
        {
          "output_type": "stream",
          "name": "stdout",
          "text": [
            "CSR Matrix :\n",
            "   (1, 2)\t1\n",
            "  (2, 0)\t1\n",
            "  (2, 2)\t2\n",
            "Non-zero Matrix :\n",
            "   (1, 2)\t1\n",
            "  (2, 0)\t1\n",
            "  (2, 2)\t2\n"
          ]
        }
      ]
    },
    {
      "cell_type": "markdown",
      "source": [
        "### 4.Eliminate Dplicate entries"
      ],
      "metadata": {
        "id": "aKhOLFIXXl0a"
      }
    },
    {
      "cell_type": "code",
      "source": [
        "\n",
        "mat.sum_duplicates()\n",
        "print(mat)"
      ],
      "metadata": {
        "colab": {
          "base_uri": "https://localhost:8080/"
        },
        "id": "5_OwvQYOWHsj",
        "outputId": "863a028d-e1de-4e94-991d-45231a1d4d03"
      },
      "execution_count": null,
      "outputs": [
        {
          "output_type": "stream",
          "name": "stdout",
          "text": [
            "  (1, 2)\t1\n",
            "  (2, 0)\t1\n",
            "  (2, 2)\t2\n"
          ]
        }
      ]
    },
    {
      "cell_type": "markdown",
      "source": [
        "### 5.Convert CSR to CSC"
      ],
      "metadata": {
        "id": "MCE8zH7rXpnN"
      }
    },
    {
      "cell_type": "code",
      "source": [
        "new_arr=csr_matrix(arr2).tocsc()\n",
        "print(new_arr)\n",
        "#pos col val\n",
        "#  (2, 0)\t1\n",
        "#  (1, 2)\t1\n",
        "#  (2, 2)\t2"
      ],
      "metadata": {
        "colab": {
          "base_uri": "https://localhost:8080/"
        },
        "id": "6VGBGfUsWjan",
        "outputId": "c84882e3-64dd-4751-c51f-d853c3e5ae50"
      },
      "execution_count": null,
      "outputs": [
        {
          "output_type": "stream",
          "name": "stdout",
          "text": [
            "  (2, 0)\t1\n",
            "  (1, 2)\t1\n",
            "  (2, 2)\t2\n"
          ]
        }
      ]
    },
    {
      "cell_type": "code",
      "source": [
        "import numpy as np\n",
        "from scipy.sparse import csr_matrix, csc_matrix, lil_matrix, save_npz, load_npz\n",
        "\n",
        "# Create a dense matrix\n",
        "dense_matrix = np.array([\n",
        "    [0, 0, 1, 0],\n",
        "    [2, 0, 0, 3],\n",
        "    [0, 4, 0, 5]\n",
        "])\n",
        "\n",
        "# Convert dense matrix to CSR format (Compressed Sparse Row)\n",
        "csr = csr_matrix(dense_matrix)\n",
        "print(\"CSR Matrix:\\n\", csr)\n",
        "\n",
        "# Convert dense matrix to CSC format (Compressed Sparse Column)\n",
        "csc = csc_matrix(dense_matrix)\n",
        "print(\"CSC Matrix:\\n\", csc)\n",
        "\n",
        "# Convert dense matrix to LIL format (List of Lists)\n",
        "lil = lil_matrix(dense_matrix)\n",
        "print(\"LIL Matrix:\\n\", lil)\n",
        "\n",
        "# Save the CSR matrix to a .npz file\n",
        "save_npz('csr_matrix.npz', csr)\n",
        "\n",
        "# Load the sparse matrix from the .npz file\n",
        "loaded_matrix = load_npz('csr_matrix.npz')\n",
        "print(\"Loaded CSR Matrix:\\n\", loaded_matrix)\n"
      ],
      "metadata": {
        "colab": {
          "base_uri": "https://localhost:8080/"
        },
        "id": "og0pm5fUkHwH",
        "outputId": "b554b27c-1a72-47c8-f6a5-fc8a11e5c981"
      },
      "execution_count": null,
      "outputs": [
        {
          "output_type": "stream",
          "name": "stdout",
          "text": [
            "CSR Matrix:\n",
            "   (0, 2)\t1\n",
            "  (1, 0)\t2\n",
            "  (1, 3)\t3\n",
            "  (2, 1)\t4\n",
            "  (2, 3)\t5\n",
            "CSC Matrix:\n",
            "   (1, 0)\t2\n",
            "  (2, 1)\t4\n",
            "  (0, 2)\t1\n",
            "  (1, 3)\t3\n",
            "  (2, 3)\t5\n",
            "LIL Matrix:\n",
            "   (0, 2)\t1\n",
            "  (1, 0)\t2\n",
            "  (1, 3)\t3\n",
            "  (2, 1)\t4\n",
            "  (2, 3)\t5\n",
            "Loaded CSR Matrix:\n",
            "   (0, 2)\t1\n",
            "  (1, 0)\t2\n",
            "  (1, 3)\t3\n",
            "  (2, 1)\t4\n",
            "  (2, 3)\t5\n"
          ]
        }
      ]
    },
    {
      "cell_type": "markdown",
      "source": [
        "##(4).Scipy Graphs"
      ],
      "metadata": {
        "id": "5TcJxOWWYby4"
      }
    },
    {
      "cell_type": "code",
      "source": [
        "arr3=np.array([\n",
        "    [0,1,2],\n",
        "    [1,0,0],\n",
        "    [2,0,0]\n",
        "])\n",
        "new_arr2=csr_matrix(arr3)\n",
        "print(\"Connected Componants :\\n\",new_arr2)"
      ],
      "metadata": {
        "colab": {
          "base_uri": "https://localhost:8080/"
        },
        "id": "w79s96utYmcq",
        "outputId": "a55f35a8-0962-40ce-c1ce-50ca870dd0b0"
      },
      "execution_count": null,
      "outputs": [
        {
          "output_type": "stream",
          "name": "stdout",
          "text": [
            "Connected Componants :\n",
            "   (0, 1)\t1\n",
            "  (0, 2)\t2\n",
            "  (1, 0)\t1\n",
            "  (2, 0)\t2\n"
          ]
        }
      ]
    },
    {
      "cell_type": "markdown",
      "source": [
        "### 1.Dijikstra"
      ],
      "metadata": {
        "id": "CsoQU28rZKdj"
      }
    },
    {
      "cell_type": "code",
      "source": [
        "#shortest path from 1 to 0\n",
        "from scipy.sparse.csgraph import dijkstra\n",
        "print(dijkstra(new_arr2,return_predecessors=True,indices=0))\n"
      ],
      "metadata": {
        "colab": {
          "base_uri": "https://localhost:8080/"
        },
        "id": "jq8vl0gLZJrv",
        "outputId": "b21d8298-c379-43a3-cf3b-e9477170a75b"
      },
      "execution_count": null,
      "outputs": [
        {
          "output_type": "stream",
          "name": "stdout",
          "text": [
            "(array([0., 1., 2.]), array([-9999,     0,     0], dtype=int32))\n"
          ]
        }
      ]
    },
    {
      "cell_type": "markdown",
      "source": [
        "### 2.Floyed Warshall"
      ],
      "metadata": {
        "id": "Z_lE5dU9bD-k"
      }
    },
    {
      "cell_type": "code",
      "source": [
        "from scipy.sparse.csgraph import floyd_warshall\n",
        "print(floyd_warshall(new_arr2,return_predecessors=True))"
      ],
      "metadata": {
        "colab": {
          "base_uri": "https://localhost:8080/"
        },
        "id": "fxCxtUolbIS-",
        "outputId": "ebe66d95-ab0a-4be5-8537-64b686d69600"
      },
      "execution_count": null,
      "outputs": [
        {
          "output_type": "stream",
          "name": "stdout",
          "text": [
            "(array([[0., 1., 2.],\n",
            "       [1., 0., 3.],\n",
            "       [2., 3., 0.]]), array([[-9999,     0,     0],\n",
            "       [    1, -9999,     0],\n",
            "       [    2,     0, -9999]], dtype=int32))\n"
          ]
        }
      ]
    },
    {
      "cell_type": "markdown",
      "source": [
        "### 3.Bellman Ford"
      ],
      "metadata": {
        "id": "gcVeJYP6bhZj"
      }
    },
    {
      "cell_type": "code",
      "source": [
        "from scipy.sparse.csgraph import bellman_ford\n",
        "print(bellman_ford(new_arr2,return_predecessors=True))"
      ],
      "metadata": {
        "colab": {
          "base_uri": "https://localhost:8080/"
        },
        "id": "MqW1aLGzbqk7",
        "outputId": "3a11adb6-658b-47ee-e630-a89b88884aae"
      },
      "execution_count": null,
      "outputs": [
        {
          "output_type": "stream",
          "name": "stdout",
          "text": [
            "(array([[0., 1., 2.],\n",
            "       [1., 0., 3.],\n",
            "       [2., 3., 0.]]), array([[-9999,     0,     0],\n",
            "       [    1, -9999,     0],\n",
            "       [    2,     0, -9999]], dtype=int32))\n"
          ]
        }
      ]
    },
    {
      "cell_type": "markdown",
      "source": [
        "### 4.Depth First Traversal(DFS)"
      ],
      "metadata": {
        "id": "xbe2e4VucQvF"
      }
    },
    {
      "cell_type": "code",
      "source": [
        "from scipy.sparse.csgraph import depth_first_order\n",
        "#Adjacency matrix\n",
        "arr4 = np.array([\n",
        "    # 0  1  2  3\n",
        "    [0, 1, 0, 1],  # Node 0 connects to Node 1 and Node 3\n",
        "    [1, 1, 1, 1],  # Node 1 connects to all nodes\n",
        "    [2, 1, 1, 0],  # Node 2 connects to Node 1 and Node 2\n",
        "    [0, 1, 0, 1]   # Node 3 connects to Node 1 and Node 3\n",
        "])\n",
        "new_arr3=csr_matrix(arr4)\n",
        "print(depth_first_order(new_arr3,1))\n",
        "#The 1 in depth_first_order(new_arr3, 1) indicates that the DFS traversal will start from node 1."
      ],
      "metadata": {
        "colab": {
          "base_uri": "https://localhost:8080/"
        },
        "id": "A6tmCnS6cm83",
        "outputId": "edf9e1ca-15ac-488a-90f2-040c2135b6f3"
      },
      "execution_count": null,
      "outputs": [
        {
          "output_type": "stream",
          "name": "stdout",
          "text": [
            "(array([1, 0, 3, 2], dtype=int32), array([    1, -9999,     1,     0], dtype=int32))\n"
          ]
        }
      ]
    },
    {
      "cell_type": "markdown",
      "source": [
        "### 5.Breadth First Traversal(BFS)"
      ],
      "metadata": {
        "id": "9bia2r2AeoH3"
      }
    },
    {
      "cell_type": "code",
      "source": [
        "from scipy.sparse.csgraph import breadth_first_order\n",
        "print(breadth_first_order(new_arr3,1))"
      ],
      "metadata": {
        "colab": {
          "base_uri": "https://localhost:8080/"
        },
        "id": "jkxDhoA_e2rW",
        "outputId": "44ab3e89-845d-4f68-c0a9-caae03cdc988"
      },
      "execution_count": null,
      "outputs": [
        {
          "output_type": "stream",
          "name": "stdout",
          "text": [
            "(array([1, 0, 2, 3], dtype=int32), array([    1, -9999,     1,     1], dtype=int32))\n"
          ]
        }
      ]
    },
    {
      "cell_type": "markdown",
      "source": [
        "## (5).Scipy Spatial Data"
      ],
      "metadata": {
        "id": "zi1fL8RNMq4I"
      }
    },
    {
      "cell_type": "markdown",
      "source": [
        "### 1.Trianguation"
      ],
      "metadata": {
        "id": "83ujLUx6MrnQ"
      }
    },
    {
      "cell_type": "code",
      "source": [
        "from scipy.spatial import Delaunay\n",
        "\n",
        "points=np.array([[2,4],[3,4],[3,0],[2,2],[4,1]])\n",
        "simplices=Delaunay(points).simplices\n",
        "plt.triplot(points[:,0],points[:,1],simplices)\n",
        "\n",
        "plt.scatter(points[:,0],points[:,1],color='r')"
      ],
      "metadata": {
        "id": "Rmi8NiL-WHGE",
        "colab": {
          "base_uri": "https://localhost:8080/",
          "height": 448
        },
        "outputId": "29c18683-7ca7-49d6-b24a-b0351a4559c2"
      },
      "execution_count": 2,
      "outputs": [
        {
          "output_type": "execute_result",
          "data": {
            "text/plain": [
              "<matplotlib.collections.PathCollection at 0x7e31fdba42e0>"
            ]
          },
          "metadata": {},
          "execution_count": 2
        },
        {
          "output_type": "display_data",
          "data": {
            "text/plain": [
              "<Figure size 640x480 with 1 Axes>"
            ],
            "image/png": "[encoded data removed]"
          },
          "metadata": {}
        }
      ]
    },
    {
      "cell_type": "markdown",
      "source": [
        "### 2.Convex hull\n",
        "ConvexHull.(2darr).simplices"
      ],
      "metadata": {
        "id": "6ZkgMrCCvdE8"
      }
    },
    {
      "cell_type": "code",
      "source": [
        "from scipy.spatial import ConvexHull\n",
        "points=np.array([[2,4],[3,4],[3,0],[2,2],[4,1]])\n",
        "hull=ConvexHull(points)\n",
        "hullpoints=hull.simplices\n",
        "print(\"Hullpoints :\")\n",
        "hullpoints\n"
      ],
      "metadata": {
        "colab": {
          "base_uri": "https://localhost:8080/"
        },
        "id": "juwOGw7sujzs",
        "outputId": "6b802054-d60a-4263-c48d-663c471cc860"
      },
      "execution_count": null,
      "outputs": [
        {
          "output_type": "stream",
          "name": "stdout",
          "text": [
            "Hullpoints :\n"
          ]
        },
        {
          "output_type": "execute_result",
          "data": {
            "text/plain": [
              "array([[2, 4],\n",
              "       [1, 0],\n",
              "       [1, 4],\n",
              "       [3, 0],\n",
              "       [3, 2]], dtype=int32)"
            ]
          },
          "metadata": {},
          "execution_count": 22
        }
      ]
    },
    {
      "cell_type": "code",
      "source": [
        "plt.triplot(hullpoints[:,0],hullpoints[:,1],simplices)\n",
        "plt.scatter(hullpoints[:,0],hullpoints[:,1],color='r')"
      ],
      "metadata": {
        "id": "GiSEX0LXv2DN",
        "colab": {
          "base_uri": "https://localhost:8080/",
          "height": 448
        },
        "outputId": "b9d05826-2f1f-45c1-99f5-150328014e3c"
      },
      "execution_count": null,
      "outputs": [
        {
          "output_type": "execute_result",
          "data": {
            "text/plain": [
              "<matplotlib.collections.PathCollection at 0x7db25a7d9330>"
            ]
          },
          "metadata": {},
          "execution_count": 19
        },
        {
          "output_type": "display_data",
          "data": {
            "text/plain": [
              "<Figure size 640x480 with 1 Axes>"
            ],
            "image/png": "[encoded data removed]"
          },
          "metadata": {}
        }
      ]
    },
    {
      "cell_type": "markdown",
      "source": [
        "###  KDTREE"
      ],
      "metadata": {
        "id": "CPMpoZS-dqov"
      }
    },
    {
      "cell_type": "code",
      "source": [
        "from scipy.spatial import KDTree\n",
        "points=np.array([[2,3],[5,4],[9,6],[4,7],[8,1],[7,2]])\n",
        "tree=KDTree(points)\n",
        "print(tree.query((3,3)))\n",
        "print(tree)\n",
        "\n",
        "# Generate some random points\n",
        "points = np.random.rand(10, 2)  # 10 points in 2D space\n",
        "\n",
        "# Construct a KDTree for nearest neighbor search\n",
        "kdtree = KDTree(points)\n",
        "print(\"KDTree:\", kdtree)\n"
      ],
      "metadata": {
        "colab": {
          "base_uri": "https://localhost:8080/"
        },
        "id": "uCpJBirBUDEZ",
        "outputId": "62f6a140-9983-40c9-a880-e8b8078373dd"
      },
      "execution_count": 8,
      "outputs": [
        {
          "output_type": "stream",
          "name": "stdout",
          "text": [
            "(1.0, 0)\n",
            "<scipy.spatial._kdtree.KDTree object at 0x7e31f9eedfc0>\n",
            "KDTree: <scipy.spatial._kdtree.KDTree object at 0x7e31f9eee7c0>\n"
          ]
        }
      ]
    },
    {
      "cell_type": "markdown",
      "source": [],
      "metadata": {
        "id": "sGossKlJk1a5"
      }
    },
    {
      "cell_type": "code",
      "source": [
        "#euclidean\n",
        "from scipy.spatial import distance\n",
        "pt1 = (1,0)\n",
        "pt2 = (10,10)\n",
        "dist = distance.euclidean(pt1, pt2)\n",
        "print(dist)"
      ],
      "metadata": {
        "colab": {
          "base_uri": "https://localhost:8080/"
        },
        "id": "CS-EqeoZdusj",
        "outputId": "fb135700-a08d-4a75-8a8e-da2bd1a2032c"
      },
      "execution_count": 6,
      "outputs": [
        {
          "output_type": "stream",
          "name": "stdout",
          "text": [
            "13.45362404707371\n"
          ]
        }
      ]
    },
    {
      "cell_type": "code",
      "source": [
        "#cityblock manhattan\n",
        "from scipy.spatial import distance\n",
        "pt1 = (1,0)\n",
        "pt2 = (10,2)\n",
        "dist = distance.cityblock(pt1, pt2)\n",
        "print(dist)"
      ],
      "metadata": {
        "colab": {
          "base_uri": "https://localhost:8080/"
        },
        "id": "hOQvvQO1e736",
        "outputId": "c9323f01-7277-48f9-a0a9-5b2e0c1ea7f2"
      },
      "execution_count": null,
      "outputs": [
        {
          "output_type": "stream",
          "name": "stdout",
          "text": [
            "11\n"
          ]
        }
      ]
    },
    {
      "cell_type": "code",
      "source": [
        "\n"
      ],
      "metadata": {
        "colab": {
          "base_uri": "https://localhost:8080/"
        },
        "id": "hm0vL_-Lk4Em",
        "outputId": "ea25511f-7771-4c97-8e61-df3ae7c5d960"
      },
      "execution_count": null,
      "outputs": [
        {
          "output_type": "stream",
          "name": "stdout",
          "text": [
            "KDTree: <scipy.spatial._kdtree.KDTree object at 0x78fb941b74c0>\n",
            "cKDTree: <scipy.spatial._ckdtree.cKDTree object at 0x78fb94172a40>\n"
          ]
        }
      ]
    },
    {
      "cell_type": "code",
      "source": [
        "from scipy.interpolate import interp1d\n",
        "import numpy as np\n",
        "\n",
        "xs = np.arange(10)\n",
        "print(\"XS\",xs)\n",
        "ys = 2*xs + 1\n",
        "print(\"YS\",ys)\n",
        "\n",
        "\n",
        "interp_func = interp1d(xs, ys)\n",
        "new = np.arange(2,3,0.1)\n",
        "newarr = interp_func(new)\n",
        "\n",
        "print(newarr)\n",
        "\n",
        "x1=[1 ,2 ,3 ,4]\n",
        "y1=[1,4,9,16]\n",
        "interpFunc=interp1d(x1,y1)\n",
        "newX=[3,4]  #cant exceed 4 no 5 no 6\n",
        "newY=interpFunc(newX)\n",
        "print(newY)"
      ],
      "metadata": {
        "colab": {
          "base_uri": "https://localhost:8080/"
        },
        "id": "ZG59dX-BgN-A",
        "outputId": "e38d80fc-4940-419f-f569-6daee20d3276"
      },
      "execution_count": 14,
      "outputs": [
        {
          "output_type": "stream",
          "name": "stdout",
          "text": [
            "XS [0 1 2 3 4 5 6 7 8 9]\n",
            "YS [ 1  3  5  7  9 11 13 15 17 19]\n",
            "[5.  5.2 5.4 5.6 5.8 6.  6.2 6.4 6.6 6.8]\n",
            "[ 9. 16.]\n"
          ]
        }
      ]
    },
    {
      "cell_type": "code",
      "source": [
        " #Linear algebra functions\n",
        " from scipy import linalg\n",
        " A = np.array([[1,2],[3,4]])\n",
        " a=linalg.det(A)\n",
        " print(A)\n",
        " print(a)\n",
        "\n",
        " B = np.array([[1,2],[3,4]])\n",
        " linalg.inv(B)\n",
        " B\n",
        " C = np.array([[1,2],[3,4]])\n",
        " linalg.eig(C)\n",
        "\n",
        " D = np.array([[1,2],[3,4]])\n",
        " linalg.norm(D)\n",
        "\n",
        " E = np.array([[1,2],[3,4]])\n",
        " linalg.qr(E)\n",
        "\n",
        " F = np.array([[1,2],[3,4]])\n",
        " linalg.svd(F)\n",
        "\n",
        " G = np.array([[1,2],[3,4]])\n",
        " linalg.solve(G, [5, 6])\n",
        "\n",
        " H = np.array([[1,2],[3,4]])\n",
        " linalg.lstsq(H, [5, 6])\n",
        "\n",
        " I = np.array([[1,2],[3,4]])\n",
        " linalg.expm(I)\n",
        "\n",
        " J = np.array([[1,2],[3,4]])\n",
        " linalg.logm(J)\n",
        "\n",
        " K = np.array([[1,2],[3,4]])\n",
        " linalg.sinm(K)\n",
        "\n",
        " L = np.array([[1,2],[3,4]])\n",
        " linalg.cosm(L)\n"
      ],
      "metadata": {
        "colab": {
          "base_uri": "https://localhost:8080/"
        },
        "id": "5itMnJejjrfE",
        "outputId": "41c91ed5-4c35-49c4-9694-e164cab70072"
      },
      "execution_count": null,
      "outputs": [
        {
          "output_type": "stream",
          "name": "stdout",
          "text": [
            "[[1 2]\n",
            " [3 4]]\n",
            "-2.0\n"
          ]
        },
        {
          "output_type": "execute_result",
          "data": {
            "text/plain": [
              "array([[ 0.85542317, -0.11087638],\n",
              "       [-0.16631457,  0.68910859]])"
            ]
          },
          "metadata": {},
          "execution_count": 42
        }
      ]
    },
    {
      "cell_type": "code",
      "source": [
        "#integrate\n",
        "from scipy import integrate\n",
        "def f(x,y):\n",
        "  return x+y\n",
        "#quad\n",
        "integrate.quad(f,0,1,args=(2,))\n",
        "\n",
        "\n",
        "integrate.dblquad(f,0,1,lambda x:0,lambda x:2)\n",
        "\n",
        "\n"
      ],
      "metadata": {
        "colab": {
          "base_uri": "https://localhost:8080/"
        },
        "id": "PxnNy9zWk5BY",
        "outputId": "39052c10-b638-4bb2-febc-91fb9a66572d"
      },
      "execution_count": null,
      "outputs": [
        {
          "output_type": "execute_result",
          "data": {
            "text/plain": [
              "(3.0, 4.436070580899685e-14)"
            ]
          },
          "metadata": {},
          "execution_count": 44
        }
      ]
    },
    {
      "cell_type": "code",
      "source": [
        "#scipy stats\n",
        "from scipy import stats\n",
        "print(dir(stats))\n",
        "\n",
        "#mode\n",
        "from scipy import stats\n",
        "speed=[99,86,87,88,111,86,103,87,94,78,77,85,86]\n",
        "x=stats.mode(speed)\n",
        "print(x)\n",
        "\n",
        "#mean\n"
      ],
      "metadata": {
        "colab": {
          "base_uri": "https://localhost:8080/"
        },
        "id": "C539d0talWAH",
        "outputId": "34a2adde-8c2a-4d1b-ae62-ebdf6af3a311"
      },
      "execution_count": 19,
      "outputs": [
        {
          "output_type": "stream",
          "name": "stdout",
          "text": [
            "['BootstrapMethod', 'CensoredData', 'ConstantInputWarning', 'Covariance', 'DegenerateDataWarning', 'FitError', 'MonteCarloMethod', 'NearConstantInputWarning', 'PermutationMethod', '__all__', '__builtins__', '__cached__', '__doc__', '__file__', '__loader__', '__name__', '__package__', '__path__', '__spec__', '_ansari_swilk_statistics', '_axis_nan_policy', '_biasedurn', '_binned_statistic', '_binomtest', '_boost', '_bws_test', '_censored_data', '_common', '_constants', '_continuous_distns', '_covariance', '_crosstab', '_discrete_distns', '_distn_infrastructure', '_distr_params', '_entropy', '_fit', '_hypotests', '_kde', '_ksstats', '_levy_stable', '_mannwhitneyu', '_morestats', '_mstats_basic', '_mstats_extras', '_multicomp', '_multivariate', '_mvn', '_odds_ratio', '_page_trend_test', '_qmc', '_qmc_cy', '_qmvnt', '_rcont', '_relative_risk', '_resampling', '_rvs_sampling', '_sampling', '_sensitivity_analysis', '_sobol', '_stats', '_stats_mstats_common', '_stats_py', '_stats_pythran', '_survival', '_tukeylambda_stats', '_unuran', '_variation', '_warnings_errors', '_wilcoxon', 'alexandergovern', 'alpha', 'anderson', 'anderson_ksamp', 'anglit', 'ansari', 'arcsine', 'argus', 'barnard_exact', 'bartlett', 'bayes_mvs', 'bernoulli', 'beta', 'betabinom', 'betanbinom', 'betaprime', 'biasedurn', 'binned_statistic', 'binned_statistic_2d', 'binned_statistic_dd', 'binom', 'binomtest', 'boltzmann', 'bootstrap', 'boschloo_exact', 'boxcox', 'boxcox_llf', 'boxcox_normmax', 'boxcox_normplot', 'bradford', 'brunnermunzel', 'burr', 'burr12', 'bws_test', 'cauchy', 'chi', 'chi2', 'chi2_contingency', 'chisquare', 'circmean', 'circstd', 'circvar', 'combine_pvalues', 'contingency', 'cosine', 'cramervonmises', 'cramervonmises_2samp', 'crystalball', 'cumfreq', 'describe', 'dgamma', 'differential_entropy', 'directional_stats', 'dirichlet', 'dirichlet_multinomial', 'distributions', 'dlaplace', 'dunnett', 'dweibull', 'ecdf', 'energy_distance', 'entropy', 'epps_singleton_2samp', 'erlang', 'expectile', 'expon', 'exponnorm', 'exponpow', 'exponweib', 'f', 'f_oneway', 'false_discovery_control', 'fatiguelife', 'find_repeats', 'fisher_exact', 'fisk', 'fit', 'fligner', 'foldcauchy', 'foldnorm', 'friedmanchisquare', 'gamma', 'gausshyper', 'gaussian_kde', 'genexpon', 'genextreme', 'gengamma', 'genhalflogistic', 'genhyperbolic', 'geninvgauss', 'genlogistic', 'gennorm', 'genpareto', 'geom', 'gibrat', 'gmean', 'gompertz', 'goodness_of_fit', 'gstd', 'gumbel_l', 'gumbel_r', 'gzscore', 'halfcauchy', 'halfgennorm', 'halflogistic', 'halfnorm', 'hmean', 'hypergeom', 'hypsecant', 'invgamma', 'invgauss', 'invweibull', 'invwishart', 'iqr', 'jarque_bera', 'jf_skew_t', 'johnsonsb', 'johnsonsu', 'kappa3', 'kappa4', 'kde', 'kendalltau', 'kruskal', 'ks_1samp', 'ks_2samp', 'ksone', 'kstat', 'kstatvar', 'kstest', 'kstwo', 'kstwobign', 'kurtosis', 'kurtosistest', 'laplace', 'laplace_asymmetric', 'levene', 'levy', 'levy_l', 'levy_stable', 'linregress', 'loggamma', 'logistic', 'loglaplace', 'lognorm', 'logrank', 'logser', 'loguniform', 'lomax', 'mannwhitneyu', 'matrix_normal', 'maxwell', 'median_abs_deviation', 'median_test', 'mielke', 'mode', 'moment', 'monte_carlo_test', 'mood', 'morestats', 'moyal', 'mstats', 'mstats_basic', 'mstats_extras', 'multinomial', 'multiscale_graphcorr', 'multivariate_hypergeom', 'multivariate_normal', 'multivariate_t', 'mvn', 'mvsdist', 'nakagami', 'nbinom', 'ncf', 'nchypergeom_fisher', 'nchypergeom_wallenius', 'nct', 'ncx2', 'nhypergeom', 'norm', 'normaltest', 'norminvgauss', 'obrientransform', 'ortho_group', 'page_trend_test', 'pareto', 'pearson3', 'pearsonr', 'percentileofscore', 'permutation_test', 'planck', 'pmean', 'pointbiserialr', 'poisson', 'poisson_means_test', 'power_divergence', 'powerlaw', 'powerlognorm', 'powernorm', 'ppcc_max', 'ppcc_plot', 'probplot', 'qmc', 'quantile_test', 'randint', 'random_correlation', 'random_table', 'rankdata', 'ranksums', 'rayleigh', 'rdist', 'recipinvgauss', 'reciprocal', 'rel_breitwigner', 'relfreq', 'rice', 'rv_continuous', 'rv_discrete', 'rv_histogram', 'rvs_ratio_uniforms', 'sampling', 'scoreatpercentile', 'sem', 'semicircular', 'shapiro', 'siegelslopes', 'sigmaclip', 'skellam', 'skew', 'skewcauchy', 'skewnorm', 'skewtest', 'sobol_indices', 'somersd', 'spearmanr', 'special_ortho_group', 'stats', 'studentized_range', 't', 'test', 'theilslopes', 'tiecorrect', 'tmax', 'tmean', 'tmin', 'trapezoid', 'trapz', 'triang', 'trim1', 'trim_mean', 'trimboth', 'truncexpon', 'truncnorm', 'truncpareto', 'truncweibull_min', 'tsem', 'tstd', 'ttest_1samp', 'ttest_ind', 'ttest_ind_from_stats', 'ttest_rel', 'tukey_hsd', 'tukeylambda', 'tvar', 'uniform', 'uniform_direction', 'unitary_group', 'variation', 'vonmises', 'vonmises_fisher', 'vonmises_line', 'wald', 'wasserstein_distance', 'wasserstein_distance_nd', 'weibull_max', 'weibull_min', 'weightedtau', 'wilcoxon', 'wishart', 'wrapcauchy', 'yeojohnson', 'yeojohnson_llf', 'yeojohnson_normmax', 'yeojohnson_normplot', 'yulesimon', 'zipf', 'zipfian', 'zmap', 'zscore']\n",
            "ModeResult(mode=86, count=3)\n"
          ]
        }
      ]
    },
    {
      "cell_type": "markdown",
      "source": [
        "### 0 Constants\n"
      ],
      "metadata": {
        "id": "VddY7QCGnWh2"
      }
    },
    {
      "cell_type": "code",
      "source": [
        "# Import necessary libraries\n",
        "from scipy import constants\n",
        "\n",
        "# 1. Value of π (pi)\n",
        "pi_value = constants.pi\n",
        "print(\"Value of π (pi):\", pi_value)\n",
        "\n",
        "# 2. Gravitational constant (m^3 kg^-1 s^-2)\n",
        "gravitational_constant = constants.g\n",
        "print(\"Gravitational constant (g):\", gravitational_constant)\n",
        "\n",
        "# 3. Speed of light in vacuum (m/s)\n",
        "speed_of_light = constants.c\n",
        "print(\"Speed of light (c):\", speed_of_light)\n",
        "\n",
        "# 4. Euler's number (base of natural logarithm)\n",
        "euler_number = constants.e\n",
        "print(\"Euler's number (e):\", euler_number)\n",
        "\n"
      ],
      "metadata": {
        "colab": {
          "base_uri": "https://localhost:8080/"
        },
        "collapsed": true,
        "id": "c3Qg08WQnYV2",
        "outputId": "c7754d9c-3d89-4fc2-9ce8-0d747c7383f7"
      },
      "execution_count": null,
      "outputs": [
        {
          "output_type": "stream",
          "name": "stdout",
          "text": [
            "Value of π (pi): 3.141592653589793\n",
            "Gravitational constant (g): 9.80665\n",
            "Speed of light (c): 299792458.0\n",
            "Euler's number (e): 1.602176634e-19\n"
          ]
        }
      ]
    },
    {
      "cell_type": "markdown",
      "source": [
        "### 1. Sparse"
      ],
      "metadata": {
        "id": "m5yh_caIlQHf"
      }
    },
    {
      "cell_type": "code",
      "source": [
        "import numpy as np\n",
        "from scipy.sparse import csr_matrix, csc_matrix, lil_matrix, save_npz, load_npz\n",
        "\n",
        "# Create a dense matrix\n",
        "dense_matrix = np.array([\n",
        "    [0, 0, 1, 0],\n",
        "    [2, 0, 0, 3],\n",
        "    [0, 4, 0, 5]\n",
        "])\n",
        "\n",
        "# Convert dense matrix to CSR format (Compressed Sparse Row)\n",
        "csr = csr_matrix(dense_matrix)\n",
        "print(\"CSR Matrix:\\n\", csr)\n",
        "print(\"data :\",csr.data)\n",
        "print(\"cnt 0 :\",csr.count_nonzero())\n",
        "print(\"Dup :\",csr.sum_duplicates())\n",
        "\n",
        "\n",
        "\n",
        "\n",
        "# Convert dense matrix to CSC format (Compressed Sparse Column)\n",
        "csc = csc_matrix(dense_matrix)\n",
        "print(\"CSC Matrix:\\n\", csc)\n",
        "\n",
        "# Convert dense matrix to LIL format (List of Lists)\n",
        "lil = lil_matrix(dense_matrix)\n",
        "print(\"LIL Matrix:\\n\", lil)\n",
        "\n",
        "# Save the CSR matrix to a .npz file\n",
        "save_npz('csr_matrix.npz', csr)\n",
        "\n",
        "# Load the sparse matrix from the .npz file\n",
        "loaded_matrix = load_npz('csr_matrix.npz')\n",
        "print(\"Loaded CSR Matrix:\\n\", loaded_matrix)\n"
      ],
      "metadata": {
        "id": "NIGPqiLFmR8w",
        "colab": {
          "base_uri": "https://localhost:8080/"
        },
        "outputId": "c10383a5-c20c-467e-a80b-3b273d83ea6c"
      },
      "execution_count": null,
      "outputs": [
        {
          "output_type": "stream",
          "name": "stdout",
          "text": [
            "CSR Matrix:\n",
            "   (0, 2)\t1\n",
            "  (1, 0)\t2\n",
            "  (1, 3)\t3\n",
            "  (2, 1)\t4\n",
            "  (2, 3)\t5\n",
            "data : [1 2 3 4 5]\n",
            "cnt 0 : 5\n",
            "Dup : None\n",
            "CSC Matrix:\n",
            "   (1, 0)\t2\n",
            "  (2, 1)\t4\n",
            "  (0, 2)\t1\n",
            "  (1, 3)\t3\n",
            "  (2, 3)\t5\n",
            "LIL Matrix:\n",
            "   (0, 2)\t1\n",
            "  (1, 0)\t2\n",
            "  (1, 3)\t3\n",
            "  (2, 1)\t4\n",
            "  (2, 3)\t5\n",
            "Loaded CSR Matrix:\n",
            "   (0, 2)\t1\n",
            "  (1, 0)\t2\n",
            "  (1, 3)\t3\n",
            "  (2, 1)\t4\n",
            "  (2, 3)\t5\n"
          ]
        }
      ]
    },
    {
      "cell_type": "markdown",
      "source": [
        "### 1.5 Graphs csgraphs"
      ],
      "metadata": {
        "id": "j29uzjH5riqP"
      }
    },
    {
      "cell_type": "code",
      "source": [
        "#dijkstra\n",
        "\n",
        "arr3=np.array([\n",
        "    [0,1,2],\n",
        "    [1,0,0],\n",
        "    [2,0,0]\n",
        "])\n",
        "new_arr2=csr_matrix(arr3)\n",
        "\n",
        "from scipy.sparse.csgraph import dijkstra\n",
        "print(dijkstra(new_arr2,return_predecessors=True,indices=0))\n",
        "\n",
        "#floyd\n",
        "from scipy.sparse.csgraph import floyd_warshall\n",
        "print(floyd_warshall(new_arr2,return_predecessors=True))\n",
        "\n",
        "#bellman ford\n",
        "from scipy.sparse.csgraph import bellman_ford\n",
        "print(bellman_ford(new_arr2,return_predecessors=True))\n",
        "\n",
        "#depth first order\n",
        "from scipy.sparse.csgraph import depth_first_order\n",
        "#Adjacency matrix\n",
        "\n",
        "print(depth_first_order(new_arr2,1))\n",
        "\n",
        "#bfs\n",
        "from scipy.sparse.csgraph import breadth_first_order\n",
        "print(breadth_first_order(new_arr2,1))\n",
        "\n"
      ],
      "metadata": {
        "colab": {
          "base_uri": "https://localhost:8080/"
        },
        "id": "twy6SmrarmBI",
        "outputId": "03876af4-c9f5-4654-9609-a1e4316552ca"
      },
      "execution_count": null,
      "outputs": [
        {
          "output_type": "stream",
          "name": "stdout",
          "text": [
            "(array([0., 1., 2.]), array([-9999,     0,     0], dtype=int32))\n",
            "(array([[0., 1., 2.],\n",
            "       [1., 0., 3.],\n",
            "       [2., 3., 0.]]), array([[-9999,     0,     0],\n",
            "       [    1, -9999,     0],\n",
            "       [    2,     0, -9999]], dtype=int32))\n",
            "(array([[0., 1., 2.],\n",
            "       [1., 0., 3.],\n",
            "       [2., 3., 0.]]), array([[-9999,     0,     0],\n",
            "       [    1, -9999,     0],\n",
            "       [    2,     0, -9999]], dtype=int32))\n",
            "(array([1, 0, 2], dtype=int32), array([    1, -9999,     0], dtype=int32))\n",
            "(array([1, 0, 2], dtype=int32), array([    1, -9999,     0], dtype=int32))\n"
          ]
        }
      ]
    },
    {
      "cell_type": "markdown",
      "source": [
        "### 2. Spatial"
      ],
      "metadata": {
        "id": "cZ4hdJZHlWFH"
      }
    },
    {
      "cell_type": "code",
      "source": [
        "import numpy as np\n",
        "from scipy.spatial import KDTree, cKDTree, ConvexHull\n",
        "from scipy.spatial.distance import pdist, cdist\n",
        "\n",
        "# Generate some random points\n",
        "points = np.random.rand(10, 2)  # 10 points in 2D space\n",
        "\n",
        "# Construct a KDTree for nearest neighbor search\n",
        "kdtree = KDTree(points)\n",
        "print(\"KDTree:\", kdtree)\n",
        "\n",
        "# Construct a cKDTree (optimized KDTree in C)\n",
        "ckdtree = cKDTree(points)\n",
        "print(\"cKDTree:\", ckdtree)\n",
        "\n",
        "# Compute pairwise distances within the same set of points\n",
        "pairwise_distances = pdist(points)\n",
        "print(\"Pairwise Distances:\\n\", pairwise_distances)\n",
        "\n",
        "# Compute distances between two different sets of points\n",
        "points2 = np.random.rand(5, 2)  # Another set of 5 points\n",
        "cross_distances = cdist(points, points2)\n",
        "print(\"Cross Distances (between points and points2):\\n\", cross_distances)\n",
        "\n",
        "# Calculate the Convex Hull of the points\n",
        "convex_hull = ConvexHull(points)\n",
        "print(\"Convex Hull Vertices:\\n\", convex_hull.vertices)\n",
        "\n",
        "#eulcidean\n",
        "from scipy.spatial import distance\n",
        "pt1 = (1,0)\n",
        "pt2 = (10,10)\n",
        "dist = distance.euclidean(pt1, pt2)\n",
        "print(dist)\n",
        "\n",
        "#cityblock\n",
        "from scipy.spatial import distance\n",
        "pt1 = (1,0)\n",
        "pt2 = (10,2)\n",
        "dist = distance.cityblock(pt1, pt2)\n",
        "print(dist)\n"
      ],
      "metadata": {
        "colab": {
          "base_uri": "https://localhost:8080/"
        },
        "id": "tIGNo_gilY5O",
        "outputId": "41bd3b84-5951-4fe9-a722-6a80171efc84"
      },
      "execution_count": null,
      "outputs": [
        {
          "output_type": "stream",
          "name": "stdout",
          "text": [
            "KDTree: <scipy.spatial._kdtree.KDTree object at 0x78fb5e6318c0>\n",
            "cKDTree: <scipy.spatial._ckdtree.cKDTree object at 0x78fb5e635540>\n",
            "Pairwise Distances:\n",
            " [0.07561757 0.2661891  0.61276549 0.23748298 0.96012475 0.1883821\n",
            " 0.51021153 0.63600004 0.81838176 0.21767023 0.6620415  0.31139025\n",
            " 1.00826444 0.11377811 0.58582795 0.70236376 0.84834013 0.6443502\n",
            " 0.44175044 0.97055991 0.15953296 0.72749862 0.75504891 0.75715384\n",
            " 0.44988822 0.34737108 0.72734557 0.50343354 0.23648151 0.29434768\n",
            " 0.78722403 0.41863629 0.28624743 0.41334091 0.7096039  1.06824779\n",
            " 0.76547922 0.43992332 0.29645502 0.69758451 0.79375768 0.8820472\n",
            " 0.32564889 0.79771343 0.51318221]\n",
            "Cross Distances (between points and points2):\n",
            " [[0.39222131 0.15393275 0.09410962 0.70629962 0.83249197]\n",
            " [0.46767396 0.21500304 0.05809129 0.77625921 0.89034462]\n",
            " [0.62136266 0.42012093 0.17272765 0.84669971 0.89476491]\n",
            " [0.51108589 0.64653247 0.61984347 0.33735625 0.25396645]\n",
            " [0.18222046 0.20273658 0.30447837 0.47363058 0.63201034]\n",
            " [0.81112293 0.98799455 0.96426864 0.48111416 0.20682101]\n",
            " [0.5804116  0.32529009 0.11787736 0.87356233 0.96656519]\n",
            " [0.12165293 0.41222606 0.5874439  0.31565567 0.56814019]\n",
            " [0.38278803 0.61173199 0.67641943 0.10606778 0.24467171]\n",
            " [0.79879061 0.8895005  0.79569562 0.60013877 0.39031958]]\n",
            "Convex Hull Vertices:\n",
            " [9 5 8 7 1 6 2]\n",
            "13.45362404707371\n",
            "11\n"
          ]
        }
      ]
    },
    {
      "cell_type": "markdown",
      "source": [
        "### 3.Linear Algebra"
      ],
      "metadata": {
        "id": "ncx-i3rFlouu"
      }
    },
    {
      "cell_type": "code",
      "source": [
        "# Import necessary libraries\n",
        "import numpy as np\n",
        "from scipy.linalg import inv, det, eig, solve, svd\n",
        "\n",
        "# Define a square matrix A and vector B for linear equations\n",
        "A = np.array([[4, 7], [2, 6]])\n",
        "B = np.array([1, 0])\n",
        "\n",
        "# 1. Compute the inverse of matrix A\n",
        "inverse_A = inv(A)\n",
        "print(\"Inverse of A:\\n\", inverse_A)\n",
        "\n",
        "# 2. Calculate the determinant of matrix A\n",
        "determinant_A = det(A)\n",
        "print(\"\\nDeterminant of A:\", determinant_A)\n",
        "\n",
        "# 3. Find the eigenvalues and eigenvectors of matrix A\n",
        "eigenvalues, eigenvectors = eig(A)\n",
        "print(\"\\nEigenvalues of A:\\n\", eigenvalues)\n",
        "print(\"Eigenvectors of A:\\n\", eigenvectors)\n",
        "\n",
        "# 4. Solve the linear equation Ax = B\n",
        "solution_x = solve(A, B)\n",
        "print(\"\\nSolution of Ax = B:\\n\", solution_x)\n",
        "\n",
        "# 5. Perform singular value decomposition (SVD) on matrix A\n",
        "U, s, Vh = svd(A)\n",
        "print(\"\\nSVD of A:\")\n",
        "print(\"U matrix:\\n\", U)\n",
        "print(\"Singular values:\\n\", s)\n",
        "print(\"Vh matrix:\\n\", Vh)\n"
      ],
      "metadata": {
        "colab": {
          "base_uri": "https://localhost:8080/"
        },
        "id": "9UJubpWWlbzZ",
        "outputId": "c4a428ed-07a6-4dea-95f9-7167a1c88885"
      },
      "execution_count": null,
      "outputs": [
        {
          "output_type": "stream",
          "name": "stdout",
          "text": [
            "Inverse of A:\n",
            " [[ 0.6 -0.7]\n",
            " [-0.2  0.4]]\n",
            "\n",
            "Determinant of A: 9.999999999999998\n",
            "\n",
            "Eigenvalues of A:\n",
            " [1.12701665+0.j 8.87298335+0.j]\n",
            "Eigenvectors of A:\n",
            " [[-0.92511345 -0.82071729]\n",
            " [ 0.37969079 -0.57133452]]\n",
            "\n",
            "Solution of Ax = B:\n",
            " [ 0.6 -0.2]\n",
            "\n",
            "SVD of A:\n",
            "U matrix:\n",
            " [[-0.78820544 -0.61541221]\n",
            " [-0.61541221  0.78820544]]\n",
            "Singular values:\n",
            " [10.19994217  0.98039772]\n",
            "Vh matrix:\n",
            " [[-0.42977167 -0.9029376 ]\n",
            " [-0.9029376   0.42977167]]\n"
          ]
        }
      ]
    },
    {
      "cell_type": "code",
      "source": [
        "\n",
        "normal_data = np.random.normal(loc=5, scale=2, size=100)\n",
        "sns.kdeplot(normal_data, label='Normal Distribution')\n",
        "plt.show()\n",
        "\n",
        "normal_dist = stats.norm(loc=5, scale=2)  # Normal distribution with mean=5 and std=2\n",
        "# print(\"Normal dist: \",normal_dist)\n",
        "pdf_value = normal_dist.pdf(5)  # Probability Density Function at x=5\n",
        "cdf_value = normal_dist.cdf(12)  # Cumulative Distribution Function at x=5\n",
        "print(\"PDF at x=5:\", pdf_value)\n",
        "\n",
        "\n",
        "cdf_value1 = normal_dist.cdf(-2)  # Cumulative Distribution Function at x=5\n",
        "cdf_value2 = normal_dist.cdf(5)  # Cumulative Distribution Function at x=5\n",
        "cdf_value3 = normal_dist.cdf(12)  # Cumulative Distribution Function at x=5\n",
        "print(\"Lowest CDF at x=-2:\", cdf_value1)\n",
        "print(\"CDF at x=5:\", cdf_value2)\n",
        "print(\"highest CDF at x=12:\", cdf_value3)\n"
      ],
      "metadata": {
        "id": "sQOrkWP8f05F",
        "outputId": "baeee4a7-00dc-4ca0-a77c-962f0121a413",
        "colab": {
          "base_uri": "https://localhost:8080/",
          "height": 502
        }
      },
      "execution_count": 32,
      "outputs": [
        {
          "output_type": "display_data",
          "data": {
            "text/plain": [
              "<Figure size 640x480 with 1 Axes>"
            ],
            "image/png": "[encoded data removed]"
          },
          "metadata": {}
        },
        {
          "output_type": "stream",
          "name": "stdout",
          "text": [
            "PDF at x=5: 0.19947114020071635\n",
            "Lowest CDF at x=-2: 0.00023262907903552502\n",
            "CDF at x=5: 0.5\n",
            "highest CDF at x=12: 0.9997673709209645\n"
          ]
        }
      ]
    },
    {
      "cell_type": "markdown",
      "source": [
        "### 4. Stats\n"
      ],
      "metadata": {
        "id": "FoW94BwOl9x4"
      }
    },
    {
      "cell_type": "code",
      "source": [
        "# Import necessary libraries\n",
        "import numpy as np\n",
        "import scipy.stats as stats\n",
        "\n",
        "# Generate sample data\n",
        "data1 = np.random.normal(loc=5, scale=2, size=100)  # Sample from a normal distribution\n",
        "data2 = np.random.normal(loc=6, scale=2, size=100)  # Another sample\n",
        "\n",
        "# 1. Normal distribution methods\n",
        "normal_dist = stats.norm(loc=5, scale=2)  # Normal distribution with mean=5 and std=2\n",
        "pdf_value = normal_dist.pdf(5)  # Probability Density Function at x=5\n",
        "cdf_value = normal_dist.cdf(5)  # Cumulative Distribution Function at x=5\n",
        "print(\"PDF at x=5:\", pdf_value)\n",
        "print(\"CDF at x=5:\", cdf_value)\n",
        "\n",
        "#The value of the PDF at any point represents how dense (or likely) values are around that point\n",
        "#If the CDF at x=5 is 0.7, it means there’s a 70% probability that the variable takes on a value less than or equal to 5.\n",
        "\n",
        "# 2. Independent t-test\n",
        "t_statistic, p_value = stats.ttest_ind(data1, data2)\n",
        "print(\"\\nIndependent t-test:\")\n",
        "print(\"t-statistic:\", t_statistic)\n",
        "print(\"p-value:\", p_value)\n",
        "\n",
        "# 3. Pearson correlation coefficient\n",
        "correlation_coefficient, p_value_corr = stats.pearsonr(data1, data2)\n",
        "print(\"\\nPearson Correlation Coefficient:\", correlation_coefficient)\n",
        "print(\"p-value for correlation:\", p_value_corr)\n",
        "\n",
        "# 4. Mode of the data\n",
        "mode_value = stats.mode(data1)\n",
        "print(\"\\nMode of data1:\", mode_value.mode[0])\n",
        "\n",
        "# 5. Descriptive statistics\n",
        "description = stats.describe(data1)\n",
        "print(\"\\nDescriptive Statistics for data1:\")\n",
        "print(\"Number of observations:\", description.nobs)\n",
        "print(\"Min:\", description.minmax[0])\n",
        "print(\"Max:\", description.minmax[1])\n",
        "print(\"Mean:\", description.mean)\n",
        "print(\"Variance:\", description.variance)\n"
      ],
      "metadata": {
        "colab": {
          "base_uri": "https://localhost:8080/",
          "height": 377
        },
        "id": "xeRBxF2jlr7g",
        "outputId": "54d31c8e-4c47-44d9-a22c-bd1eba6355da"
      },
      "execution_count": null,
      "outputs": [
        {
          "output_type": "stream",
          "name": "stdout",
          "text": [
            "PDF at x=5: 0.19947114020071635\n",
            "CDF at x=5: 0.5\n",
            "\n",
            "Independent t-test:\n",
            "t-statistic: -3.5807677867868564\n",
            "p-value: 0.00043102266449931336\n",
            "\n",
            "Pearson Correlation Coefficient: 0.016284136504544043\n",
            "p-value for correlation: 0.8722472298563149\n"
          ]
        },
        {
          "output_type": "error",
          "ename": "IndexError",
          "evalue": "invalid index to scalar variable.",
          "traceback": [
            "\u001b[0;31m---------------------------------------------------------------------------\u001b[0m",
            "\u001b[0;31mIndexError\u001b[0m                                Traceback (most recent call last)",
            "\u001b[0;32m<ipython-input-9-db3d028181f1>\u001b[0m in \u001b[0;36m<cell line: 29>\u001b[0;34m()\u001b[0m\n\u001b[1;32m     27\u001b[0m \u001b[0;31m# 4. Mode of the data\u001b[0m\u001b[0;34m\u001b[0m\u001b[0;34m\u001b[0m\u001b[0m\n\u001b[1;32m     28\u001b[0m \u001b[0mmode_value\u001b[0m \u001b[0;34m=\u001b[0m \u001b[0mstats\u001b[0m\u001b[0;34m.\u001b[0m\u001b[0mmode\u001b[0m\u001b[0;34m(\u001b[0m\u001b[0mdata1\u001b[0m\u001b[0;34m)\u001b[0m\u001b[0;34m\u001b[0m\u001b[0;34m\u001b[0m\u001b[0m\n\u001b[0;32m---> 29\u001b[0;31m \u001b[0mprint\u001b[0m\u001b[0;34m(\u001b[0m\u001b[0;34m\"\\nMode of data1:\"\u001b[0m\u001b[0;34m,\u001b[0m \u001b[0mmode_value\u001b[0m\u001b[0;34m.\u001b[0m\u001b[0mmode\u001b[0m\u001b[0;34m[\u001b[0m\u001b[0;36m0\u001b[0m\u001b[0;34m]\u001b[0m\u001b[0;34m)\u001b[0m\u001b[0;34m\u001b[0m\u001b[0;34m\u001b[0m\u001b[0m\n\u001b[0m\u001b[1;32m     30\u001b[0m \u001b[0;34m\u001b[0m\u001b[0m\n\u001b[1;32m     31\u001b[0m \u001b[0;31m# 5. Descriptive statistics\u001b[0m\u001b[0;34m\u001b[0m\u001b[0;34m\u001b[0m\u001b[0m\n",
            "\u001b[0;31mIndexError\u001b[0m: invalid index to scalar variable."
          ]
        }
      ]
    },
    {
      "cell_type": "markdown",
      "source": [
        "### 5. Optimize\n"
      ],
      "metadata": {
        "id": "hcICKqrRmbXG"
      }
    },
    {
      "cell_type": "code",
      "source": [
        "# Import necessary libraries\n",
        "import numpy as np\n",
        "from scipy.optimize import minimize, curve_fit, linprog, fsolve, root\n",
        "\n",
        "# 1. Minimize a simple quadratic function\n",
        "def objective_function(x):\n",
        "    return (x - 3) ** 2  # Simple function: (x - 3)^2\n",
        "\n",
        "result_minimize = minimize(objective_function, x0=0)  # Start at x=0\n",
        "print(\"Minimize Result:\")\n",
        "print(\"x at minimum:\", result_minimize.x[0])\n",
        "print(\"Minimum value:\", result_minimize.fun)\n",
        "\n",
        "# 2. Curve fitting to a simple model\n",
        "# Define a model function\n",
        "def model_function(x, a, b):\n",
        "    return a * x + b  # Linear model: y = ax + b\n",
        "\n",
        "# Sample data\n",
        "x_data = np.array([1, 2, 3])\n",
        "y_data = np.array([2, 3, 5])  # Linearly spaced data\n",
        "\n",
        "# Fit the model to the data\n",
        "params, _ = curve_fit(model_function, x_data, y_data)\n",
        "print(\"\\nCurve Fit Parameters (a, b):\", params)\n",
        "\n",
        "# 3. Solve a simple linear programming problem\n",
        "c = [-1, -2]  # Coefficients for the objective function to maximize\n",
        "A = [[1, 1], [2, 1]]  # Coefficients for the constraints\n",
        "b = [6, 8]  # Right-hand side of the constraints\n",
        "\n",
        "result_linprog = linprog(c, A_ub=A, b_ub=b)\n",
        "print(\"\\nLinear Programming Result:\")\n",
        "print(\"Optimal value:\", -result_linprog.fun)  # Negate because we minimized -c\n",
        "print(\"Optimal solution:\", result_linprog.x)\n",
        "\n",
        "# 4. Find the root of a simple equation\n",
        "def equation(x):\n",
        "    return x - 2  # Simple equation: x - 2 = 0\n",
        "\n",
        "root_result = fsolve(equation, x0=1)  # Start guess at x=1\n",
        "print(\"\\nRoot of the equation x - 2 = 0:\", root_result[0])\n",
        "\n",
        "# 5. Solve a simple system of equations\n",
        "def system_of_equations(vars):\n",
        "    x, y = vars\n",
        "    return [x + y - 1, x - y - 1]  # Simple system of equations\n",
        "\n",
        "root_system = root(system_of_equations, [0, 0])  # Initial guess\n",
        "print(\"\\nRoots of the system of equations:\", root_system.x)\n"
      ],
      "metadata": {
        "colab": {
          "base_uri": "https://localhost:8080/"
        },
        "id": "w-2hWi87l_1Q",
        "outputId": "1a021876-ddf4-497e-fd8d-bac0e2c70455"
      },
      "execution_count": null,
      "outputs": [
        {
          "output_type": "stream",
          "name": "stdout",
          "text": [
            "Minimize Result:\n",
            "x at minimum: 2.9999999840660854\n",
            "Minimum value: 2.5388963550532293e-16\n",
            "\n",
            "Curve Fit Parameters (a, b): [1.5        0.33333333]\n",
            "\n",
            "Linear Programming Result:\n",
            "Optimal value: 12.0\n",
            "Optimal solution: [0. 6.]\n",
            "\n",
            "Root of the equation x - 2 = 0: 2.0\n",
            "\n",
            "Roots of the system of equations: [1.00000000e+00 6.50353591e-17]\n"
          ]
        }
      ]
    },
    {
      "cell_type": "markdown",
      "source": [
        "### 6 .Integrate"
      ],
      "metadata": {
        "id": "v6NcAJQDmiKH"
      }
    },
    {
      "cell_type": "code",
      "source": [
        "# Import necessary libraries\n",
        "import numpy as np\n",
        "from scipy.integrate import quad, dblquad, solve_ivp, simps, trapz\n",
        "\n",
        "# 1. Single-variable integration\n",
        "def integrand(x):\n",
        "    return x ** 2  # Function to integrate: f(x) = x^2\n",
        "\n",
        "result_quad, error_quad = quad(integrand, 0, 1)  # Integrate from 0 to 1\n",
        "print(\"Single-variable integration result:\", result_quad)\n",
        "\n",
        "# 2. Double integration\n",
        "def integrand_double(x, y):\n",
        "    return x * y  # Function to integrate: f(x, y) = xy\n",
        "\n",
        "result_dblquad, error_dblquad = dblquad(integrand_double, 0, 1, lambda x: 0, lambda x: 1)  # Integrate over a square\n",
        "print(\"Double integration result:\", result_dblquad)\n",
        "\n",
        "# 3. Solve an initial value problem for a system of ODEs\n",
        "def odes(t, y):\n",
        "    dydt = -2 * y + 1  # Example: dy/dt = -2y + 1\n",
        "    return dydt\n",
        "\n",
        "solution = solve_ivp(odes, [0, 5], [0])  # Solve from t=0 to t=5 with initial value y(0) = 0\n",
        "print(\"\\nODE Solution at t=5:\", solution.y[0, -1])  # Final value of y at t=5\n",
        "\n",
        "# 4. Numerical integration using Simpson's rule\n",
        "x_simps = np.array([0, 1, 2, 3])  # x values\n",
        "y_simps = np.array([0, 1, 4, 9])  # y values (f(x) = x^2)\n",
        "result_simps = simps(y_simps, x_simps)  # Apply Simpson's rule\n",
        "print(\"Simpson's rule result:\", result_simps)\n",
        "\n",
        "# 5. Numerical integration using the trapezoidal rule\n",
        "x_trapz = np.array([0, 1, 2, 3])  # x values\n",
        "y_trapz = np.array([0, 1, 4, 9])  # y values (f(x) = x^2)\n",
        "result_trapz = trapz(y_trapz, x_trapz)  # Apply trapezoidal rule\n",
        "print(\"Trapezoidal rule result:\", result_trapz)\n"
      ],
      "metadata": {
        "colab": {
          "base_uri": "https://localhost:8080/"
        },
        "id": "CJk6s42imdyS",
        "outputId": "fe024fd9-5220-4365-bce0-f2ef52d15e9e"
      },
      "execution_count": null,
      "outputs": [
        {
          "output_type": "stream",
          "name": "stdout",
          "text": [
            "Single-variable integration result: 0.33333333333333337\n",
            "Double integration result: 0.24999999999999997\n",
            "\n",
            "ODE Solution at t=5: 0.4999314388713356\n",
            "Simpson's rule result: 9.0\n",
            "Trapezoidal rule result: 9.5\n"
          ]
        },
        {
          "output_type": "stream",
          "name": "stderr",
          "text": [
            "<ipython-input-11-fdede4bb0d91>:30: DeprecationWarning: 'scipy.integrate.simps' is deprecated in favour of 'scipy.integrate.simpson' and will be removed in SciPy 1.14.0\n",
            "  result_simps = simps(y_simps, x_simps)  # Apply Simpson's rule\n",
            "<ipython-input-11-fdede4bb0d91>:36: DeprecationWarning: 'scipy.integrate.trapz' is deprecated in favour of 'scipy.integrate.trapezoid' and will be removed in SciPy 1.14.0\n",
            "  result_trapz = trapz(y_trapz, x_trapz)  # Apply trapezoidal rule\n"
          ]
        }
      ]
    },
    {
      "cell_type": "markdown",
      "source": [
        "### 7 Interpolate"
      ],
      "metadata": {
        "id": "dody4qeMm6VH"
      }
    },
    {
      "cell_type": "code",
      "source": [
        "# Import necessary libraries\n",
        "import numpy as np\n",
        "import matplotlib.pyplot as plt\n",
        "from scipy.interpolate import interp1d, interp2d, griddata, Rbf, CubicSpline\n",
        "\n",
        "# Sample data for 1D interpolation\n",
        "x = np.array([0, 1, 2, 3, 4])\n",
        "y = np.array([0, 1, 4, 9, 16])  # y = x^2\n",
        "\n",
        "# 1. 1D interpolation\n",
        "interp_func = interp1d(x, y, kind='linear')  # Linear interpolation\n",
        "x_new = np.linspace(0, 4, 10)  # New x values for interpolation\n",
        "y_new = interp_func(x_new)\n",
        "\n",
        "# Plotting 1D interpolation\n",
        "plt.figure(figsize=(8, 4))\n",
        "plt.plot(x, y, 'o', label='Data Points')\n",
        "plt.plot(x_new, y_new, '-', label='Interpolated Line')\n",
        "plt.title('1D Interpolation using interp1d')\n",
        "plt.legend()\n",
        "plt.grid()\n",
        "plt.show()\n",
        "\n",
        "# Sample data for 2D interpolation\n",
        "x2d = np.array([0, 1, 2])\n",
        "y2d = np.array([0, 1, 2])\n",
        "z = np.array([[0, 1, 4], [1, 2, 5], [4, 5, 9]])  # z values corresponding to (x, y)\n",
        "\n",
        "# 2. 2D interpolation\n",
        "interp_func_2d = interp2d(x2d, y2d, z, kind='linear')\n",
        "x_new_2d = np.linspace(0, 2, 10)\n",
        "y_new_2d = np.linspace(0, 2, 10)\n",
        "z_new = interp_func_2d(x_new_2d, y_new_2d)\n",
        "\n",
        "# Plotting 2D interpolation\n",
        "plt.figure(figsize=(8, 6))\n",
        "plt.imshow(z_new, extent=(0, 2, 0, 2), origin='lower', cmap='viridis')\n",
        "plt.colorbar(label='Interpolated Values')\n",
        "plt.title('2D Interpolation using interp2d')\n",
        "plt.xlabel('x')\n",
        "plt.ylabel('y')\n",
        "plt.show()\n",
        "\n",
        "# 3. Grid data interpolation\n",
        "xi = np.linspace(0, 2, 10)\n",
        "yi = np.linspace(0, 2, 10)\n",
        "zi = griddata((x2d.flatten(), y2d.flatten()), z.flatten(), (xi[None, :], yi[:, None]), method='linear')\n",
        "\n",
        "# Plotting griddata interpolation\n",
        "plt.figure(figsize=(8, 6))\n",
        "plt.imshow(zi, extent=(0, 2, 0, 2), origin='lower', cmap='viridis')\n",
        "plt.colorbar(label='Grid Data Interpolated Values')\n",
        "plt.title('Grid Data Interpolation using griddata')\n",
        "plt.xlabel('x')\n",
        "plt.ylabel('y')\n",
        "plt.show()\n",
        "\n",
        "# Sample data for Radial Basis Function interpolation\n",
        "x_rbf = np.array([0, 1, 2, 3])\n",
        "y_rbf = np.array([0, 1, 4, 9])\n",
        "\n",
        "# 4. Radial Basis Function interpolation\n",
        "rbf_func = Rbf(x_rbf, y_rbf, function='linear')\n",
        "x_new_rbf = np.linspace(0, 3, 10)\n",
        "y_new_rbf = rbf_func(x_new_rbf)\n",
        "\n",
        "# Plotting RBF interpolation\n",
        "plt.figure(figsize=(8, 4))\n",
        "plt.plot(x_rbf, y_rbf, 'o', label='Data Points')\n",
        "plt.plot(x_new_rbf, y_new_rbf, '-', label='RBF Interpolated Line')\n",
        "plt.title('Radial Basis Function Interpolation')\n",
        "plt.legend()\n",
        "plt.grid()\n",
        "plt.show()\n",
        "\n",
        "# 5. Cubic spline interpolation\n",
        "cs = CubicSpline(x, y)\n",
        "y_spline = cs(x_new)\n",
        "\n",
        "# Plotting cubic spline interpolation\n",
        "plt.figure(figsize=(8, 4))\n",
        "plt.plot(x, y, 'o', label='Data Points')\n",
        "plt.plot(x_new, y_spline, '-', label='Cubic Spline Interpolated Line')\n",
        "plt.title('Cubic Spline Interpolation')\n",
        "plt.legend()\n",
        "plt.grid()\n",
        "plt.show()\n"
      ],
      "metadata": {
        "colab": {
          "base_uri": "https://localhost:8080/",
          "height": 1000
        },
        "collapsed": true,
        "id": "QVmMAn0gmsbZ",
        "outputId": "ae9335c3-ad30-4b0e-9924-04eb1eea3814"
      },
      "execution_count": null,
      "outputs": [
        {
          "output_type": "display_data",
          "data": {
            "text/plain": [
              "<Figure size 800x400 with 1 Axes>"
            ],
            "image/png": "[encoded data removed]"
          },
          "metadata": {}
        },
        {
          "output_type": "stream",
          "name": "stderr",
          "text": [
            "<ipython-input-12-5a8baef1b612>:30: DeprecationWarning: `interp2d` is deprecated in SciPy 1.10 and will be removed in SciPy 1.14.0.\n",
            "\n",
            "For legacy code, nearly bug-for-bug compatible replacements are\n",
            "`RectBivariateSpline` on regular grids, and `bisplrep`/`bisplev` for\n",
            "scattered 2D data.\n",
            "\n",
            "In new code, for regular grids use `RegularGridInterpolator` instead.\n",
            "For scattered data, prefer `LinearNDInterpolator` or\n",
            "`CloughTocher2DInterpolator`.\n",
            "\n",
            "For more details see\n",
            "`https://scipy.github.io/devdocs/notebooks/interp_transition_guide.html`\n",
            "\n",
            "  interp_func_2d = interp2d(x2d, y2d, z, kind='linear')\n",
            "<ipython-input-12-5a8baef1b612>:33: DeprecationWarning: `interp2d` is deprecated in SciPy 1.10 and will be removed in SciPy 1.14.0.\n",
            "\n",
            "For legacy code, nearly bug-for-bug compatible replacements are\n",
            "`RectBivariateSpline` on regular grids, and `bisplrep`/`bisplev` for\n",
            "scattered 2D data.\n",
            "\n",
            "In new code, for regular grids use `RegularGridInterpolator` instead.\n",
            "For scattered data, prefer `LinearNDInterpolator` or\n",
            "`CloughTocher2DInterpolator`.\n",
            "\n",
            "For more details see\n",
            "`https://scipy.github.io/devdocs/notebooks/interp_transition_guide.html`\n",
            "\n",
            "  z_new = interp_func_2d(x_new_2d, y_new_2d)\n"
          ]
        },
        {
          "output_type": "display_data",
          "data": {
            "text/plain": [
              "<Figure size 800x600 with 2 Axes>"
            ],
            "image/png": "[encoded data removed]"
          },
          "metadata": {}
        },
        {
          "output_type": "error",
          "ename": "QhullError",
          "evalue": "QH6154 Qhull precision error: Initial simplex is flat (facet 1 is coplanar with the interior point)\n\nWhile executing:  | qhull d Qt Qbb Qc Q12 Qz\nOptions selected for Qhull 2019.1.r 2019/06/21:\n  run-id 1576772694  delaunay  Qtriangulate  Qbbound-last  Qcoplanar-keep\n  Q12-allow-wide  Qz-infinity-point  _pre-merge  _zero-centrum  Qinterior-keep\n  Pgood  _max-width  2  Error-roundoff 2.8e-15  _one-merge 1.9e-14\n  Visible-distance 5.5e-15  U-max-coplanar 5.5e-15  Width-outside 1.1e-14\n  _wide-facet 3.3e-14  _maxoutside 2.2e-14\n\nThe input to qhull appears to be less than 3 dimensional, or a\ncomputation has overflowed.\n\nQhull could not construct a clearly convex simplex from points:\n- p1(v4):     1     1  0.45\n- p3(v3):     1     1     2\n- p2(v2):     2     2   1.8\n- p0(v1):     0     0     0\n\nThe center point is coplanar with a facet, or a vertex is coplanar\nwith a neighboring facet.  The maximum round off error for\ncomputing distances is 2.8e-15.  The center point, facets and distances\nto the center point are as follows:\n\ncenter point        1        1    1.068\n\nfacet p3 p2 p0 distance=    0\nfacet p1 p2 p0 distance=    0\nfacet p1 p3 p0 distance=    0\nfacet p1 p3 p2 distance=    0\n\nThese points either have a maximum or minimum x-coordinate, or\nthey maximize the determinant for k coordinates.  Trial points\nare first selected from points that maximize a coordinate.\n\nThe min and max coordinates for each dimension are:\n  0:         0         2  difference=    2\n  1:         0         2  difference=    2\n  2:         0         2  difference=    2\n\nIf the input should be full dimensional, you have several options that\nmay determine an initial simplex:\n  - use 'QJ'  to joggle the input and make it full dimensional\n  - use 'QbB' to scale the points to the unit cube\n  - use 'QR0' to randomly rotate the input for different maximum points\n  - use 'Qs'  to search all points for the initial simplex\n  - use 'En'  to specify a maximum roundoff error less than 2.8e-15.\n  - trace execution with 'T3' to see the determinant for each point.\n\nIf the input is lower dimensional:\n  - use 'QJ' to joggle the input and make it full dimensional\n  - use 'Qbk:0Bk:0' to delete coordinate k from the input.  You should\n    pick the coordinate with the least range.  The hull will have the\n    correct topology.\n  - determine the flat containing the points, rotate the points\n    into a coordinate plane, and delete the other coordinates.\n  - add one or more points to make the input full dimensional.\n",
          "traceback": [
            "\u001b[0;31m---------------------------------------------------------------------------\u001b[0m",
            "\u001b[0;31mQhullError\u001b[0m                                Traceback (most recent call last)",
            "\u001b[0;32m<ipython-input-12-5a8baef1b612>\u001b[0m in \u001b[0;36m<cell line: 47>\u001b[0;34m()\u001b[0m\n\u001b[1;32m     45\u001b[0m \u001b[0mxi\u001b[0m \u001b[0;34m=\u001b[0m \u001b[0mnp\u001b[0m\u001b[0;34m.\u001b[0m\u001b[0mlinspace\u001b[0m\u001b[0;34m(\u001b[0m\u001b[0;36m0\u001b[0m\u001b[0;34m,\u001b[0m \u001b[0;36m2\u001b[0m\u001b[0;34m,\u001b[0m \u001b[0;36m10\u001b[0m\u001b[0;34m)\u001b[0m\u001b[0;34m\u001b[0m\u001b[0;34m\u001b[0m\u001b[0m\n\u001b[1;32m     46\u001b[0m \u001b[0myi\u001b[0m \u001b[0;34m=\u001b[0m \u001b[0mnp\u001b[0m\u001b[0;34m.\u001b[0m\u001b[0mlinspace\u001b[0m\u001b[0;34m(\u001b[0m\u001b[0;36m0\u001b[0m\u001b[0;34m,\u001b[0m \u001b[0;36m2\u001b[0m\u001b[0;34m,\u001b[0m \u001b[0;36m10\u001b[0m\u001b[0;34m)\u001b[0m\u001b[0;34m\u001b[0m\u001b[0;34m\u001b[0m\u001b[0m\n\u001b[0;32m---> 47\u001b[0;31m \u001b[0mzi\u001b[0m \u001b[0;34m=\u001b[0m \u001b[0mgriddata\u001b[0m\u001b[0;34m(\u001b[0m\u001b[0;34m(\u001b[0m\u001b[0mx2d\u001b[0m\u001b[0;34m.\u001b[0m\u001b[0mflatten\u001b[0m\u001b[0;34m(\u001b[0m\u001b[0;34m)\u001b[0m\u001b[0;34m,\u001b[0m \u001b[0my2d\u001b[0m\u001b[0;34m.\u001b[0m\u001b[0mflatten\u001b[0m\u001b[0;34m(\u001b[0m\u001b[0;34m)\u001b[0m\u001b[0;34m)\u001b[0m\u001b[0;34m,\u001b[0m \u001b[0mz\u001b[0m\u001b[0;34m.\u001b[0m\u001b[0mflatten\u001b[0m\u001b[0;34m(\u001b[0m\u001b[0;34m)\u001b[0m\u001b[0;34m,\u001b[0m \u001b[0;34m(\u001b[0m\u001b[0mxi\u001b[0m\u001b[0;34m[\u001b[0m\u001b[0;32mNone\u001b[0m\u001b[0;34m,\u001b[0m \u001b[0;34m:\u001b[0m\u001b[0;34m]\u001b[0m\u001b[0;34m,\u001b[0m \u001b[0myi\u001b[0m\u001b[0;34m[\u001b[0m\u001b[0;34m:\u001b[0m\u001b[0;34m,\u001b[0m \u001b[0;32mNone\u001b[0m\u001b[0;34m]\u001b[0m\u001b[0;34m)\u001b[0m\u001b[0;34m,\u001b[0m \u001b[0mmethod\u001b[0m\u001b[0;34m=\u001b[0m\u001b[0;34m'linear'\u001b[0m\u001b[0;34m)\u001b[0m\u001b[0;34m\u001b[0m\u001b[0;34m\u001b[0m\u001b[0m\n\u001b[0m\u001b[1;32m     48\u001b[0m \u001b[0;34m\u001b[0m\u001b[0m\n\u001b[1;32m     49\u001b[0m \u001b[0;31m# Plotting griddata interpolation\u001b[0m\u001b[0;34m\u001b[0m\u001b[0;34m\u001b[0m\u001b[0m\n",
            "\u001b[0;32m/usr/local/lib/python3.10/dist-packages/scipy/interpolate/_ndgriddata.py\u001b[0m in \u001b[0;36mgriddata\u001b[0;34m(points, values, xi, method, fill_value, rescale)\u001b[0m\n\u001b[1;32m    321\u001b[0m         \u001b[0;32mreturn\u001b[0m \u001b[0mip\u001b[0m\u001b[0;34m(\u001b[0m\u001b[0mxi\u001b[0m\u001b[0;34m)\u001b[0m\u001b[0;34m\u001b[0m\u001b[0;34m\u001b[0m\u001b[0m\n\u001b[1;32m    322\u001b[0m     \u001b[0;32melif\u001b[0m \u001b[0mmethod\u001b[0m \u001b[0;34m==\u001b[0m \u001b[0;34m'linear'\u001b[0m\u001b[0;34m:\u001b[0m\u001b[0;34m\u001b[0m\u001b[0;34m\u001b[0m\u001b[0m\n\u001b[0;32m--> 323\u001b[0;31m         ip = LinearNDInterpolator(points, values, fill_value=fill_value,\n\u001b[0m\u001b[1;32m    324\u001b[0m                                   rescale=rescale)\n\u001b[1;32m    325\u001b[0m         \u001b[0;32mreturn\u001b[0m \u001b[0mip\u001b[0m\u001b[0;34m(\u001b[0m\u001b[0mxi\u001b[0m\u001b[0;34m)\u001b[0m\u001b[0;34m\u001b[0m\u001b[0;34m\u001b[0m\u001b[0m\n",
            "\u001b[0;32minterpnd.pyx\u001b[0m in \u001b[0;36mscipy.interpolate.interpnd.LinearNDInterpolator.__init__\u001b[0;34m()\u001b[0m\n",
            "\u001b[0;32minterpnd.pyx\u001b[0m in \u001b[0;36mscipy.interpolate.interpnd.NDInterpolatorBase.__init__\u001b[0;34m()\u001b[0m\n",
            "\u001b[0;32minterpnd.pyx\u001b[0m in \u001b[0;36mscipy.interpolate.interpnd.LinearNDInterpolator._calculate_triangulation\u001b[0;34m()\u001b[0m\n",
            "\u001b[0;32m_qhull.pyx\u001b[0m in \u001b[0;36mscipy.spatial._qhull.Delaunay.__init__\u001b[0;34m()\u001b[0m\n",
            "\u001b[0;32m_qhull.pyx\u001b[0m in \u001b[0;36mscipy.spatial._qhull._Qhull.__init__\u001b[0;34m()\u001b[0m\n",
            "\u001b[0;31mQhullError\u001b[0m: QH6154 Qhull precision error: Initial simplex is flat (facet 1 is coplanar with the interior point)\n\nWhile executing:  | qhull d Qt Qbb Qc Q12 Qz\nOptions selected for Qhull 2019.1.r 2019/06/21:\n  run-id 1576772694  delaunay  Qtriangulate  Qbbound-last  Qcoplanar-keep\n  Q12-allow-wide  Qz-infinity-point  _pre-merge  _zero-centrum  Qinterior-keep\n  Pgood  _max-width  2  Error-roundoff 2.8e-15  _one-merge 1.9e-14\n  Visible-distance 5.5e-15  U-max-coplanar 5.5e-15  Width-outside 1.1e-14\n  _wide-facet 3.3e-14  _maxoutside 2.2e-14\n\nThe input to qhull appears to be less than 3 dimensional, or a\ncomputation has overflowed.\n\nQhull could not construct a clearly convex simplex from points:\n- p1(v4):     1     1  0.45\n- p3(v3):     1     1     2\n- p2(v2):     2     2   1.8\n- p0(v1):     0     0     0\n\nThe center point is coplanar with a facet, or a vertex is coplanar\nwith a neighboring facet.  The maximum round off error for\ncomputing distances is 2.8e-15.  The center point, facets and distances\nto the center point are as follows:\n\ncenter point        1        1    1.068\n\nfacet p3 p2 p0 distance=    0\nfacet p1 p2 p0 distance=    0\nfacet p1 p3 p0 distance=    0\nfacet p1 p3 p2 distance=    0\n\nThese points either have a maximum or minimum x-coordinate, or\nthey maximize the determinant for k coordinates.  Trial points\nare first selected from points that maximize a coordinate.\n\nThe min and max coordinates for each dimension are:\n  0:         0         2  difference=    2\n  1:         0         2  difference=    2\n  2:         0         2  difference=    2\n\nIf the input should be full dimensional, you have several options that\nmay determine an initial simplex:\n  - use 'QJ'  to joggle the input and make it full dimensional\n  - use 'QbB' to scale the points to the unit cube\n  - use 'QR0' to randomly rotate the input for different maximum points\n  - use 'Qs'  to search all points for the initial simplex\n  - use 'En'  to specify a maximum roundoff error less than 2.8e-15.\n  - trace execution with 'T3' to see the determinant for each point.\n\nIf the input is lower dimensional:\n  - use 'QJ' to joggle the input and make it full dimensional\n  - use 'Qbk:0Bk:0' to delete coordinate k from the input.  You should\n    pick the coordinate with the least range.  The hull will have the\n    correct topology.\n  - determine the flat containing the points, rotate the points\n    into a coordinate plane, and delete the other coordinates.\n  - add one or more points to make the input full dimensional.\n"
          ]
        }
      ]
    },
    {
      "cell_type": "markdown",
      "source": [],
      "metadata": {
        "id": "RSI2SNeInTKO"
      }
    },
    {
      "cell_type": "markdown",
      "source": [
        "## IO"
      ],
      "metadata": {
        "id": "vw92F6OqnmB2"
      }
    },
    {
      "cell_type": "code",
      "source": [
        "# Import necessary libraries\n",
        "import numpy as np\n",
        "from scipy import io\n",
        "\n",
        "# Example data for saving to a MATLAB file\n",
        "data = {\n",
        "    'array1': np.array([[1, 2, 3], [4, 5, 6]]),\n",
        "    'array2': np.array([1, 2, 3, 4, 5])\n",
        "}\n",
        "\n",
        "# 1. Save data to a MATLAB file\n",
        "io.savemat('example_data.mat', data)\n",
        "print(\"Data saved to 'example_data.mat'.\")\n",
        "\n",
        "# 2. Load MATLAB file\n",
        "loaded_data = io.loadmat('example_data.mat')\n",
        "print(\"Data loaded from 'example_data.mat':\")\n",
        "print(loaded_data)\n",
        "\n",
        "# Create a sample WAV audio file (pure tone)\n",
        "sample_rate = 44100  # Sample rate in Hz\n",
        "t = np.linspace(0, 1, sample_rate)  # Time vector for 1 second\n",
        "frequency = 440  # Frequency of the tone (A4 note)\n",
        "audio_data = 0.5 * np.sin(2 * np.pi * frequency * t)  # Sine wave\n",
        "\n",
        "# 3. Write a WAV audio file\n",
        "io.wavfile.write('example_audio.wav', sample_rate, (audio_data * 32767).astype(np.int16))\n",
        "print(\"Audio written to 'example_audio.wav'.\")\n",
        "\n",
        "# 4. Read the WAV audio file\n",
        "rate, data_read = io.wavfile.read('example_audio.wav')\n",
        "print(f\"Audio read from 'example_audio.wav' with sample rate: {rate} Hz\")\n",
        "print(f\"Data samples: {data_read[:10]}...\")  # Display first 10 samples\n",
        "\n",
        "# 5. Read a Matrix Market file (this requires an existing .mtx file)\n",
        "# For demonstration, we'll assume a file named 'example_matrix.mtx' exists.\n",
        "try:\n",
        "    from scipy.io import mmread\n",
        "    sparse_matrix = mmread('example_matrix.mtx')\n",
        "    print(\"Sparse matrix loaded from 'example_matrix.mtx':\")\n",
        "    print(sparse_matrix)\n",
        "except FileNotFoundError:\n",
        "    print(\"Matrix Market file 'example_matrix.mtx' not found.\")\n"
      ],
      "metadata": {
        "colab": {
          "base_uri": "https://localhost:8080/",
          "height": 528
        },
        "collapsed": true,
        "id": "wu4mDE0km8Xd",
        "outputId": "3d055f3d-958e-40f8-ce1c-d331f0873e93"
      },
      "execution_count": null,
      "outputs": [
        {
          "output_type": "stream",
          "name": "stdout",
          "text": [
            "Data saved to 'example_data.mat'.\n",
            "Data loaded from 'example_data.mat':\n",
            "{'__header__': b'MATLAB 5.0 MAT-file Platform: posix, Created on: Tue Nov  5 04:39:21 2024', '__version__': '1.0', '__globals__': [], 'array1': array([[1, 2, 3],\n",
            "       [4, 5, 6]]), 'array2': array([[1, 2, 3, 4, 5]])}\n",
            "Audio written to 'example_audio.wav'.\n",
            "Audio read from 'example_audio.wav' with sample rate: 44100 Hz\n",
            "Data samples: [   0 1026 2048 3063 4065 5051 6018 6961 7876 8761]...\n"
          ]
        },
        {
          "output_type": "error",
          "ename": "ValueError",
          "evalue": "Line 1: Not a Matrix Market file. Missing banner.",
          "traceback": [
            "\u001b[0;31m---------------------------------------------------------------------------\u001b[0m",
            "\u001b[0;31mValueError\u001b[0m                                Traceback (most recent call last)",
            "\u001b[0;32m<ipython-input-14-30471b2706d8>\u001b[0m in \u001b[0;36m<cell line: 37>\u001b[0;34m()\u001b[0m\n\u001b[1;32m     37\u001b[0m \u001b[0;32mtry\u001b[0m\u001b[0;34m:\u001b[0m\u001b[0;34m\u001b[0m\u001b[0;34m\u001b[0m\u001b[0m\n\u001b[1;32m     38\u001b[0m     \u001b[0;32mfrom\u001b[0m \u001b[0mscipy\u001b[0m\u001b[0;34m.\u001b[0m\u001b[0mio\u001b[0m \u001b[0;32mimport\u001b[0m \u001b[0mmmread\u001b[0m\u001b[0;34m\u001b[0m\u001b[0;34m\u001b[0m\u001b[0m\n\u001b[0;32m---> 39\u001b[0;31m     \u001b[0msparse_matrix\u001b[0m \u001b[0;34m=\u001b[0m \u001b[0mmmread\u001b[0m\u001b[0;34m(\u001b[0m\u001b[0;34m'example_matrix.mtx'\u001b[0m\u001b[0;34m)\u001b[0m\u001b[0;34m\u001b[0m\u001b[0;34m\u001b[0m\u001b[0m\n\u001b[0m\u001b[1;32m     40\u001b[0m     \u001b[0mprint\u001b[0m\u001b[0;34m(\u001b[0m\u001b[0;34m\"Sparse matrix loaded from 'example_matrix.mtx':\"\u001b[0m\u001b[0;34m)\u001b[0m\u001b[0;34m\u001b[0m\u001b[0;34m\u001b[0m\u001b[0m\n\u001b[1;32m     41\u001b[0m     \u001b[0mprint\u001b[0m\u001b[0;34m(\u001b[0m\u001b[0msparse_matrix\u001b[0m\u001b[0;34m)\u001b[0m\u001b[0;34m\u001b[0m\u001b[0;34m\u001b[0m\u001b[0m\n",
            "\u001b[0;32m/usr/local/lib/python3.10/dist-packages/scipy/io/_fast_matrix_market/__init__.py\u001b[0m in \u001b[0;36mmmread\u001b[0;34m(source)\u001b[0m\n\u001b[1;32m    352\u001b[0m \u001b[0;34m\u001b[0m\u001b[0m\n\u001b[1;32m    353\u001b[0m     \"\"\"\n\u001b[0;32m--> 354\u001b[0;31m     \u001b[0mcursor\u001b[0m\u001b[0;34m,\u001b[0m \u001b[0mstream_to_close\u001b[0m \u001b[0;34m=\u001b[0m \u001b[0m_get_read_cursor\u001b[0m\u001b[0;34m(\u001b[0m\u001b[0msource\u001b[0m\u001b[0;34m)\u001b[0m\u001b[0;34m\u001b[0m\u001b[0;34m\u001b[0m\u001b[0m\n\u001b[0m\u001b[1;32m    355\u001b[0m \u001b[0;34m\u001b[0m\u001b[0m\n\u001b[1;32m    356\u001b[0m     \u001b[0;32mif\u001b[0m \u001b[0mcursor\u001b[0m\u001b[0;34m.\u001b[0m\u001b[0mheader\u001b[0m\u001b[0;34m.\u001b[0m\u001b[0mformat\u001b[0m \u001b[0;34m==\u001b[0m \u001b[0;34m\"array\"\u001b[0m\u001b[0;34m:\u001b[0m\u001b[0;34m\u001b[0m\u001b[0;34m\u001b[0m\u001b[0m\n",
            "\u001b[0;32m/usr/local/lib/python3.10/dist-packages/scipy/io/_fast_matrix_market/__init__.py\u001b[0m in \u001b[0;36m_get_read_cursor\u001b[0;34m(source, parallelism)\u001b[0m\n\u001b[1;32m    195\u001b[0m             \u001b[0mret_stream_to_close\u001b[0m \u001b[0;34m=\u001b[0m \u001b[0msource\u001b[0m\u001b[0;34m\u001b[0m\u001b[0;34m\u001b[0m\u001b[0m\n\u001b[1;32m    196\u001b[0m         \u001b[0;32melse\u001b[0m\u001b[0;34m:\u001b[0m\u001b[0;34m\u001b[0m\u001b[0;34m\u001b[0m\u001b[0m\n\u001b[0;32m--> 197\u001b[0;31m             \u001b[0;32mreturn\u001b[0m \u001b[0m_fmm_core\u001b[0m\u001b[0;34m.\u001b[0m\u001b[0mopen_read_file\u001b[0m\u001b[0;34m(\u001b[0m\u001b[0mpath\u001b[0m\u001b[0;34m,\u001b[0m \u001b[0mparallelism\u001b[0m\u001b[0;34m)\u001b[0m\u001b[0;34m,\u001b[0m \u001b[0mret_stream_to_close\u001b[0m\u001b[0;34m\u001b[0m\u001b[0;34m\u001b[0m\u001b[0m\n\u001b[0m\u001b[1;32m    198\u001b[0m \u001b[0;34m\u001b[0m\u001b[0m\n\u001b[1;32m    199\u001b[0m     \u001b[0;31m# Stream object.\u001b[0m\u001b[0;34m\u001b[0m\u001b[0;34m\u001b[0m\u001b[0m\n",
            "\u001b[0;31mValueError\u001b[0m: Line 1: Not a Matrix Market file. Missing banner."
          ]
        }
      ]
    },
    {
      "cell_type": "markdown",
      "source": [
        "## Nump"
      ],
      "metadata": {
        "id": "Y90hNHsBoBNH"
      }
    },
    {
      "cell_type": "code",
      "source": [
        "# Import necessary libraries\n",
        "import numpy as np\n",
        "from scipy import mean, std, var, sum as scipy_sum, prod, dot, cumsum, cumprod\n",
        "\n",
        "# Create a sample array\n",
        "arr = np.array([1, 2, 3, 4, 5])\n",
        "\n",
        "# 1. Computes the mean of an array.\n",
        "scipy_mean = mean(arr)\n",
        "print(\"scipy.mean(arr):\", scipy_mean)\n",
        "\n",
        "# 2. Computes the standard deviation.\n",
        "scipy_std = std(arr)\n",
        "print(\"scipy.std(arr):\", scipy_std)\n",
        "\n",
        "# 3. Computes the variance.\n",
        "scipy_var = var(arr)\n",
        "print(\"scipy.var(arr):\", scipy_var)\n",
        "\n",
        "# 4. Computes the sum of elements in an array.\n",
        "scipy_sum_value = scipy_sum(arr)\n",
        "print(\"scipy.sum(arr):\", scipy_sum_value)\n",
        "\n",
        "# 5. Computes the product of elements in an array.\n",
        "scipy_prod = prod(arr)\n",
        "print(\"scipy.prod(arr):\", scipy_prod)\n",
        "\n",
        "# 6. Computes the dot product of two arrays.\n",
        "arr2 = np.array([6, 7, 8, 9, 10])\n",
        "scipy_dot = dot(arr, arr2)\n",
        "print(\"scipy.dot(arr, arr2):\", scipy_dot)\n",
        "\n",
        "# 7. Computes the cumulative sum of an array.\n",
        "scipy_cumsum = cumsum(arr)\n",
        "print(\"scipy.cumsum(arr):\", scipy_cumsum)\n",
        "\n",
        "# 8. Computes the cumulative product.\n",
        "scipy_cumprod = cumprod(arr)\n",
        "print(\"scipy.cumprod(arr):\", scipy_cumprod)\n",
        "\n"
      ],
      "metadata": {
        "colab": {
          "base_uri": "https://localhost:8080/",
          "height": 394
        },
        "id": "aKfdma4pnnQq",
        "outputId": "e6d41845-c3c4-41ed-85b5-76ec4edd70b3"
      },
      "execution_count": 33,
      "outputs": [
        {
          "output_type": "error",
          "ename": "ImportError",
          "evalue": "cannot import name 'mean' from 'scipy' (/usr/local/lib/python3.10/dist-packages/scipy/__init__.py)",
          "traceback": [
            "\u001b[0;31m---------------------------------------------------------------------------\u001b[0m",
            "\u001b[0;31mImportError\u001b[0m                               Traceback (most recent call last)",
            "\u001b[0;32m<ipython-input-33-2fff102f19cd>\u001b[0m in \u001b[0;36m<cell line: 3>\u001b[0;34m()\u001b[0m\n\u001b[1;32m      1\u001b[0m \u001b[0;31m# Import necessary libraries\u001b[0m\u001b[0;34m\u001b[0m\u001b[0;34m\u001b[0m\u001b[0m\n\u001b[1;32m      2\u001b[0m \u001b[0;32mimport\u001b[0m \u001b[0mnumpy\u001b[0m \u001b[0;32mas\u001b[0m \u001b[0mnp\u001b[0m\u001b[0;34m\u001b[0m\u001b[0;34m\u001b[0m\u001b[0m\n\u001b[0;32m----> 3\u001b[0;31m \u001b[0;32mfrom\u001b[0m \u001b[0mscipy\u001b[0m \u001b[0;32mimport\u001b[0m \u001b[0mmean\u001b[0m\u001b[0;34m,\u001b[0m \u001b[0mstd\u001b[0m\u001b[0;34m,\u001b[0m \u001b[0mvar\u001b[0m\u001b[0;34m,\u001b[0m \u001b[0msum\u001b[0m \u001b[0;32mas\u001b[0m \u001b[0mscipy_sum\u001b[0m\u001b[0;34m,\u001b[0m \u001b[0mprod\u001b[0m\u001b[0;34m,\u001b[0m \u001b[0mdot\u001b[0m\u001b[0;34m,\u001b[0m \u001b[0mcumsum\u001b[0m\u001b[0;34m,\u001b[0m \u001b[0mcumprod\u001b[0m\u001b[0;34m\u001b[0m\u001b[0;34m\u001b[0m\u001b[0m\n\u001b[0m\u001b[1;32m      4\u001b[0m \u001b[0;34m\u001b[0m\u001b[0m\n\u001b[1;32m      5\u001b[0m \u001b[0;31m# Create a sample array\u001b[0m\u001b[0;34m\u001b[0m\u001b[0;34m\u001b[0m\u001b[0m\n",
            "\u001b[0;31mImportError\u001b[0m: cannot import name 'mean' from 'scipy' (/usr/local/lib/python3.10/dist-packages/scipy/__init__.py)",
            "",
            "\u001b[0;31m---------------------------------------------------------------------------\u001b[0;32m\nNOTE: If your import is failing due to a missing package, you can\nmanually install dependencies using either !pip or !apt.\n\nTo view examples of installing some common dependencies, click the\n\"Open Examples\" button below.\n\u001b[0;31m---------------------------------------------------------------------------\u001b[0m\n"
          ],
          "errorDetails": {
            "actions": [
              {
                "action": "open_url",
                "actionText": "Open Examples",
                "url": "/notebooks/snippets/importing_libraries.ipynb"
              }
            ]
          }
        }
      ]
    },
    {
      "cell_type": "code",
      "source": [],
      "metadata": {
        "id": "2sqJ4GW2oD8K"
      },
      "execution_count": null,
      "outputs": []
    }
  ]
}